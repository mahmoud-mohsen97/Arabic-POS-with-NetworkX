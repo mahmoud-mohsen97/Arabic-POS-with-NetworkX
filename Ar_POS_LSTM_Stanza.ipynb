{
  "nbformat": 4,
  "nbformat_minor": 0,
  "metadata": {
    "colab": {
      "provenance": [],
      "collapsed_sections": [
        "Mg3WyZeQuDL6",
        "-hSv9k54uHZA",
        "7ROoKR_ZfgYk",
        "OJLbIbJb5ClK",
        "U-xgf6natj6a",
        "_2i9fqJvHwsl",
        "VNLNa1pNLwv3",
        "pNbp5wxbNhpZ",
        "Z2fybIDNOH0_",
        "yVUY-uJoPYoJ",
        "padN3FIpQQ3b",
        "r501augS00m3",
        "dulqLAEYedpc"
      ],
      "gpuType": "T4"
    },
    "kernelspec": {
      "name": "python3",
      "display_name": "Python 3"
    },
    "language_info": {
      "name": "python"
    },
    "accelerator": "GPU",
    "widgets": {
      "application/vnd.jupyter.widget-state+json": {
        "7acc9e5a79704bf38734f3c38ff0125a": {
          "model_module": "@jupyter-widgets/controls",
          "model_name": "HBoxModel",
          "model_module_version": "1.5.0",
          "state": {
            "_dom_classes": [],
            "_model_module": "@jupyter-widgets/controls",
            "_model_module_version": "1.5.0",
            "_model_name": "HBoxModel",
            "_view_count": null,
            "_view_module": "@jupyter-widgets/controls",
            "_view_module_version": "1.5.0",
            "_view_name": "HBoxView",
            "box_style": "",
            "children": [
              "IPY_MODEL_ce03339345b04511be4d0d58b13a8079",
              "IPY_MODEL_a0a8932d06c14eb4b9eae8b906f06888",
              "IPY_MODEL_89e7d87e6c0f4b6c880e88134ca1ac69"
            ],
            "layout": "IPY_MODEL_94837c9bba8a440cbc03f7c05260c99e"
          }
        },
        "ce03339345b04511be4d0d58b13a8079": {
          "model_module": "@jupyter-widgets/controls",
          "model_name": "HTMLModel",
          "model_module_version": "1.5.0",
          "state": {
            "_dom_classes": [],
            "_model_module": "@jupyter-widgets/controls",
            "_model_module_version": "1.5.0",
            "_model_name": "HTMLModel",
            "_view_count": null,
            "_view_module": "@jupyter-widgets/controls",
            "_view_module_version": "1.5.0",
            "_view_name": "HTMLView",
            "description": "",
            "description_tooltip": null,
            "layout": "IPY_MODEL_0f526779145a4341a29a10c9a2569f88",
            "placeholder": "​",
            "style": "IPY_MODEL_8fe4a0b0936140ff89e6e4236068a44c",
            "value": "Downloading https://raw.githubusercontent.com/stanfordnlp/stanza-resources/main/resources_1.5.0.json: "
          }
        },
        "a0a8932d06c14eb4b9eae8b906f06888": {
          "model_module": "@jupyter-widgets/controls",
          "model_name": "FloatProgressModel",
          "model_module_version": "1.5.0",
          "state": {
            "_dom_classes": [],
            "_model_module": "@jupyter-widgets/controls",
            "_model_module_version": "1.5.0",
            "_model_name": "FloatProgressModel",
            "_view_count": null,
            "_view_module": "@jupyter-widgets/controls",
            "_view_module_version": "1.5.0",
            "_view_name": "ProgressView",
            "bar_style": "success",
            "description": "",
            "description_tooltip": null,
            "layout": "IPY_MODEL_fd4d917bd750455cade6c66df6fd442c",
            "max": 30101,
            "min": 0,
            "orientation": "horizontal",
            "style": "IPY_MODEL_7595652a47f24dcdbaeb1d913b6e562e",
            "value": 30101
          }
        },
        "89e7d87e6c0f4b6c880e88134ca1ac69": {
          "model_module": "@jupyter-widgets/controls",
          "model_name": "HTMLModel",
          "model_module_version": "1.5.0",
          "state": {
            "_dom_classes": [],
            "_model_module": "@jupyter-widgets/controls",
            "_model_module_version": "1.5.0",
            "_model_name": "HTMLModel",
            "_view_count": null,
            "_view_module": "@jupyter-widgets/controls",
            "_view_module_version": "1.5.0",
            "_view_name": "HTMLView",
            "description": "",
            "description_tooltip": null,
            "layout": "IPY_MODEL_f9e9ea4c2fd146feb7fe88477e581d26",
            "placeholder": "​",
            "style": "IPY_MODEL_37f7336c6b3648e3a29eab7192098a4f",
            "value": " 216k/? [00:00&lt;00:00, 7.55MB/s]"
          }
        },
        "94837c9bba8a440cbc03f7c05260c99e": {
          "model_module": "@jupyter-widgets/base",
          "model_name": "LayoutModel",
          "model_module_version": "1.2.0",
          "state": {
            "_model_module": "@jupyter-widgets/base",
            "_model_module_version": "1.2.0",
            "_model_name": "LayoutModel",
            "_view_count": null,
            "_view_module": "@jupyter-widgets/base",
            "_view_module_version": "1.2.0",
            "_view_name": "LayoutView",
            "align_content": null,
            "align_items": null,
            "align_self": null,
            "border": null,
            "bottom": null,
            "display": null,
            "flex": null,
            "flex_flow": null,
            "grid_area": null,
            "grid_auto_columns": null,
            "grid_auto_flow": null,
            "grid_auto_rows": null,
            "grid_column": null,
            "grid_gap": null,
            "grid_row": null,
            "grid_template_areas": null,
            "grid_template_columns": null,
            "grid_template_rows": null,
            "height": null,
            "justify_content": null,
            "justify_items": null,
            "left": null,
            "margin": null,
            "max_height": null,
            "max_width": null,
            "min_height": null,
            "min_width": null,
            "object_fit": null,
            "object_position": null,
            "order": null,
            "overflow": null,
            "overflow_x": null,
            "overflow_y": null,
            "padding": null,
            "right": null,
            "top": null,
            "visibility": null,
            "width": null
          }
        },
        "0f526779145a4341a29a10c9a2569f88": {
          "model_module": "@jupyter-widgets/base",
          "model_name": "LayoutModel",
          "model_module_version": "1.2.0",
          "state": {
            "_model_module": "@jupyter-widgets/base",
            "_model_module_version": "1.2.0",
            "_model_name": "LayoutModel",
            "_view_count": null,
            "_view_module": "@jupyter-widgets/base",
            "_view_module_version": "1.2.0",
            "_view_name": "LayoutView",
            "align_content": null,
            "align_items": null,
            "align_self": null,
            "border": null,
            "bottom": null,
            "display": null,
            "flex": null,
            "flex_flow": null,
            "grid_area": null,
            "grid_auto_columns": null,
            "grid_auto_flow": null,
            "grid_auto_rows": null,
            "grid_column": null,
            "grid_gap": null,
            "grid_row": null,
            "grid_template_areas": null,
            "grid_template_columns": null,
            "grid_template_rows": null,
            "height": null,
            "justify_content": null,
            "justify_items": null,
            "left": null,
            "margin": null,
            "max_height": null,
            "max_width": null,
            "min_height": null,
            "min_width": null,
            "object_fit": null,
            "object_position": null,
            "order": null,
            "overflow": null,
            "overflow_x": null,
            "overflow_y": null,
            "padding": null,
            "right": null,
            "top": null,
            "visibility": null,
            "width": null
          }
        },
        "8fe4a0b0936140ff89e6e4236068a44c": {
          "model_module": "@jupyter-widgets/controls",
          "model_name": "DescriptionStyleModel",
          "model_module_version": "1.5.0",
          "state": {
            "_model_module": "@jupyter-widgets/controls",
            "_model_module_version": "1.5.0",
            "_model_name": "DescriptionStyleModel",
            "_view_count": null,
            "_view_module": "@jupyter-widgets/base",
            "_view_module_version": "1.2.0",
            "_view_name": "StyleView",
            "description_width": ""
          }
        },
        "fd4d917bd750455cade6c66df6fd442c": {
          "model_module": "@jupyter-widgets/base",
          "model_name": "LayoutModel",
          "model_module_version": "1.2.0",
          "state": {
            "_model_module": "@jupyter-widgets/base",
            "_model_module_version": "1.2.0",
            "_model_name": "LayoutModel",
            "_view_count": null,
            "_view_module": "@jupyter-widgets/base",
            "_view_module_version": "1.2.0",
            "_view_name": "LayoutView",
            "align_content": null,
            "align_items": null,
            "align_self": null,
            "border": null,
            "bottom": null,
            "display": null,
            "flex": null,
            "flex_flow": null,
            "grid_area": null,
            "grid_auto_columns": null,
            "grid_auto_flow": null,
            "grid_auto_rows": null,
            "grid_column": null,
            "grid_gap": null,
            "grid_row": null,
            "grid_template_areas": null,
            "grid_template_columns": null,
            "grid_template_rows": null,
            "height": null,
            "justify_content": null,
            "justify_items": null,
            "left": null,
            "margin": null,
            "max_height": null,
            "max_width": null,
            "min_height": null,
            "min_width": null,
            "object_fit": null,
            "object_position": null,
            "order": null,
            "overflow": null,
            "overflow_x": null,
            "overflow_y": null,
            "padding": null,
            "right": null,
            "top": null,
            "visibility": null,
            "width": null
          }
        },
        "7595652a47f24dcdbaeb1d913b6e562e": {
          "model_module": "@jupyter-widgets/controls",
          "model_name": "ProgressStyleModel",
          "model_module_version": "1.5.0",
          "state": {
            "_model_module": "@jupyter-widgets/controls",
            "_model_module_version": "1.5.0",
            "_model_name": "ProgressStyleModel",
            "_view_count": null,
            "_view_module": "@jupyter-widgets/base",
            "_view_module_version": "1.2.0",
            "_view_name": "StyleView",
            "bar_color": null,
            "description_width": ""
          }
        },
        "f9e9ea4c2fd146feb7fe88477e581d26": {
          "model_module": "@jupyter-widgets/base",
          "model_name": "LayoutModel",
          "model_module_version": "1.2.0",
          "state": {
            "_model_module": "@jupyter-widgets/base",
            "_model_module_version": "1.2.0",
            "_model_name": "LayoutModel",
            "_view_count": null,
            "_view_module": "@jupyter-widgets/base",
            "_view_module_version": "1.2.0",
            "_view_name": "LayoutView",
            "align_content": null,
            "align_items": null,
            "align_self": null,
            "border": null,
            "bottom": null,
            "display": null,
            "flex": null,
            "flex_flow": null,
            "grid_area": null,
            "grid_auto_columns": null,
            "grid_auto_flow": null,
            "grid_auto_rows": null,
            "grid_column": null,
            "grid_gap": null,
            "grid_row": null,
            "grid_template_areas": null,
            "grid_template_columns": null,
            "grid_template_rows": null,
            "height": null,
            "justify_content": null,
            "justify_items": null,
            "left": null,
            "margin": null,
            "max_height": null,
            "max_width": null,
            "min_height": null,
            "min_width": null,
            "object_fit": null,
            "object_position": null,
            "order": null,
            "overflow": null,
            "overflow_x": null,
            "overflow_y": null,
            "padding": null,
            "right": null,
            "top": null,
            "visibility": null,
            "width": null
          }
        },
        "37f7336c6b3648e3a29eab7192098a4f": {
          "model_module": "@jupyter-widgets/controls",
          "model_name": "DescriptionStyleModel",
          "model_module_version": "1.5.0",
          "state": {
            "_model_module": "@jupyter-widgets/controls",
            "_model_module_version": "1.5.0",
            "_model_name": "DescriptionStyleModel",
            "_view_count": null,
            "_view_module": "@jupyter-widgets/base",
            "_view_module_version": "1.2.0",
            "_view_name": "StyleView",
            "description_width": ""
          }
        },
        "a3a0aaf4d7834aeaac7fee11a69a98eb": {
          "model_module": "@jupyter-widgets/controls",
          "model_name": "HBoxModel",
          "model_module_version": "1.5.0",
          "state": {
            "_dom_classes": [],
            "_model_module": "@jupyter-widgets/controls",
            "_model_module_version": "1.5.0",
            "_model_name": "HBoxModel",
            "_view_count": null,
            "_view_module": "@jupyter-widgets/controls",
            "_view_module_version": "1.5.0",
            "_view_name": "HBoxView",
            "box_style": "",
            "children": [
              "IPY_MODEL_26b4400ed09f449a93ff5abb4a377d78",
              "IPY_MODEL_cfca5a0bc2394d729485da63a364af14",
              "IPY_MODEL_a6ae6e4b632d4782acbf8eef3c2a1aa7"
            ],
            "layout": "IPY_MODEL_c823212aeecb46fa9acde4bc9c222c9e"
          }
        },
        "26b4400ed09f449a93ff5abb4a377d78": {
          "model_module": "@jupyter-widgets/controls",
          "model_name": "HTMLModel",
          "model_module_version": "1.5.0",
          "state": {
            "_dom_classes": [],
            "_model_module": "@jupyter-widgets/controls",
            "_model_module_version": "1.5.0",
            "_model_name": "HTMLModel",
            "_view_count": null,
            "_view_module": "@jupyter-widgets/controls",
            "_view_module_version": "1.5.0",
            "_view_name": "HTMLView",
            "description": "",
            "description_tooltip": null,
            "layout": "IPY_MODEL_f0a4f357be0544febd4b0c6c0cc37667",
            "placeholder": "​",
            "style": "IPY_MODEL_81069048c0d14e52934b015138791e54",
            "value": "Downloading https://raw.githubusercontent.com/stanfordnlp/stanza-resources/main/resources_1.5.0.json: "
          }
        },
        "cfca5a0bc2394d729485da63a364af14": {
          "model_module": "@jupyter-widgets/controls",
          "model_name": "FloatProgressModel",
          "model_module_version": "1.5.0",
          "state": {
            "_dom_classes": [],
            "_model_module": "@jupyter-widgets/controls",
            "_model_module_version": "1.5.0",
            "_model_name": "FloatProgressModel",
            "_view_count": null,
            "_view_module": "@jupyter-widgets/controls",
            "_view_module_version": "1.5.0",
            "_view_name": "ProgressView",
            "bar_style": "success",
            "description": "",
            "description_tooltip": null,
            "layout": "IPY_MODEL_12f646ba30d04f2bb24e93b41bc0fd39",
            "max": 30101,
            "min": 0,
            "orientation": "horizontal",
            "style": "IPY_MODEL_f148261a2f5c4f9f871631b4c3c3113b",
            "value": 30101
          }
        },
        "a6ae6e4b632d4782acbf8eef3c2a1aa7": {
          "model_module": "@jupyter-widgets/controls",
          "model_name": "HTMLModel",
          "model_module_version": "1.5.0",
          "state": {
            "_dom_classes": [],
            "_model_module": "@jupyter-widgets/controls",
            "_model_module_version": "1.5.0",
            "_model_name": "HTMLModel",
            "_view_count": null,
            "_view_module": "@jupyter-widgets/controls",
            "_view_module_version": "1.5.0",
            "_view_name": "HTMLView",
            "description": "",
            "description_tooltip": null,
            "layout": "IPY_MODEL_10a896cb1943420c925c5562e4dd2458",
            "placeholder": "​",
            "style": "IPY_MODEL_add1983a3333422e84a690a3b3da4b72",
            "value": " 216k/? [00:00&lt;00:00, 10.3MB/s]"
          }
        },
        "c823212aeecb46fa9acde4bc9c222c9e": {
          "model_module": "@jupyter-widgets/base",
          "model_name": "LayoutModel",
          "model_module_version": "1.2.0",
          "state": {
            "_model_module": "@jupyter-widgets/base",
            "_model_module_version": "1.2.0",
            "_model_name": "LayoutModel",
            "_view_count": null,
            "_view_module": "@jupyter-widgets/base",
            "_view_module_version": "1.2.0",
            "_view_name": "LayoutView",
            "align_content": null,
            "align_items": null,
            "align_self": null,
            "border": null,
            "bottom": null,
            "display": null,
            "flex": null,
            "flex_flow": null,
            "grid_area": null,
            "grid_auto_columns": null,
            "grid_auto_flow": null,
            "grid_auto_rows": null,
            "grid_column": null,
            "grid_gap": null,
            "grid_row": null,
            "grid_template_areas": null,
            "grid_template_columns": null,
            "grid_template_rows": null,
            "height": null,
            "justify_content": null,
            "justify_items": null,
            "left": null,
            "margin": null,
            "max_height": null,
            "max_width": null,
            "min_height": null,
            "min_width": null,
            "object_fit": null,
            "object_position": null,
            "order": null,
            "overflow": null,
            "overflow_x": null,
            "overflow_y": null,
            "padding": null,
            "right": null,
            "top": null,
            "visibility": null,
            "width": null
          }
        },
        "f0a4f357be0544febd4b0c6c0cc37667": {
          "model_module": "@jupyter-widgets/base",
          "model_name": "LayoutModel",
          "model_module_version": "1.2.0",
          "state": {
            "_model_module": "@jupyter-widgets/base",
            "_model_module_version": "1.2.0",
            "_model_name": "LayoutModel",
            "_view_count": null,
            "_view_module": "@jupyter-widgets/base",
            "_view_module_version": "1.2.0",
            "_view_name": "LayoutView",
            "align_content": null,
            "align_items": null,
            "align_self": null,
            "border": null,
            "bottom": null,
            "display": null,
            "flex": null,
            "flex_flow": null,
            "grid_area": null,
            "grid_auto_columns": null,
            "grid_auto_flow": null,
            "grid_auto_rows": null,
            "grid_column": null,
            "grid_gap": null,
            "grid_row": null,
            "grid_template_areas": null,
            "grid_template_columns": null,
            "grid_template_rows": null,
            "height": null,
            "justify_content": null,
            "justify_items": null,
            "left": null,
            "margin": null,
            "max_height": null,
            "max_width": null,
            "min_height": null,
            "min_width": null,
            "object_fit": null,
            "object_position": null,
            "order": null,
            "overflow": null,
            "overflow_x": null,
            "overflow_y": null,
            "padding": null,
            "right": null,
            "top": null,
            "visibility": null,
            "width": null
          }
        },
        "81069048c0d14e52934b015138791e54": {
          "model_module": "@jupyter-widgets/controls",
          "model_name": "DescriptionStyleModel",
          "model_module_version": "1.5.0",
          "state": {
            "_model_module": "@jupyter-widgets/controls",
            "_model_module_version": "1.5.0",
            "_model_name": "DescriptionStyleModel",
            "_view_count": null,
            "_view_module": "@jupyter-widgets/base",
            "_view_module_version": "1.2.0",
            "_view_name": "StyleView",
            "description_width": ""
          }
        },
        "12f646ba30d04f2bb24e93b41bc0fd39": {
          "model_module": "@jupyter-widgets/base",
          "model_name": "LayoutModel",
          "model_module_version": "1.2.0",
          "state": {
            "_model_module": "@jupyter-widgets/base",
            "_model_module_version": "1.2.0",
            "_model_name": "LayoutModel",
            "_view_count": null,
            "_view_module": "@jupyter-widgets/base",
            "_view_module_version": "1.2.0",
            "_view_name": "LayoutView",
            "align_content": null,
            "align_items": null,
            "align_self": null,
            "border": null,
            "bottom": null,
            "display": null,
            "flex": null,
            "flex_flow": null,
            "grid_area": null,
            "grid_auto_columns": null,
            "grid_auto_flow": null,
            "grid_auto_rows": null,
            "grid_column": null,
            "grid_gap": null,
            "grid_row": null,
            "grid_template_areas": null,
            "grid_template_columns": null,
            "grid_template_rows": null,
            "height": null,
            "justify_content": null,
            "justify_items": null,
            "left": null,
            "margin": null,
            "max_height": null,
            "max_width": null,
            "min_height": null,
            "min_width": null,
            "object_fit": null,
            "object_position": null,
            "order": null,
            "overflow": null,
            "overflow_x": null,
            "overflow_y": null,
            "padding": null,
            "right": null,
            "top": null,
            "visibility": null,
            "width": null
          }
        },
        "f148261a2f5c4f9f871631b4c3c3113b": {
          "model_module": "@jupyter-widgets/controls",
          "model_name": "ProgressStyleModel",
          "model_module_version": "1.5.0",
          "state": {
            "_model_module": "@jupyter-widgets/controls",
            "_model_module_version": "1.5.0",
            "_model_name": "ProgressStyleModel",
            "_view_count": null,
            "_view_module": "@jupyter-widgets/base",
            "_view_module_version": "1.2.0",
            "_view_name": "StyleView",
            "bar_color": null,
            "description_width": ""
          }
        },
        "10a896cb1943420c925c5562e4dd2458": {
          "model_module": "@jupyter-widgets/base",
          "model_name": "LayoutModel",
          "model_module_version": "1.2.0",
          "state": {
            "_model_module": "@jupyter-widgets/base",
            "_model_module_version": "1.2.0",
            "_model_name": "LayoutModel",
            "_view_count": null,
            "_view_module": "@jupyter-widgets/base",
            "_view_module_version": "1.2.0",
            "_view_name": "LayoutView",
            "align_content": null,
            "align_items": null,
            "align_self": null,
            "border": null,
            "bottom": null,
            "display": null,
            "flex": null,
            "flex_flow": null,
            "grid_area": null,
            "grid_auto_columns": null,
            "grid_auto_flow": null,
            "grid_auto_rows": null,
            "grid_column": null,
            "grid_gap": null,
            "grid_row": null,
            "grid_template_areas": null,
            "grid_template_columns": null,
            "grid_template_rows": null,
            "height": null,
            "justify_content": null,
            "justify_items": null,
            "left": null,
            "margin": null,
            "max_height": null,
            "max_width": null,
            "min_height": null,
            "min_width": null,
            "object_fit": null,
            "object_position": null,
            "order": null,
            "overflow": null,
            "overflow_x": null,
            "overflow_y": null,
            "padding": null,
            "right": null,
            "top": null,
            "visibility": null,
            "width": null
          }
        },
        "add1983a3333422e84a690a3b3da4b72": {
          "model_module": "@jupyter-widgets/controls",
          "model_name": "DescriptionStyleModel",
          "model_module_version": "1.5.0",
          "state": {
            "_model_module": "@jupyter-widgets/controls",
            "_model_module_version": "1.5.0",
            "_model_name": "DescriptionStyleModel",
            "_view_count": null,
            "_view_module": "@jupyter-widgets/base",
            "_view_module_version": "1.2.0",
            "_view_name": "StyleView",
            "description_width": ""
          }
        }
      }
    }
  },
  "cells": [
    {
      "cell_type": "markdown",
      "source": [
        "# Problem Statement\n",
        "The process of classifying words into their parts of speech and labeling them accordingly their grammatical categories. These tags are then used to build relationships and connections between words in the NetworkX graph."
      ],
      "metadata": {
        "id": "Bqi5kilYeFm7"
      }
    },
    {
      "cell_type": "markdown",
      "source": [
        "**Table of Content**\n",
        "\n",
        "*   Imports\n",
        "*   Data Preprocessing\n",
        "*   POS Tagging\n",
        "\n",
        "> *   Approach 1 : Stanford NLP\n",
        "*   Approach 1 : Bidirectional LSTM\n",
        "* Evaluate the POS Tagger\n",
        "\n",
        "\n",
        "*   NetworkX Representation\n",
        "\n",
        "\n",
        "\n"
      ],
      "metadata": {
        "id": "e2QZT4Htd_kS"
      }
    },
    {
      "cell_type": "markdown",
      "source": [
        "# Imports"
      ],
      "metadata": {
        "id": "Mg3WyZeQuDL6"
      }
    },
    {
      "cell_type": "code",
      "source": [
        "!pip install conllu"
      ],
      "metadata": {
        "colab": {
          "base_uri": "https://localhost:8080/"
        },
        "id": "IAc95yYkIDH5",
        "outputId": "300f605f-6b1d-4fe3-e428-adb9357ee0f9"
      },
      "execution_count": 1,
      "outputs": [
        {
          "output_type": "stream",
          "name": "stdout",
          "text": [
            "Collecting conllu\n",
            "  Downloading conllu-4.5.3-py2.py3-none-any.whl (16 kB)\n",
            "Installing collected packages: conllu\n",
            "Successfully installed conllu-4.5.3\n"
          ]
        }
      ]
    },
    {
      "cell_type": "code",
      "source": [
        "!pip install arabic-reshaper python-bidi"
      ],
      "metadata": {
        "id": "mS_HUzkHRIua"
      },
      "execution_count": null,
      "outputs": []
    },
    {
      "cell_type": "code",
      "source": [
        "import conllu\n",
        "import matplotlib.pyplot as plt\n",
        "import pandas as pd\n",
        "import re\n",
        "import seaborn as sns\n",
        "import numpy as np\n",
        "import networkx as nx\n",
        "import matplotlib.pyplot as plt\n",
        "import arabic_reshaper\n",
        "from bidi.algorithm import get_display\n",
        "\n",
        "#encode the corpus to numbers\n",
        "import tensorflow as tf\n",
        "from keras.preprocessing.text import Tokenizer\n",
        "from tensorflow.keras.preprocessing.sequence import pad_sequences\n",
        "import gensim\n",
        "\n",
        "\n",
        "#build the lstm\n",
        "from keras.models import Sequential\n",
        "from keras.layers import Dense\n",
        "from keras.layers import Embedding\n",
        "from keras.layers import Bidirectional\n",
        "from keras.layers import LSTM\n",
        "from keras.layers import TimeDistributed\n",
        "from keras.layers import InputLayer\n",
        "\n",
        "#performance evaluation\n",
        "from sklearn import metrics\n",
        "from sklearn.metrics import multilabel_confusion_matrix\n",
        "#save model\n",
        "from tensorflow.keras.models import Model\n",
        "from tensorflow.keras.models import load_model"
      ],
      "metadata": {
        "id": "E8ft64jOlQDX"
      },
      "execution_count": 79,
      "outputs": []
    },
    {
      "cell_type": "markdown",
      "source": [
        "# Data Preprocessing"
      ],
      "metadata": {
        "id": "-hSv9k54uHZA"
      }
    },
    {
      "cell_type": "markdown",
      "source": [
        "**Apply Preprocessing steps:**\n",
        "\n",
        "1. remove numbers ( Arabic & English )\n",
        "\n",
        "2. remove urls ( dependent on english chars )\n",
        "\n",
        "3. remove english words\n",
        "\n",
        "4. remove diacritics and tashkeel\n",
        "\n",
        "5. normalize Charchters\n",
        "\n",
        "6. remove special_chars\n",
        "\n",
        "7. remove punctuation\n",
        "\n",
        "8. whitespaces -> last thing\n",
        "\n",
        "9. repeated charachters"
      ],
      "metadata": {
        "id": "7ROoKR_ZfgYk"
      }
    },
    {
      "cell_type": "code",
      "source": [
        "def remove_numbers(text):\n",
        "    # Replace Arabic numbers with empty string\n",
        "    clean_text = re.sub(r'[٠١٢٣٤٥٦٧٨٩]', '', text)\n",
        "    # Replace English numbers with empty string\n",
        "    clean_text = re.sub(r'\\d+', '', clean_text)\n",
        "    return clean_text\n",
        "\n",
        "raw_text = \"٣٣ هاي 2023\"\n",
        "preprocessed_text = remove_numbers(raw_text)\n",
        "\n",
        "print(f'Before: {raw_text}')\n",
        "print(f'After : {preprocessed_text}')"
      ],
      "metadata": {
        "colab": {
          "base_uri": "https://localhost:8080/"
        },
        "id": "euZlZpUMkUt5",
        "outputId": "8f8bbed0-7249-412b-bf4b-cdafd7ec50a7"
      },
      "execution_count": 13,
      "outputs": [
        {
          "output_type": "stream",
          "name": "stdout",
          "text": [
            "Before: ٣٣ هاي 2023\n",
            "After :  هاي \n"
          ]
        }
      ]
    },
    {
      "cell_type": "code",
      "source": [
        "def remove_links(text):\n",
        "  URL_REGEXES = [\n",
        "    r\"(http(s)?:\\/\\/.)?(www\\.)?[-a-zA-Z0-9@:%._\\+~#=]{2,256}\\.[a-z]{2,6}\\b([-a-zA-Z0-9@:%_\\+.~#?&//=]*)\",\n",
        "    r\"@(https?|ftp)://(-\\.)?([^\\s/?\\.#-]+\\.?)+(/[^\\s]*)?$@iS\",\n",
        "    r\"http[s]?://[a-zA-Z0-9_\\-./~\\?=%&]+\",\n",
        "    r\"www[a-zA-Z0-9_\\-?=%&/.~]+\",\n",
        "    r\"[a-zA-Z]+\\.com\",\n",
        "    r\"(?=http)[^\\s]+\",\n",
        "    r\"(?=www)[^\\s]+\",\n",
        "    r\"://\",\n",
        "  ]\n",
        "\n",
        "  for reg in URL_REGEXES:\n",
        "    text = re.sub(reg, '', text)\n",
        "  return text\n",
        "\n",
        "raw_text = \"النكتة حلوة، بس هو مكانش عامل فولو ليه أصلا https://t.co/6lmlpseLk4\twww.google.com\"\n",
        "preprocessed_text = remove_links(raw_text)\n",
        "\n",
        "print(f'Before: {raw_text}')\n",
        "print(f'After : {preprocessed_text}')"
      ],
      "metadata": {
        "colab": {
          "base_uri": "https://localhost:8080/"
        },
        "id": "tIjWpQdCkb11",
        "outputId": "978a4184-e97a-4cb9-ab62-0eabb8c07af4"
      },
      "execution_count": 14,
      "outputs": [
        {
          "output_type": "stream",
          "name": "stdout",
          "text": [
            "Before: النكتة حلوة، بس هو مكانش عامل فولو ليه أصلا https://t.co/6lmlpseLk4\twww.google.com\n",
            "After : النكتة حلوة، بس هو مكانش عامل فولو ليه أصلا \t\n"
          ]
        }
      ]
    },
    {
      "cell_type": "code",
      "source": [
        "def remove_english(text):\n",
        "    english_pattern = re.compile(r'[a-zA-Z]+')\n",
        "    cleaned_text = re.sub(english_pattern, '', text)\n",
        "    return cleaned_text\n",
        "\n",
        "raw_text = \"LeloSherif وانتي طيبة ي احلى لارا يا ملكة تويتر \\nيارب انا وانتي حبيبتي الله يسعدك \t\"\n",
        "preprocessed_text = remove_english(raw_text)\n",
        "\n",
        "print(f'Before: {raw_text}')\n",
        "print(f'After : {preprocessed_text}')"
      ],
      "metadata": {
        "colab": {
          "base_uri": "https://localhost:8080/"
        },
        "id": "Z4NYQiH9kfSp",
        "outputId": "e3116dfd-3313-487d-a5a8-dc1d1ae2d396"
      },
      "execution_count": 15,
      "outputs": [
        {
          "output_type": "stream",
          "name": "stdout",
          "text": [
            "Before: LeloSherif وانتي طيبة ي احلى لارا يا ملكة تويتر \n",
            "يارب انا وانتي حبيبتي الله يسعدك \t\n",
            "After :  وانتي طيبة ي احلى لارا يا ملكة تويتر \n",
            "يارب انا وانتي حبيبتي الله يسعدك \t\n"
          ]
        }
      ]
    },
    {
      "cell_type": "code",
      "source": [
        "def remove_diacritics(text):\n",
        "    arabic_diacritics = re.compile(\"\"\"\n",
        "                             ّ    | # Tashdid\n",
        "                             َ    | # Fatha\n",
        "                             ً    | # Tanwin Fath\n",
        "                             ُ    | # Damma\n",
        "                             ٌ    | # Tanwin Damm\n",
        "                             ِ    | # Kasra\n",
        "                             ٍ    | # Tanwin Kasr\n",
        "                             ْ    | # Sukun\n",
        "                            ـ    | # Tatwil/Kashida\n",
        "                         \"\"\", re.VERBOSE)\n",
        "    return re.sub(arabic_diacritics, '', text)\n",
        "\n",
        "raw_text = \"الــبسملة : ( بِسْمِ اللَّـهِ الرَّحْمَـٰنِ الرَّحِيمِ )\"\n",
        "preprocessed_text = remove_diacritics(raw_text)\n",
        "\n",
        "print(f'Before: {raw_text}')\n",
        "print(f'After : {preprocessed_text}')"
      ],
      "metadata": {
        "colab": {
          "base_uri": "https://localhost:8080/"
        },
        "id": "6xvywdqykiql",
        "outputId": "460e11dc-ec55-45d9-aea9-936a5db4129b"
      },
      "execution_count": 16,
      "outputs": [
        {
          "output_type": "stream",
          "name": "stdout",
          "text": [
            "Before: الــبسملة : ( بِسْمِ اللَّـهِ الرَّحْمَـٰنِ الرَّحِيمِ )\n",
            "After : البسملة : ( بسم الله الرحمٰن الرحيم )\n"
          ]
        }
      ]
    },
    {
      "cell_type": "code",
      "source": [
        "def normalize_chars(text):\n",
        "    preprocessed_text = re.sub(\"[إأآا]\", \"ا\", text)\n",
        "    preprocessed_text = re.sub(\"ى\", \"ي\", preprocessed_text)\n",
        "    preprocessed_text = re.sub(\"ؤ\", \"ء\", preprocessed_text)\n",
        "    preprocessed_text = re.sub(\"ئ\", \"ء\", preprocessed_text)\n",
        "    preprocessed_text = re.sub(\"ة\", \"ه\", preprocessed_text)\n",
        "    preprocessed_text = re.sub(\"گ\", \"ك\", preprocessed_text)\n",
        "    preprocessed_text = re.sub(\"ڤ\", \"ف\", preprocessed_text)\n",
        "    preprocessed_text = re.sub(\"چ\", \"ج\", preprocessed_text)\n",
        "    preprocessed_text = re.sub(\"ژ\", \"ز\", preprocessed_text)\n",
        "    preprocessed_text = re.sub(\"پ\", \"ب\", preprocessed_text)\n",
        "    return preprocessed_text\n",
        "\n",
        "raw_text = \"ى آ ؤ ئ هيا\"\n",
        "preprocessed_text = normalize_chars(raw_text)\n",
        "\n",
        "print(f'Before: {raw_text}')\n",
        "print(f'After : {preprocessed_text}')"
      ],
      "metadata": {
        "colab": {
          "base_uri": "https://localhost:8080/"
        },
        "id": "dvDwSuuxkmXk",
        "outputId": "e1068fe8-79c3-404c-c64c-b4641ad3f365"
      },
      "execution_count": 17,
      "outputs": [
        {
          "output_type": "stream",
          "name": "stdout",
          "text": [
            "Before: ى آ ؤ ئ هيا\n",
            "After : ي ا ء ء هيا\n"
          ]
        }
      ]
    },
    {
      "cell_type": "code",
      "source": [
        "def remove_special_chars(text):\n",
        "  '''\n",
        "   The regular expression r'[^\\u0600-\\u06FF\\u0750-\\u077F\\u08A0-\\u08FF\\d\\s]+'\n",
        "    matches any characters that are not in the specified range of\n",
        "    Arabic Unicode characters (\\u0600-\\u06FF, \\u0750-\\u077F, and \\u08A0-\\u08FF),\n",
        "    digits (\\d), or whitespace (\\s).\n",
        "  '''\n",
        "  special_chars_pattern = re.compile(r'[^\\u0600-\\u06FF\\u0750-\\u077F\\u08A0-\\u08FF\\d# ]+')\n",
        "\n",
        "  cleaned_text = re.sub(special_chars_pattern, ' ', text)\n",
        "  return cleaned_text\n",
        "\n",
        "raw_text = \" مرحيا ðŸŒŽðŸŒ·\"\n",
        "preprocessed_text = remove_special_chars(raw_text)\n",
        "\n",
        "print(f'Before: {raw_text}')\n",
        "print(f'After : {preprocessed_text}')"
      ],
      "metadata": {
        "colab": {
          "base_uri": "https://localhost:8080/"
        },
        "id": "wt51HcV1kq8K",
        "outputId": "cd2f84f4-4055-4802-9b8e-92f5b0c5a200"
      },
      "execution_count": 18,
      "outputs": [
        {
          "output_type": "stream",
          "name": "stdout",
          "text": [
            "Before:  مرحيا ðŸŒŽðŸŒ·\n",
            "After :  مرحيا  \n"
          ]
        }
      ]
    },
    {
      "cell_type": "code",
      "source": [
        "def remove_punctuation(text):\n",
        "  pun = r\"([!\\\"#$%\\'\\*\\+,\\.:;\\-<=·>?@\\^_ـ`{\\|}~—٪’،؟`୍“؛”ۚ【»؛\\s+«–…‘])\"\n",
        "  cleaned_text = re.sub(pun, ' ', text)\n",
        "  return cleaned_text\n",
        "\n",
        "# raw_text = \"نسيت خبركم: طار #السبهان_هي\"\n",
        "raw_text = \"   #تبيلس \\n #الوكر_بيشجع_الفولورز\\n #المواكيس_وفولورز_ببلاش\\n#زعيم_تويتر_هيزودك\"\n",
        "preprocessed_text = remove_punctuation(raw_text)\n",
        "\n",
        "print(f'Before: {raw_text}')\n",
        "print(f'After : {preprocessed_text}')\n"
      ],
      "metadata": {
        "colab": {
          "base_uri": "https://localhost:8080/"
        },
        "id": "GzbzGlrqkufA",
        "outputId": "3e2129ec-4d3f-4990-dd42-01273ecca07e"
      },
      "execution_count": 19,
      "outputs": [
        {
          "output_type": "stream",
          "name": "stdout",
          "text": [
            "Before:    #تبيلس \n",
            " #الوكر_بيشجع_الفولورز\n",
            " #المواكيس_وفولورز_ببلاش\n",
            "#زعيم_تويتر_هيزودك\n",
            "After :     تبيلس    الوكر بيشجع الفولورز   المواكيس وفولورز ببلاش  زعيم تويتر هيزودك\n"
          ]
        }
      ]
    },
    {
      "cell_type": "code",
      "source": [
        "def remove_extra_whitespaces(text):\n",
        "    clean_text = re.sub(r'\\s+', ' ', text)\n",
        "    return clean_text.strip()\n",
        "\n",
        "raw_text = \"السلام عليكم    علـيـكم   \"\n",
        "preprocessed_text = remove_extra_whitespaces(raw_text)\n",
        "\n",
        "print(f'Before: {raw_text}')\n",
        "print(f'After : {preprocessed_text}')"
      ],
      "metadata": {
        "colab": {
          "base_uri": "https://localhost:8080/"
        },
        "id": "cAuJjL-RkyhH",
        "outputId": "0cce988e-fa31-4dcb-e04d-19ab56ac431d"
      },
      "execution_count": 20,
      "outputs": [
        {
          "output_type": "stream",
          "name": "stdout",
          "text": [
            "Before: السلام عليكم    علـيـكم   \n",
            "After : السلام عليكم علـيـكم\n"
          ]
        }
      ]
    },
    {
      "cell_type": "code",
      "source": [
        "def remove_repeated_chars(text):\n",
        "    pattern = re.compile(r\"(.)\\1{2,}\")\n",
        "    clean_text = pattern.sub(r\"\\1\\1\", text)\n",
        "    return clean_text\n",
        "\n",
        "raw_text = \" اللللي بتااااااااااااااع  اللله اناااااااا \"\n",
        "preprocessed_text = remove_repeated_chars(raw_text)\n",
        "\n",
        "print(f'Before: {raw_text}')\n",
        "print(f'After : {preprocessed_text}')"
      ],
      "metadata": {
        "colab": {
          "base_uri": "https://localhost:8080/"
        },
        "id": "ppYmYbjKlAND",
        "outputId": "ed039ed3-aef4-4fc8-f613-d325a0481ca8"
      },
      "execution_count": 21,
      "outputs": [
        {
          "output_type": "stream",
          "name": "stdout",
          "text": [
            "Before:  اللللي بتااااااااااااااع  اللله اناااااااا \n",
            "After :  اللي بتااع  الله اناا \n"
          ]
        }
      ]
    },
    {
      "cell_type": "code",
      "source": [
        "def Pre_Processing(text):\n",
        "\n",
        "  #numbers\n",
        "  text = remove_numbers(text)\n",
        "\n",
        "  #links\n",
        "  text = remove_links(text)\n",
        "\n",
        "  # English\n",
        "  text= remove_english(text)\n",
        "\n",
        "  #tashkel\n",
        "  text=remove_diacritics(text)\n",
        "\n",
        "  #normalizeChars\n",
        "  text=normalize_chars(text)\n",
        "\n",
        "  # special chars\n",
        "  text=remove_special_chars(text)\n",
        "\n",
        "  # punctuation\n",
        "  text=remove_punctuation(text)\n",
        "\n",
        "  #white_space\n",
        "  text = remove_extra_whitespaces(text)\n",
        "\n",
        "  #repeated charachters\n",
        "  text = remove_repeated_chars(text)\n",
        "\n",
        "  return text"
      ],
      "metadata": {
        "id": "zR8DSiEcgMzO"
      },
      "execution_count": 22,
      "outputs": []
    },
    {
      "cell_type": "markdown",
      "source": [
        "# POS Tagging"
      ],
      "metadata": {
        "id": "pTtjb4HneXJE"
      }
    },
    {
      "cell_type": "markdown",
      "source": [
        "## Approach 1 : Stanza\n",
        "Stanza (formerly known as StanfordNLP) is a Python library developed by Stanford that provides state-of-the-art pre-trained models for a variety of natural language processing tasks, including POS tagging. Stanza is known for its easy integration and high-quality linguistic annotations."
      ],
      "metadata": {
        "id": "OJLbIbJb5ClK"
      }
    },
    {
      "cell_type": "code",
      "source": [
        "!pip install stanza"
      ],
      "metadata": {
        "colab": {
          "base_uri": "https://localhost:8080/"
        },
        "id": "GPLinHglzR6p",
        "outputId": "717709d7-a13a-4861-f8a2-383ad8db4ddc"
      },
      "execution_count": 53,
      "outputs": [
        {
          "output_type": "stream",
          "name": "stdout",
          "text": [
            "Requirement already satisfied: stanza in /usr/local/lib/python3.10/dist-packages (1.5.0)\n",
            "Requirement already satisfied: emoji in /usr/local/lib/python3.10/dist-packages (from stanza) (2.7.0)\n",
            "Requirement already satisfied: numpy in /usr/local/lib/python3.10/dist-packages (from stanza) (1.23.5)\n",
            "Requirement already satisfied: protobuf in /usr/local/lib/python3.10/dist-packages (from stanza) (3.20.3)\n",
            "Requirement already satisfied: requests in /usr/local/lib/python3.10/dist-packages (from stanza) (2.31.0)\n",
            "Requirement already satisfied: six in /usr/local/lib/python3.10/dist-packages (from stanza) (1.16.0)\n",
            "Requirement already satisfied: torch>=1.3.0 in /usr/local/lib/python3.10/dist-packages (from stanza) (2.0.1+cu118)\n",
            "Requirement already satisfied: tqdm in /usr/local/lib/python3.10/dist-packages (from stanza) (4.66.0)\n",
            "Requirement already satisfied: filelock in /usr/local/lib/python3.10/dist-packages (from torch>=1.3.0->stanza) (3.12.2)\n",
            "Requirement already satisfied: typing-extensions in /usr/local/lib/python3.10/dist-packages (from torch>=1.3.0->stanza) (4.7.1)\n",
            "Requirement already satisfied: sympy in /usr/local/lib/python3.10/dist-packages (from torch>=1.3.0->stanza) (1.12)\n",
            "Requirement already satisfied: networkx in /usr/local/lib/python3.10/dist-packages (from torch>=1.3.0->stanza) (3.1)\n",
            "Requirement already satisfied: jinja2 in /usr/local/lib/python3.10/dist-packages (from torch>=1.3.0->stanza) (3.1.2)\n",
            "Requirement already satisfied: triton==2.0.0 in /usr/local/lib/python3.10/dist-packages (from torch>=1.3.0->stanza) (2.0.0)\n",
            "Requirement already satisfied: cmake in /usr/local/lib/python3.10/dist-packages (from triton==2.0.0->torch>=1.3.0->stanza) (3.27.1)\n",
            "Requirement already satisfied: lit in /usr/local/lib/python3.10/dist-packages (from triton==2.0.0->torch>=1.3.0->stanza) (16.0.6)\n",
            "Requirement already satisfied: charset-normalizer<4,>=2 in /usr/local/lib/python3.10/dist-packages (from requests->stanza) (3.2.0)\n",
            "Requirement already satisfied: idna<4,>=2.5 in /usr/local/lib/python3.10/dist-packages (from requests->stanza) (3.4)\n",
            "Requirement already satisfied: urllib3<3,>=1.21.1 in /usr/local/lib/python3.10/dist-packages (from requests->stanza) (2.0.4)\n",
            "Requirement already satisfied: certifi>=2017.4.17 in /usr/local/lib/python3.10/dist-packages (from requests->stanza) (2023.7.22)\n",
            "Requirement already satisfied: MarkupSafe>=2.0 in /usr/local/lib/python3.10/dist-packages (from jinja2->torch>=1.3.0->stanza) (2.1.3)\n",
            "Requirement already satisfied: mpmath>=0.19 in /usr/local/lib/python3.10/dist-packages (from sympy->torch>=1.3.0->stanza) (1.3.0)\n"
          ]
        }
      ]
    },
    {
      "cell_type": "code",
      "source": [
        "import stanza\n",
        "print(stanza.__version__)\n",
        "\n",
        "stanza.download('ar')\n",
        "\n",
        "# Initialize the stanza Arabic pipeline for POS tagging\n",
        "nlp = stanza.Pipeline(\"ar\", processors=\"tokenize,pos\")"
      ],
      "metadata": {
        "colab": {
          "base_uri": "https://localhost:8080/",
          "height": 448,
          "referenced_widgets": [
            "7acc9e5a79704bf38734f3c38ff0125a",
            "ce03339345b04511be4d0d58b13a8079",
            "a0a8932d06c14eb4b9eae8b906f06888",
            "89e7d87e6c0f4b6c880e88134ca1ac69",
            "94837c9bba8a440cbc03f7c05260c99e",
            "0f526779145a4341a29a10c9a2569f88",
            "8fe4a0b0936140ff89e6e4236068a44c",
            "fd4d917bd750455cade6c66df6fd442c",
            "7595652a47f24dcdbaeb1d913b6e562e",
            "f9e9ea4c2fd146feb7fe88477e581d26",
            "37f7336c6b3648e3a29eab7192098a4f",
            "a3a0aaf4d7834aeaac7fee11a69a98eb",
            "26b4400ed09f449a93ff5abb4a377d78",
            "cfca5a0bc2394d729485da63a364af14",
            "a6ae6e4b632d4782acbf8eef3c2a1aa7",
            "c823212aeecb46fa9acde4bc9c222c9e",
            "f0a4f357be0544febd4b0c6c0cc37667",
            "81069048c0d14e52934b015138791e54",
            "12f646ba30d04f2bb24e93b41bc0fd39",
            "f148261a2f5c4f9f871631b4c3c3113b",
            "10a896cb1943420c925c5562e4dd2458",
            "add1983a3333422e84a690a3b3da4b72"
          ]
        },
        "id": "L5tOELC6p_X2",
        "outputId": "100be24f-03c6-4eec-d8d7-f276734beb49"
      },
      "execution_count": 55,
      "outputs": [
        {
          "output_type": "stream",
          "name": "stdout",
          "text": [
            "1.5.0\n"
          ]
        },
        {
          "output_type": "display_data",
          "data": {
            "text/plain": [
              "Downloading https://raw.githubusercontent.com/stanfordnlp/stanza-resources/main/resources_1.5.0.json:   0%|   …"
            ],
            "application/vnd.jupyter.widget-view+json": {
              "version_major": 2,
              "version_minor": 0,
              "model_id": "7acc9e5a79704bf38734f3c38ff0125a"
            }
          },
          "metadata": {}
        },
        {
          "output_type": "stream",
          "name": "stderr",
          "text": [
            "INFO:stanza:Downloading default packages for language: ar (Arabic) ...\n",
            "INFO:stanza:File exists: /root/stanza_resources/ar/default.zip\n",
            "INFO:stanza:Finished downloading models and saved to /root/stanza_resources.\n",
            "INFO:stanza:Checking for updates to resources.json in case models have been updated.  Note: this behavior can be turned off with download_method=None or download_method=DownloadMethod.REUSE_RESOURCES\n"
          ]
        },
        {
          "output_type": "display_data",
          "data": {
            "text/plain": [
              "Downloading https://raw.githubusercontent.com/stanfordnlp/stanza-resources/main/resources_1.5.0.json:   0%|   …"
            ],
            "application/vnd.jupyter.widget-view+json": {
              "version_major": 2,
              "version_minor": 0,
              "model_id": "a3a0aaf4d7834aeaac7fee11a69a98eb"
            }
          },
          "metadata": {}
        },
        {
          "output_type": "stream",
          "name": "stderr",
          "text": [
            "WARNING:stanza:Language ar package default expects mwt, which has been added\n",
            "INFO:stanza:Loading these models for language: ar (Arabic):\n",
            "=======================\n",
            "| Processor | Package |\n",
            "-----------------------\n",
            "| tokenize  | padt    |\n",
            "| mwt       | padt    |\n",
            "| pos       | padt    |\n",
            "=======================\n",
            "\n",
            "INFO:stanza:Using device: cuda\n",
            "INFO:stanza:Loading: tokenize\n",
            "INFO:stanza:Loading: mwt\n",
            "INFO:stanza:Loading: pos\n",
            "INFO:stanza:Done loading processors!\n"
          ]
        }
      ]
    },
    {
      "cell_type": "code",
      "source": [
        "# Sample Arabic sentence\n",
        "article = \"\"\"\n",
        "              توظف سايشيلد مهنيين رقميين على مستوى عالمي يتمتعون بمعرفة وخبرة متطورة.\n",
        "              خبرتنا الواسعة في المجال الرقمي تجعلنا الخيار الأفضل لاحتياجات شركتك ،\n",
        "              ويسمح لنا تركيزنا على المجالات المتخصصة للغاية بتقديم خدمات استشارية فائقة تعد الأفضل في السوق.\n",
        "              نحن ملتزمون بالعمل الجاد من أجل مرافقة عملائنا لتحقيق أهدافهم النهائية.\n",
        "          \"\"\"\n",
        "\n",
        "# Process the sentence\n",
        "PreProcessed_text = Pre_Processing(article)\n",
        "doc = nlp(PreProcessed_text)\n",
        "\n",
        "# Extract words and their POS tags\n",
        "pos_tags = [(word.text, word.upos) for sent in doc.sentences for word in sent.words]"
      ],
      "metadata": {
        "id": "Gm8EcRFmqM5l"
      },
      "execution_count": 77,
      "outputs": []
    },
    {
      "cell_type": "code",
      "source": [
        "print(pos_tags)"
      ],
      "metadata": {
        "colab": {
          "base_uri": "https://localhost:8080/"
        },
        "id": "v8q193kC5eae",
        "outputId": "a91047a0-44ba-450e-e1bd-a370d0690d3a"
      },
      "execution_count": 16,
      "outputs": [
        {
          "output_type": "stream",
          "name": "stdout",
          "text": [
            "[('توظف', 'VERB'), ('سايشيلد', 'X'), ('مهنيين', 'ADJ'), ('رقميين', 'ADJ'), ('علي', 'ADP'), ('مستوي', 'NOUN'), ('عالمي', 'ADJ'), ('يتمتعون', 'VERB'), ('ب', 'ADP'), ('معرف', 'NOUN'), ('ه', 'PRON'), ('و', 'CCONJ'), ('خبر', 'NOUN'), ('ه', 'PRON'), ('متطور', 'ADJ'), ('ه', 'PRON'), ('خبرة', 'NOUN'), ('نا', 'PRON'), ('الواسع', 'ADJ'), ('ه', 'PRON'), ('في', 'ADP'), ('المجال', 'NOUN'), ('الرقمي', 'ADJ'), ('تجعل', 'VERB'), ('نا', 'PRON'), ('الخيار', 'NOUN'), ('الافضل', 'ADJ'), ('ل', 'ADP'), ('احتياجات', 'NOUN'), ('شركة', 'NOUN'), ('ك', 'PRON'), ('و', 'CCONJ'), ('يسمح', 'VERB'), ('ل', 'ADP'), ('نا', 'PRON'), ('تركيز', 'NOUN'), ('نا', 'PRON'), ('علي', 'ADP'), ('المجالات', 'NOUN'), ('المتخصص', 'ADJ'), ('ه', 'PRON'), ('ل', 'ADP'), ('الغايه', 'NOUN'), ('ب', 'ADP'), ('تقديم', 'NOUN'), ('خدمات', 'NOUN'), ('استشاري', 'NOUN'), ('ه', 'PRON'), ('فاءق', 'NOUN'), ('ه', 'PRON'), ('تعد', 'VERB'), ('الافضل', 'ADJ'), ('في', 'ADP'), ('السوق', 'NOUN'), ('نحن', 'PRON'), ('ملتزمون', 'ADJ'), ('ب', 'ADP'), ('العمل', 'NOUN'), ('الجاد', 'ADJ'), ('من', 'ADP'), ('اجل', 'X'), ('مرافق', 'NOUN'), ('ه', 'PRON'), ('عملاء', 'NOUN'), ('نا', 'PRON'), ('ل', 'ADP'), ('تحقيق', 'NOUN'), ('إهداف', 'NOUN'), ('هم', 'PRON'), ('النهاءيه', 'ADJ')]\n"
          ]
        }
      ]
    },
    {
      "cell_type": "markdown",
      "source": [
        "## Approach : Bi directional LSTM model (Bi-LSTM)\n",
        "Through searching I found the stat-of-art for this task is **Meta BiLSTM (Bohnet et al., 2018)** whith accuracy 97.96 so let's try Bidirectional LSTM which is a sequential labeling classifier"
      ],
      "metadata": {
        "id": "U-xgf6natj6a"
      }
    },
    {
      "cell_type": "markdown",
      "source": [
        "### Read Data\n",
        "* I will use in LSTM training Arabic PUD [github](https://github.com/UniversalDependencies/UD_Arabic-PUD) Taken from [Universal Dependencies](https://universaldependencies.org/)\n",
        "* Uses articles from Wikipedia(W) and the news(N)\n",
        "* Data is sequential (sequence of words) therefore using a sequence-labeling model is preferred\n",
        "\n"
      ],
      "metadata": {
        "id": "_2i9fqJvHwsl"
      }
    },
    {
      "cell_type": "code",
      "source": [
        "with open(\"/content/ar_pud-ud-test.conllu\", mode=\"r\", encoding=\"utf-8\") as data:\n",
        "\n",
        "    #read the file contents and assign under 'annotations'\n",
        "    annotations=data.read()\n",
        "\n",
        "#check the type of the resulting object\n",
        "print(type(annotations))\n",
        "annotations[1:1000]"
      ],
      "metadata": {
        "colab": {
          "base_uri": "https://localhost:8080/",
          "height": 0
        },
        "id": "K8EPhSv0HE5b",
        "outputId": "cc73e9c8-6cfe-4539-8d78-a0aeb2bd13da"
      },
      "execution_count": 5,
      "outputs": [
        {
          "output_type": "stream",
          "name": "stdout",
          "text": [
            "<class 'str'>\n"
          ]
        },
        {
          "output_type": "execute_result",
          "data": {
            "text/plain": [
              "' newdoc id = n01001\\n# sent_id = n01001011\\n# text = كتبت كوري شولمان, المساعدة الخاصة لأوباما في تدوينة نشرتها يوم الإثنين: \"فيما الكثير من عمليات الانتقال الرقمي غير مسبوقة في الولايات المتحدة, فإن الانتقال السلمي للسلطة سبق له أن حدث\".\\n# original_text = كتبت كوري شولمان, المساعدة الخاصة لأوباما في تدوينة نشرتها يوم الإثنين: \"فيما الكثير من عمليات الانتقال الرقمي غير مسبوقة في الولايات المتحدة, فإن الانتقال السلمي للسلطة سبق له أن حدث\".\\n# text_en = “While much of the digital transition is unprecedented in the United States, the peaceful transition of power is not,” Obama special assistant Kori Schulman wrote in a blog post Monday.\\n1\\tكتبت\\tكَتَب\\tVERB\\tVBC\\tAspect=Perf|Gender=Fem|Number=Sing|Person=3|Tense=Past|Voice=Act\\t0\\troot\\t_\\tLId=كَتَب-ُ_1\\n2\\tكوري\\tكوري\\tPROPN\\tNNP\\tCase=Nom|Gender=Fem|Number=Sing\\t1\\tnsubj\\t_\\tLId=كوري_0\\n3\\tشولمان\\tشولمان\\tPROPN\\tNNP\\tGender=Masc|Number=Sing\\t2\\tflat\\t_\\tLId=شولمان_0|SpaceAfter=No\\n4\\t,\\t,\\tPUNCT\\t,\\t_\\t5\\tpunct\\t_\\tLId=,_0\\n5\\tالمساعدة\\tمُساعِد\\tNOUN\\tNN\\tCase=Nom|Definite=Def|Gender'"
            ],
            "application/vnd.google.colaboratory.intrinsic+json": {
              "type": "string"
            }
          },
          "metadata": {},
          "execution_count": 5
        }
      ]
    },
    {
      "cell_type": "code",
      "source": [
        "#parse the string of annotations to sentences\n",
        "sentences = conllu.parse(annotations)"
      ],
      "metadata": {
        "id": "kz9FA2YhHE1-"
      },
      "execution_count": 6,
      "outputs": []
    },
    {
      "cell_type": "code",
      "source": [
        "print(type(sentences))\n",
        "sentences[0].metadata #metadata is simply a dictionary type\n",
        "#meta data has 5 keys:newdoc id ,sent_id,text,original_text,text_en"
      ],
      "metadata": {
        "colab": {
          "base_uri": "https://localhost:8080/"
        },
        "id": "HaMh55V3KhQh",
        "outputId": "7355b5e8-5481-49fb-c33f-42e52c35d6a6"
      },
      "execution_count": 7,
      "outputs": [
        {
          "output_type": "stream",
          "name": "stdout",
          "text": [
            "<class 'conllu.models.SentenceList'>\n"
          ]
        },
        {
          "output_type": "execute_result",
          "data": {
            "text/plain": [
              "{'newdoc id': 'n01001',\n",
              " 'sent_id': 'n01001011',\n",
              " 'text': 'كتبت كوري شولمان, المساعدة الخاصة لأوباما في تدوينة نشرتها يوم الإثنين: \"فيما الكثير من عمليات الانتقال الرقمي غير مسبوقة في الولايات المتحدة, فإن الانتقال السلمي للسلطة سبق له أن حدث\".',\n",
              " 'original_text': 'كتبت كوري شولمان, المساعدة الخاصة لأوباما في تدوينة نشرتها يوم الإثنين: \"فيما الكثير من عمليات الانتقال الرقمي غير مسبوقة في الولايات المتحدة, فإن الانتقال السلمي للسلطة سبق له أن حدث\".',\n",
              " 'text_en': '“While much of the digital transition is unprecedented in the United States, the peaceful transition of power is not,” Obama special assistant Kori Schulman wrote in a blog post Monday.'}"
            ]
          },
          "metadata": {},
          "execution_count": 7
        }
      ]
    },
    {
      "cell_type": "code",
      "source": [
        "sentences[0][0]"
      ],
      "metadata": {
        "colab": {
          "base_uri": "https://localhost:8080/"
        },
        "id": "HKTgXw7aKp2U",
        "outputId": "b6a64145-5af5-421f-fb07-d7e9cbee5c5a"
      },
      "execution_count": 8,
      "outputs": [
        {
          "output_type": "execute_result",
          "data": {
            "text/plain": [
              "{'id': 1,\n",
              " 'form': 'كتبت',\n",
              " 'lemma': 'كَتَب',\n",
              " 'upos': 'VERB',\n",
              " 'xpos': 'VBC',\n",
              " 'feats': {'Aspect': 'Perf',\n",
              "  'Gender': 'Fem',\n",
              "  'Number': 'Sing',\n",
              "  'Person': '3',\n",
              "  'Tense': 'Past',\n",
              "  'Voice': 'Act'},\n",
              " 'head': 0,\n",
              " 'deprel': 'root',\n",
              " 'deps': None,\n",
              " 'misc': {'LId': 'كَتَب-ُ_1'}}"
            ]
          },
          "metadata": {},
          "execution_count": 8
        }
      ]
    },
    {
      "cell_type": "markdown",
      "source": [
        "### Create corpus"
      ],
      "metadata": {
        "id": "VNLNa1pNLwv3"
      }
    },
    {
      "cell_type": "code",
      "source": [
        "#create a corpus : list of dictionaries, each dict is a sentence and appling preprocessing\n",
        "corpus=[]\n",
        "list_pos=[]\n",
        "list_words=[]\n",
        "pos=[]\n",
        "list_sentences=[]\n",
        "for sentence in sentences:\n",
        "    word_dict={}\n",
        "    sentence_txt=sentence.metadata['text']\n",
        "    print(sentence_txt)# example of no preprocessing varification\n",
        "    re_pattern = re.compile(r'[a-zA-Z]+')\n",
        "    if re_pattern.search(sentence_txt)== None:\n",
        "        list_sentences.append(sentence_txt)\n",
        "        pos_bfr=[]\n",
        "        for w_indx in range(len(sentence)):\n",
        "            word_str=Pre_Processing(sentence[w_indx]['form'])\n",
        "            word_pos=sentence[w_indx]['upos']\n",
        "            pos_bfr.append(word_pos)\n",
        "            list_pos.append(word_pos)\n",
        "            list_words.append(word_str)\n",
        "            word_dict[w_indx]=[word_str,word_pos,sentence_txt,len(sentence_txt)]\n",
        "        pos.append(pos_bfr)\n",
        "        corpus.append(word_dict)"
      ],
      "metadata": {
        "colab": {
          "base_uri": "https://localhost:8080/"
        },
        "id": "4b-mWjhFLmZc",
        "outputId": "d9501c0b-abfd-4be9-8314-d2849f492edd"
      },
      "execution_count": 23,
      "outputs": [
        {
          "output_type": "stream",
          "name": "stdout",
          "text": [
            "كتبت كوري شولمان, المساعدة الخاصة لأوباما في تدوينة نشرتها يوم الإثنين: \"فيما الكثير من عمليات الانتقال الرقمي غير مسبوقة في الولايات المتحدة, فإن الانتقال السلمي للسلطة سبق له أن حدث\".\n",
            "بالنسبة إلى أولئك الذين يتابعون الانتقال الخاص بوسائل التواصل الاجتماعي في الكابيتول هيل, سيكون الأمر مختلفاً بعض الشيء.\n",
            "لكن بعيداً عن كلامه السابق بشأن الحد من الهجرة, أعلن المرشح الجمهوري أنه كرئيس سيسمح \"بأعدادٍ هائلة\" من المهاجرين الشرعيين على أساس \"نظام الجدارة\".\n",
            "قال للحشد الذي تجمع في أحد الملاعب الرياضية الخاصة بجامعة كارولينا الشمالية.\n",
            "تمول النفقات الجديدة من خلال حساب كلينتون المصرفي الكبير.\n",
            "إن ما تقوله وما تفعله... في الواقع, إنه أمرٌ لا يصدق.\n",
            "الحد الأقصى المسموح به للشخص الواحد هو 5000 دولار.\n",
            "في أوائل شهر تشرين الأول, استخدم الفريق الانتقالي ذات المكان للقاء جماعات الضغط التكنولوجية, بحضور ممثلين عن شركة \"أوبر\" وجمعية الفيلم الأمريكي وجمعية مستهلكي التكنولوجيا وغيرها.\n",
            "كان من المقرر في الأصل أن يقام التجمع في نادي المتروبوليتان في واشنطن في شارع \"إتش\" الذي لا يبعد كثيراً.\n",
            "لربما كان الزي الواجب ارتداؤه خانقاً زيادة عن اللزوم.\n",
            "على سبيل المثال, بدلاً من تدريس المنهج العلمي كوحدة منفصلة, يتعلم الطلاب المحتوى العلمي من خلال التطبيق.\n",
            "حصلوا على المعدل الوطني العام بالنسبة إلى الصف الرابع, وأفضل من المعدل الوطني العام بالنسبة إلى الصف الثامن.\n",
            "على سبيل المقارنة, تكلف الأمر 103,7 مليون دولار أمريكي لبناء محطة مترو \"نوما\" البينية التي افتتحت عام 2004.\n",
            "قال جو ستيرنليب, رئيس منطقة جورجتاون لتطوير الأعمال: \"نواجه الكثير من المنافسة, ونرى أن بوسع النقل بالمرور أن يساعد\".\n",
            "تقدر دراسة الجدوى أن المسافرين سيستغرقون نحو أربع دقائق لعبور نهر بوتوماك على متن الجندول.\n",
            "أخبر شاهد عيان الشرطة أن الضحية هاجم المشتبه به في شهر نيسان الماضي.\n",
            "ثمة أوجه تشابهٍ هنا بين الألعاب وحياتنا اليومية.\n",
            "وارتفعت تلك النسبة باطراد بمرور السنين ـ11 بالمئة فقط من إجمالي الأصوات طرحت يوم الانتخابات عام 1996 وفق مكتب الإحصاءـ ويبدو أنها من المرجح أن ترتفع مجدداً هذا العام.\n",
            "قد يكون \"خنزير\" خنزيراً وحيداً, غير أنه لا يترك وحده أبداً.\n",
            "قال ثاقب: \"طلبنا المساعدة من الدول الأخرى كي نملأ حديقة الحيوان بأنواعٍ مختلفة من الحيوانات بما فيها الخنازير\".\n",
            "قال السيد بانفالكار أنه شعر ذات مرة أن عليهم ترك المبنى.\n",
            "وجهت إليها التهمة أيضاً بمحاولة قتل ابنتها ذات العامين.\n",
            "صرحت الشرطة أن المرأة قتلت أندريه برايس الثالث من خلال ضغط وجهه بفرشة هوائية في غرفة جلوسها قبل أن تحاول فعل ذات الشيء مع ابنتها.\n",
            "سأدخل السجن في كل الأحوال, آمل أن الأمر كان يستحق.\n",
            "بدأت أولى اليزيديات بالبكاء, ثم تبعتها إحدى صديقاتها.\n",
            "وقع السيد أوزبورن عقداً مع وكالة استشارية أمريكية بعد أن صرف من عمله في تموز.\n",
            "قال مايكل فالون أن تاريخ البدء بقطع الفولاذ سيسهم في تأمين استثمارات جديدة وحفظ مئات الوظائف المهارية حتى عام 2035.\n",
            "أطلق وعد البحرية الملكية بإجراء ترتيبات جديدة لتأمين صناعة السفن في نهر كلايد قبل استفتاء استقلال اسكتلندا عام 2014.\n",
            "ويتجلى هذا بأبهى صوره عندما يكون اسم الشخص الشهير نادراً جداً في البداية.\n",
            "وبحلول عام 2007, وفي عز رواجه (ورواج نايتلي ربما), كان الاسم من بين أكثر 50 اسماً رواجاً, وكان الأطفال الذين يحملون اسم Keira أكثر بثلاث مرات منمن يحملون اسم Kiera.\n",
            "ظنت الشركة الكورية في البداية أن اللوم يقع على عاتق خطأٍ في البطارية, واستبدلت بطارياتها الخاصة لتحل محل بطاريات الشركات الموردة.\n",
            "أشار العديد من المحللين أن هواوي في موقعٍ مثاليٍ للاستفادة من كبوة سامسونغ.\n",
            "تفتقد هواتف \"ميت 9\" واجهة ذكاء صناعي تفاعلية مثل \"غوغل أسيستانت\" و \"سيري\" الخاصة بآبل.\n",
            "لكن أحد خبراء السفريات نبه إلى أن الإنترنت خلال رحلات الطيران كان لا يعول عليه وكان من المستبعد أن يؤثر على اختيار المسافرين لشركات الطيران.\n",
            "لكن قد يكون الأمر أن الخطوط الجوية البريطانية ومجموعة الخطوط الجوية الدولية (آي إيه جي) قررتا الانطلاق وتقديم شيءٍ يمكن الاعتماد عليه بعض الشيء.\n",
            "قالت الشركة للبي بي سي أن أن المسؤولية تقع على عاتق كل شركة طيران لتحديد ما إذا كانت ستتقاضى رسوماً على استخدام الإنترنت.\n",
            "قد يجد أغلب الناس أن \"الواي-فاي\" في المطارات أكثر فائدة من القدرة على إرسال الرسائل الإلكترونية داخل الطائرات.\n",
            "أحياناً يكون أشبه بقوة عظمى.\n",
            "يجني المشروع أمواله من خلال عقود الرعاية والإعلانات.\n",
            "ستكون الدورة التي ستستمر مدة 10 أسابيع مصرحة من قبل الوكالة الاستخبارية البريطانية (مكاتب الاتصالات الحكومية البريطانية).\n",
            "لكن بعض خبراء الأمن أثاروا تساؤلات بشأن الحاجة لهذه الدورة والغاية من ورائها.\n",
            "لم ير الطائرات من قبل سوى بعض المدونين.\n",
            "بطبيعة الحال, ستعرض الصين هذا الأسبوع العديد من القطع العسكرية الأخرى, من مروحيات هجومية وطائرات مائية.\n",
            "ومع تأهب الصين لتكون أكبر سوقٍ في مجال الطيران في العالم خلال العقد المقبل, يشكل هذا المعرض فرصةً لبكين لتظهر طموحاتها في مجال الطيران المدني إلى جانب العكسري.\n",
            "كتب جيسي لابروكا, مؤسس موقع \"هاك فوروم\" في رسالةٍ يشرح فيها سبب إقفال القسم: مجدداً للأسف, تفسد القلة الأمر على الكثرة.\n",
            "من المرجح أن \"الأحداث الأخيرة\" هي هجمات 21 تشرين الأول والتي أوقفت عمل مواقع رائجة مؤقتاً مثل \"ريديت\" و\"تويتر\" و\"سبوتيفاي\" وغيرها.\n",
            "تكشف التحليلات أن كميات تاريخية من البيانات كانت تستخدم لإحداث الاضطراب.\n",
            "يقول تقرير الأمم المتحدة عن الخطط الوطنية للحد من انبعاثات الكربون أنها أقل من المستوى المطلوب للحفاظ على ارتفاع حرارة الأرض بمقدار أقل من درجتين مئويتين.\n",
            "يقول العديد من العلماء أنه لا ضرورة إلى تقنيات تزيل الكربون من الجو من أجل تحقيق أهداف قمة باريس للمناخ.\n",
            "قال إيريك سولهايم, رئيس برنامج الأمم المتحدة للبيئة: \"نحن نسير على الدرب الصحيح. اتفاق باريس سيبطئ من التغير المناخي, كما أن تعديل كيغالي سيخفض من انبعاثات مركبات الكربون الهيدروكلورية فلورية\".\n",
            "ارتفعت الاستثمارات في هذا المجال ارتفعت بنسبة 6% عام 2015 لتصبح 221 مليار دولار أمريكي.\n",
            "من الرائع أنهم توصلوا إلى اتفاق باريس, لكن إسهاماتهم في الوقت الحالي بعيدة كل البعد عن هدف الوصول إلى ارتفاع بمقدار درجة ونصف مئوية.\n",
            "أجريت قبالة السواحل المكسيكية ما بين شهري نيسان وحزيران.\n",
            "سيضع هذا قيوداً جديدة على طبيعة التغيرات المناخية التي ضربت كوكب الأرض وجلعت الكثير من الكائنات الحية ـلا الدينصورات فقطـ تنقرض.\n",
            "من المرجح أن هذه المادة النيزكية غنية بعنصر الإيريديوم.\n",
            "فقط 70% من النباتات التي زرعت من البذور الأرضية كانت حية بعد 17 يوماً, وهذه نسبة أكبر قليلاً من النباتات التي زرعت من البذور الفضائية والتي بلغت 66%.\n",
            "تقدم النتائج المستخلصة من هذه التجربة تأكيداً إضافياً على أنه يمكن نقل البذور الصاروخية وتخزينها في المحطة الفضائية الدولية لمدة ستة أشهر من دون أن يكون لذلك أي تأثيرات كبيرة على قدرتها على الإنبات والنمو على الأرض.\n",
            "جمعت الجمعية الملكية للبستنة تعليقات أرسلت من قبل تلاميذ ومدرسين شاركوا في التجربة.\n",
            "وتقول: \"لا يزال عامل القرف مخيماً على فكرة شراء وارتداء أجزاءً من جسد شخصٍ آخر\".\n",
            "وتشرح تارلو: \"عادةً ما يتم في الصين وضع الشعر في أحواضٍ كيميائية لإزالة أي أثرٍ للقشور الجلدية\".\n",
            "تقول تارلو: \"على مر التاريخ, كان لسوق الشعر دوماً بعداً سياسياً\".\n",
            "ويقول التقرير: \"نطبق اليوم عقوبات باستخدام ضوءٍ قوي\".\n",
            "وقد طبقت شرطة مرور شينجن عقوبات غير تقليدية قبل ذلك.\n",
            "من يكونون؟\n",
            "الكثير من النقاش عند الجانب الديمقراطي يدور حول هوية الذكر الأبيض.\n",
            "سألتها بعد ذلك إن كانت تفهم السبب الذي قد يدعو الناس للتصويت لصالح ترامب.\n",
            "لا يمكن للجميع أن يترفعوا عن الأمر.\n",
            "يقول بال: \"لحسن الحظ, قال أحدهم في سوني أستراليا: 'بالمناسبة, هل لاحظتم هذا؟'\".\n",
            "تصدر سيغال عنواين الصحف عندما وصف تحرك روسيا في شبه جزيرة القرم عندما ضمتها عام 2014 بالمعقول جداً.\n",
            "عازف جيتارٍ موهوب, وقد عزف في حفلٍ هناك في ذات العام.\n",
            "قام سيغال التي كانت جدته من مدينة فلاديفوستوك في أقصى شمال روسيا بزياراتٍ متكررة لروسيا خلال السنوات الأخيرة, وزار كامشاتكا وسخالين في أيلول الماضي.\n",
            "حصل سيغال في وقتٍ سابق من هذا العام على الجنسية الصربية بعد أن عرض تأسيس مدرسة فنون قتالية في العاصمة بلغراد.\n",
            "وقال متحدثٌ باسم الشرطة لوكالة أسوشييتد برس أنه حدث \"تبادل للألفاظ\" تبعته مشاجرة, لكن لم تسجل إصابات.\n",
            "يقال أن كوارون, الذي فاز فيلمه الأخير \"غرافيتي\" بعدة جوائز أوسكار, لم يكن في موقع التصوير وقت الحادثة.\n",
            "بحسب إدارة شرطة المدينة أن شجاراً نشب بعدما وصل \"مجموعة كبيرة من الناس... عرفوا عن أنفسهم بأنهم من السلطات المحلية\" إلى موقع التصوير يوم الثلاثاء.\n",
            "يدرس الباحثون إمكانية صنع موانع حمل هرمونية خاصة بالذكور منذ نحو 20 عاماً.\n",
            "وأضاف: \"إنها خطوة واحدة في طريقٍ طويلٍ للعثور على التركيبة الصحيحة لموانع الحمل الهرمونية الخاصة بالذكور.\n",
            "غير أن هناك العديد من أعضاء الهيئة التشريعية ممن يحملون معتقدات دينية راسخة ويعارضون أي تشريعٍ جديد.\n",
            "يقول الباحثون أن تحليل الحمض النووي الريبي منقوص الأكسجين الخاص بالورم قد يساعد على تفسير الأسباب الكامنة وراء أنواعٍ أخرى من السرطان.\n",
            "ويظهر التحليل وجود صلة مباشرة بين عدد السجائر التي يدخنها المرء في حياته وعدد الطفرات التي أصابت الحمض النووي الريبي منقوص الأكسجين الخاص بالورم.\n",
            "ومع ذلك, لم يتمكنوا من العثور على ذات النسق في أنسجة مثل المثانة, والتي لم تتعرض بشكل مباشر.\n",
            "تلقت الآنسة بيو العلاج في مستشفيي بابوورث وآدنبروك في كامبريدجشير.\n",
            "لكن الفحص أظهر أن الورم في رئة الآنسة بيو اليمنى يكبر, فكان عليها أن تترك التجربة.\n",
            "إذا ما أصبح ترامب رئيساً, سيظل على الحكومة هنا العمل معه لدفع جدول الأعمال المشترك أياً كان لضمان أن الشركات والمصالح الكندية ممثلة في واشنطن.\n",
            "وسوف يوجه ترودو تلك الدعوة إلى الرئيس الخامس والأربعين للولايات المتحدة بصرف النظر عنمن سيكون.\n",
            "بالرغم من نشر صورة هذا الصباح, تقول شرطة بريتيش كولومبيا أن لديهم أسئلة أكثر مما لديهم أجوبة بشأن رجلٍ متشرد اتهم بطعن فتاة مراهقة حتى الموت في مدرستها مدرسة آبوستفورد الثانوية.\n",
            "قالت شرطة بريتيش كولومبيا في وقتٍ سابق أنه لا يبدو أن لدى كلاين تاريخاً إجرامياً ونشرت تفاصيل مبهمة عن أماكن وجوده في الفترة الأخيرة.\n",
            "قالت: \"لا نعتقد أن للمشتبه به علاقةً بهذه المدرسة أو بالفتاتين أو بمنطقة آبوستفورد بالتحديد\".\n",
            "قال أيضاً أن كلاين كان كتوماً وغير متعاون وغير راغب بأن يخرج من زنزانته الموجودة تحت المحكمة لحضور جلسة محاكمته.\n",
            "تقول الجمعية التي تمثل وكلاء العقارات في أونتاريو أن هناك الكثير مما يجب فعله لحماية الزبائن ومعاقبة الوكلاء الذين انخرطوا في سلوكٍ منافٍ للأخلاق.\n",
            "كما أنه يرغب أن يرى سلطاتٍ وصلاحياتٍ أكبر لمجلس العقارات في أونتاريو (ريكو) والذي ينظم عمل الوكلاء في المقاطعة.\n",
            "في الوقت الحالي, فإن أكبر غرامة يمكن لمجلس (ريكو) أن يفرضها على أحد الوكلاء لا تزيد عن 25000 دولار.\n",
            "لكن الطبقة الوسطى المتنامية في الصين بدأت برفع الصوت عالياً بشكلٍ غير معتاد في شكواها بشأن الأجواء السامة في المدن مثل بكين, والتي تبرز يوماً بعد يوم من خلال الضباب الدخاني الخانق للرئة.\n",
            "وقال غويلبيو: \"نشهد العديد والعديد من الدول, وخصوصاً الدول الكبيرة الجديدة المسببة للانبعاثات مثل البرازيل وجنوب أفريقيا والهند والصين, تشارك في لعب أدوارٍ في تقليل الانبعاثات\".\n",
            "يمكنه الانتظار حتى نهاية فترته الأولى من أجل استغلال بندٍ في اتفاقية قمة باريس للانسحاب منها.\n",
            "في الوقت نفسه, تسعى كلينتون وحلفاؤها إلى إبقاء الأضواء مسلطة على ترامب, وعلى تصريحاته التي تحط من قدر النساء والأقليات, وشخصيته التي تجعله غير مؤهل للمنصب.\n",
            "ليس هذا ما نحتاجه لبلادنا يا قوم.\n",
            "ظهرت زوجة ترامب, ميلانيا ترامب, لأول مرة في الحملة منذ مؤتمر الحزب الجمهوري في تموز.\n",
            "يقابل الطلاب أمثال راي مستشارين نفسيين في المدرسة من أجل الحديث عنما حدث, لكنها تقول أن السلوى الأكبر تأتي من رؤية أصدقائها.\n",
            "قالت ميليس خلال مقابلة يوم الخميس مع قناة سي بي سي نيوز: \"وهذه كارثة بالنسبة للمرضى المتألمين\".\n",
            "قالت ميليس: \"لا يملك الأطباء تلك الأدوات, لديهم فقط كراس للوصفات الطبية وحقنة\".\n",
            "بدأ مدير التحقيق المستقل الخاص بشرطة أوتاريو جيري مكنيلي تحقيقه هذا الأسبوع بعد أن طرحت \"أسئلة مقلقة\" عن كيفية تعامل ضباط الشرطة مع السكان الأصليين.\n",
            "يمر التحقيق أيضاً على المنشورات التحريضية في فيسبوك منذ شهر أيلول والتي يزعم أنها تصدر عن ضباطٍ شرطة في المدينة الواقعة شمال أونتاريو.\n",
            "تلقى المديرون التنفيذيون أيضاً ما يسمى الدفع المرتبط بالأداء لقاء النجاح أو تجاوز التوقعات بحيث يتشاركون فيما بينهم مبلغاً وقدره 1,5 مليون دولار, أو ما يقدر ب15000 دولار كمعدل لكلٍ منهم.\n",
            "تفوق ميزانيتها السنوية 1,4 مليار دولار, ويعمل فيها أكثر من 6000 موظف.\n",
            "أعلنت الحكومة الفدرالية استباقياً عن الدفع المرتبط بالأداء ومستويات المكافآت لكل وزارة, لكن آخر منشور على الإنترنت يعود إلى 2013-2014, أي منذ عامين.\n",
            "بلغ مجموع الدفع المرتبط بالأداء والمكافآت لذلك العام 1,5 مليون دولار, وهو ذات مجموع 2015-2016.\n",
            "وقال غوميري الذي قاد لجنة التحقيق الخاصة بفضيحة الرعاية الاتحادية بين عامي 2004 و2006 أن هيئات كهذه ضرورية للمساعدة في استعادة ثقة الجمهور في سيادة القانون.\n",
            "وقد أدى ذلك خلال اليومين الماضيين إلى اكتشاف أن ستة صحفيين آخرين من كيبيك كانوا هدفاً لعمليات مراقبة قادتها الشرطة المحلية.\n",
            "وكتب في دليل الإرشادات: \"لا يجب أن يكون هنا معاملة تفضيلية للحكومة أو أي مظهر من مظاهر المعاملة التفضيلية للأفراد أو المنظمات بسبب تقديمهم لتبرعات مالية للسياسيين أو للأحزاب السياسية\".\n",
            "حكم القاضي في قضية دافي الخاصة بالاحتيال وخيانة الأمانة بأن أفعاله كانت ضمن قوانين المجلس عندما دفع كل التهم عن دافي.\n",
            "باتت هواتفنا المحمولة أكثر من مجرد هواتف هذه الأيام.\n",
            "علقت إحدى مشتركات نظام الإنترنت غير المحدود من شركة ساسكتل قائلةً: \"هذا مذهل\".\n",
            "أشار أيضاً أن شركة روجرز طرحت مؤخراً تطبيقاً جديداً يساعد العملاء على مراقبة مدى استخدامهم للإنترنت.\n",
            "هذا ما يجعلنا نعود من أجل المزيد.\n",
            "وتتزامن هذه التقديرات مع النسب المئوية للشقق الجديدة التي تدخل سوق الإيجارات عند انتهائها, مما يدل على الدور المهم الذي يلعبه المستثمرون (المحليون) في خطة النمو في سوق العقارات.\n",
            "يقول ديتريش من مقر الشركة في دنفر, كولورادو حيث يباع الحشيش بشكلٍ قانوني: \"تساعد هذه السلالة على التخفيف من آلام الظهر, كما تساعد على التخفيف من الغثيان, ويجعلك هذا المنتج تنام في الليل\".\n",
            "لكن من دون إطارٍ تشريعي ومع الفكرة العميقة عن الحشيش كعلاج شعبي لتعديل المزاج, تركت الشركات في حيرة من أمرها.\n",
            "الحديد عنصرٌ أساسي يحتاجه الجسم لإنتاج خضاب الدم وهو البروتين الموجود في كريات الدم الحمراء والمسؤول عن نقل الأكسجين إلى أنسجة الجسم.\n",
            "فترة الانتظار الحالية هي ثمانية أسابيع.\n",
            "تقول منظمة خدمات الدم الكندية (سي بي إس): \"من الممكن للمرء أن يكون لديه مستويات طبيعية من خضاب الدم, لكن مع نقصٍ عام في الحديد\".\n",
            "إرشادات الحديد الجديدة تعني أن هناك حاجةً للمزيد من المتبرعين.\n",
            "ما بدأ كتصوير روتيني بالموجات الفوق صوتية انتهى بأمرٍ شديد التعقيد عندما أبلغت الأم الحامل مارغريت بويمر من بلانو, تكساس أن جنينها الذي لم يولد بعد يعاني من حالة نادرة ويحتاج إلى عملية جراحية ليعيش.\n",
            "الورم المسخي في العجزية العصعصية هو ورمٌ ينشأ قبل الولادة وينمو من عصعص الجنين.\n",
            "هذا أكثر الأورام شيوعاً عند الأجنة, ويظهر في واحدٍ من كل 35000 مولود.\n",
            "كانت في الـ84 من عمرها.\n",
            "وصفها بأنها امرأة \"مذهلة\" و\"محبة ورائعة\" تركت بصمتها في عالم الأدب من خلال قصصها.\n",
            "قالت ليف في مقابلة أجريت معها مؤخراً: \"بعض الرجال يتمتعون بذلك وبونو أحد أولئك الرجال\".\n",
            "لم تتجاوز العشرين من عمرها فحسب, وها هي صوتٌ قويٌ ضد البلطجة ومع مساعدة الفتيات على تبني معاييرهن الخاصة للجمال.\n",
            "قالت ليف: \"دار صوتها حول العالم حرفياً\".\n",
            "ما أن نشرت الصور الرمنسية للحفلة, عجت مواقع التواصل الاجتماعي بالتعليقات, التي لم تكن إيجابية.\n",
            "يرى الكثيرون بما فيهم مجموعات السكان الأصليين أنهم يستهينون بثقافة الأمم الأولى في كندا.\n",
            "هدف هذه الجلسات للجنة الإذاعة والتلفزيون والاتصالات الكندية هو تطويق ردود الجمهور والجهات المعنية في القطاع.\n",
            "وهذا لا ينطبق فقط على المحتوى الترفيهي, بل أيضاً على التعليم, والأبحاث العلمية, وـربما هذا الأهمـ على الخطاب السياسي.\n",
            "على كل حال, الإنترنت ليس رفاهية, بل ضرورة.\n",
            "وشكل الحطام حلقةً حول خط الاستواء الأرضي وتجمع في نهاية المطاف بفعل الجاذبية ليشكل القمر.\n",
            "ومع ذلك, ظلت هناك أسئلة بلا إجابة.\n",
            "في بلدة هيلزبورو, الواقعة على تخوم مدينة تشابل هيل, ألقى أحدهم قنبلة حارقة على مقر الحزب الجمهوري الشهر الماضي.\n",
            "بعد أن مررت ولاية كارولينا الشمالية مشروع قانون تقييد حرية التصويت عام 2013, دار كامبل على الكنائس ليعلم الناس كيفية التعامل مع الصعوبات التي تواجه تسجيلهم.\n",
            "يمكنه كشف تأثيرات الانتخابات حوله مع انفجار النزاع والتقاطع الغريب بين الأفكار الجديدة والقديمة.\n",
            "التعارض بين البيانات الاقتصادية والخطاب السياسي أمرٌ مألوف, أو ينبغي أن يكون كذلك.\n",
            "يحذر الاقتصاديون في الجمهوريين من أخذ هذه البيانات كدليلٍ على أن سياسة حزبهم الاقتصادية سيئة.\n",
            "لا أعرف كيف كان نمو الناتج المحلي الإجمالي خلال إدارتي الرئيسين واشنطن ولينكولن, لكن كان للتطورات المؤسسية خلال تلك الفترتين تأثيراتٌ طويلة الأمد.\n",
            "أوجه الاختلاف بين سولا وترامب, وبين روما والولايات المتحدة, أكثر من أوجه التشابه, لكن هذا لا يمنع من وجود تشابه.\n",
            "وقد اعترفت قائلةً: \"عليكم بالنظر إلى ما أقرت به بأننا نحتاج إلى شيءٍ مختلف ـيمكننا أن نقوم بعملٍ أفضلـ وإلى أنها أعربت عن أسفها\".\n",
            "لكن عندما أصبحت الانتقادات الموجهة إلى كلينتون كسيدة أولى لاذعة أكثر, غدت كاريل أكثر تعاطفاً.\n",
            "شرح جون دي دومينيكو الذي يمثل شخصية دونالد ترامب قائلاً لمجلة سليت: \"عندما ألعب دوره, أشعر بالقوة\".\n",
            "مع اشتداد هستيريا انتخابات عام 2016, يشغل بال كاريل تهديداً أكثر إزعاجاً من هذا الهراء.\n",
            "هم عادةً فنانون يرغبون بفعل عدة أشياء.\n",
            "ثم ينتهي الإعلان.\n",
            "كان منتجو موسيقى ميامي بيس غير مهتمين بالمؤخرات المهتزة, وهذا قلقهم الأساسي.\n",
            "في مقابلة أجريت مؤخراً, شرح زاي وزايون تسجيل نسختهما من أغنية \"ناك إف يو باك\" على جهاز حاسوب محمول منزلي.\n",
            "لكن التحديات, والأغاني التي تحدثها, تضيف جهازاً عصبياً مترابط ويمكن تتبعه إلى حلقات الفيديو القصيرة الخاصة بالرقصات.\n",
            "يؤكد إحياؤها استئناف التحدي الكبير, تحدٍ فني أو غير ذلك: إزعاج ونمو وارتباطٌ ذو مغزى.\n",
            "رأى أفلاطون أن تسليم السلطة إلى أوصياء متعلمين كما يجب أكثر أماناً.\n",
            "مثل الكثيرين منمن أعرفهم, قضيت الأشهر الأخيرة ساهراً حتى أوقاتٍ متأخرة أقرأ استطلاعات الرأي برعب.\n",
            "يرفض كابلان التصويت بأثر رجعي, وينقل عن باحثين يصفان الأمر بأنه \"لا يزيد عقلانية عن قتل الفرعون عندما لا يفيض نهر النيل\".\n",
            "لكن لم يكن لديها شيءٌ آخر خلاق فيها أو في سلوكها تجاه الآخرين.\n",
            "عام 2010, أصدرت المؤسسة نسخة منضدة ومطبوعة من رواية \"تسيتيلز تراوم\", مزيلةً العوائق من أمام أولئك الذين عجزوا عن قراءة النسخة الأشبه بمسودة والمطبوعة عن طريق التصوير.\n",
            "من خلال محادثة وودز عبر البريد الإلكتروني, حاولت أن لأول مرة أن أكشف عن أصول الكلمات.\n",
            "ذكرت زوجته أليس: \"كان يهمل صحته بشكلٍ كامل\".\n",
            "كل خريطة في المعرض تروي قصتها الخاصة, وليست كلها واقعية.\n",
            "كما عرضت لأول مرة خرائط خاصة بوزارة الدفاع البريطانية التي تخيلت معارك الحرب الباردة والتي كانت تستخدم في امتحانات الكلية الحربية.\n",
            "تقع الدائرة في مقاطعة نورث كيستيفين, حيث دعم 62% من المقترعين الخروج من الاتحاد الأوروبي.\n",
            "مهارته في الحصول على إجابات من أجل دافعي الضرائب ستفتقد بشدة.\n",
            "سيخوض كريستيان وولمار الذي ألف عدة كتب عن تاريخ السكك الحديدية غمار المنافسة في 1 كانون الأول.\n",
            "يأمل حزب الديمقراطيين الأحرار الذي كان يمثل الحي الراقي حتى عام 2010 أن ينتزع المقعد مجدداً من خلال مرشحته سارة أولني.\n",
            "في الوقت نفسه, أطلقت الزوجة المنفصلة عن مسؤولٍ حكومي حملتها الانتخابية للفوز بالمقعد.\n",
            "كان لطيفاً إلى أقصى حد, وتقبل الأمر كالرجال, غضبي يتجاوز الحدود.\n",
            "أكثر من 330 فرداً من الطاقم موجودون على متن السفينة.\n",
            "أشار فيغا أنه بسبب أعمارهم الصغيرة, لن يكون الكثيرون منهم ملمين بتاريخها.\n",
            "يقتل الناس هناك.\n",
            "ستتوقف محطة الكهرباء التي تعمل بالفحم في باداربور جنوب شرق دلهي عن العمل لمدة 10 أيام, إلى جانب المولدات التي تعمل بالديزل في المدينة.\n",
            "قضى أربع سنوات في إذاعة بي بي سي وورلد سيرفيس في مبنى بوش هاوس.\n",
            "عمل لصالح بي بي سي لعقدٍ من الزمان.\n",
            "حوى أحد منشوراتهم الفيسبوكية الحزينة على عبارة من شأنها أن تسعد كريس: \"لم أعرف شخصاً أفريقياً أكثر منك\".\n",
            "من بوسعه إيقاف منتخب أستراليا هذا؟\n",
            "هل بات حقهم الإلهي بارتداء عباءة أفضل فريقٍ في العالم غير مضمون؟\n",
            "أمامهم عائقٌ واحدٌ للخلاص, التغلب إلى إنجلترا.\n",
            "بات منتخب جنوب أفريقيا في نقطة اللاعودة وعلينا أن نكون قادرين على مجاراة رغبتهم.\n",
            "لديه تلك الشراسة في اللعب, لكن يديه لطيفتان أيضاً.\n",
            "لدينا فريقٌ رائع وإنها فرصةٌ بالنسبة إلينا لننطلق بسفينتنا.\n",
            "عليك أن تقف في وجه ذلك وأنا أفضل أن يجري باتجاهي بدلاً من أن يلتف حولي.\n",
            "بدا كما لو أنه ينقل الكرة ذهاباً وإياباً تحت ثلاثة أكواب مقلوبة.\n",
            "كان المنتخب الأسترالي, الذي تمرس خلال مبارياته الأخيرة في بطولة الرغبي, أقوى وأسرع.\n",
            "فوز دونالد ترامب سيثير قلق العالم مباشرة ويجعله أكثر اضطراباً مما هو عليه الآن.\n",
            "السيدة كلينتون معروفة بطبيعتها المتشددة, لكن هذا سيخفف من قبل الرأي العام في الولايات المتحدة الذي أنهكته الحروب.\n",
            "إنه يتحدث مؤيداً التعذيب.\n",
            "أنا أيضاً أعاني مع كلمات المرور.\n",
            "ثم هناك قصص يزعم أنها حقيقية تنشر برفقة سلسلة من الصور ذات المغزى التي تضم نصوصاً متحركة تحتها.\n",
            "بالطبع, أنا أدرك تماماً أن علينا فصل ألمانيا المعاصرة عن النظام النازي.\n",
            "في الركن تقف فتاةٌ ترتدي غطاء رأس وبنطال جينز وتبدو شديدة التواضع وأظن أن هذا أمر مساعدٌ آخر.\n",
            "يتواصل الفنانون مع الناس بقلوبهم, إنها المرة الوحيدة التي نلتقي فيها في مكانٍ واحد وننحي خلافاتنا جانباً.\n",
            "تتضمن جوائزه الأكثر غرابة جائزة السفير العالمي لهيئة الصحة والمستشفيات في مدينة نيويورك, ومقعد في كلية هارفرد للأعمال.\n",
            "يمكنني فعل ذلك في حياتي اليومية.\n",
            "أردت مشاهدته معهم, لكنهم قرروا في نهاية المطاف أنهم يريدون مشاهدته من دوني.\n",
            "لا يمكننا أن نسمح للرئاسة أن تؤول إلى دونالد ترامب, إلى شخصٍ بهذه العنصرية وبهذا التمييز ضد النساء وغير مؤهل بتاتاً ليكون القائد الأعلى.\n",
            "أعدادٌ متزايدة من الناس يتوجهون إلى الائتمان... فيما قد يكون من الممكن السيطرة على هذا الاقتراض الآن, فإن أي تغيير مفاجئ في الظروف قد يقود إلى مشاكل متعلقة بالديون.\n",
            "وسببها هو أنها لا توفر الحماية الكافية للعمال الأمريكيين الذين قد تتأذى وظائفهم ومعيشتهم.\n",
            "في هذا السياق, فإن شجب التجارة منطقي.\n",
            "نظرياً, يمكن لزوجين أن يفتحا أربع حسابات \"تسكو\" وأن يكسبا 3% على 12000 جنيه إسترليني, أي 360 جنيه إسترليني.\n",
            "في الوقت نفسه, فإن عملاء مصرف أسكتلندا يكسبون 3% على الأرصدة التي تبلغ ما بين 3000 و5000 جنيه إسترليني, عندما يضيفون خيال \"الامتياز\" المجاني إلى حساباتهم.\n",
            "بهذا يمكنك من الناحية النظرية الوصول إلى أموالك وقتما تشاء.\n",
            "تنطبق نسبة ال3% أيضاً على حاملي بطاقات \"نكتار\" الذين يتطلعون لاقتراض مبالغ ما بين 15001 جنيه إسترليني و19999 جنيه إسترليني خلال فترة تتراوح ما بين سنتين وثلاث سنوات.\n",
            "الكبريت مادة مغذية مهمة للنباتات من أجل نموٍ صحي, لكن التربة في المملكة المتحدة تفتقر بشكلٍ طبيعيٍ إلى هذا المعدن المهم.\n",
            "بالانتقال إلى عام 2016 ويلقى هذا المزيد من الاهتمام.\n",
            "قد يثير الأمر الاستغراب, حتى غيوم الأمطار الحمضية لها فوائد.\n",
            "قد يكون العالم سخيفاً ومثيراً للغضب, لكن يوجد شخصٌ على الأقل يحترم نفسه ويواصل الاحتجاج ضد تلك الحقيقة.\n",
            "ينتهي بك المطاف إلى الاستماع بصورة أكثر حدة إلى الضوضاء التالية وتصبح أكثر غضباً عندما تبدأ.\n",
            "هذا مريعٌ بكل تأكيد.\n",
            "من الإنصاف القول أن روكو كاتالانو يعمل ويعيش ويتنفس أنماط الماضي.\n",
            "أعتقد أنهما غمرا نفسيهما بالرسومات والألوان لهذا السبب.\n",
            "عاد كاتالانو إلى المنطقة بعد أن عاش في لندن وغلاسكو, حيث درس تصميم المجوهرات في كلية غلاسكو للفنون.\n",
            "يقول: \"أحب الألوان الاستوائية\".\n",
            "يقول: \"أزور صالات العرض في جامعة نورثامبتون لاستكشاف المواهب الجديدة\".\n",
            "لكن عندما اقترحت عليها أن تستعين بفرانكو كعارضٍ لها, ضحكت.\n",
            "بطبيعة الحال, يظهر المكتب العديد من الملابس والقليل من الطعام.\n",
            "تظهر وينتور ذاتها لفترة وجيزة, وقد صورت مرتدية نظارتها الشمسية قبل أن تجري مقابلة.\n",
            "بحثت في منافسات الموتوكروس وكلما بحثت أكثر, ظل وجه تلك المرأة يظهر لي في الصور التي بحثت فيها وكأنها كانت صورٌ من السبعينيات.\n",
            "أحب أن ألعب بذلك وأنا أبحث دوماً عن مصادر الوحي التي تفي بذلك الغرض لأنه من الرائع جداً أن أصنع مجموعةً عندما أجد مصدراً للوحي.\n",
            "في أفضل الأحوال هي ساذجة وفي أسوئها سيسمح مجدداً بالخروج من المأزق.\n",
            "صرح جيف نوت رئيس السياسات المتعلقة بالطبيعة لديهم: \"سأصاب بالدهشة إذا ما نتج عن ذلك حظرٌ أو فرضت تراخيص\".\n",
            "أدى موقف الجمعية الملكية لحماية الطيور أيضاً إلى مواجهة مع العديد من أنصار حماية البيئة المهمين, من كاتب العريضة مارك آفري, إلى المقدم التلفزيوني كريس باكهام.\n",
            "فلنقل أنه مخطئٌ فحسب.\n",
            "وماذا عن وضع أستراليا؟\n",
            "بهذا الصدد, ستكون هناك مسألة واحدة في جدول الأعمال يوم السبت, عندما تبدأ الدول المتقدمة بالتشكيك ببعضها البعض علناً بخصوص خططها وطموحاتها.\n",
            "نقل عنه قوله: \"إننا ندأب على التفكير بالسبل المتاحة للحد من الدعاوى القضائية لتقتصر فقط على أولئك الذين لديهم مكانة فعلية في أي مشروع\".\n",
            "قال مسؤولٌ أوروبي من دون تحديد أعداد: \"أعداد سمك القد في البحر الكلتي تتدهور\".\n",
            "لكن سجل أيضاً انخفاضٌ كبير في سمك القد وسمك موسى وسمك موسى المفلطح وسمك المغريم وسمك البلوق في البحرين الكلتي والإيرلندي.\n",
            "رحب أنصار حماية البيئة بتصريح اللجنة.\n",
            "خمسون فقط كانت أسواقاً تجارية.\n",
            "أضاف الدكتور لي: \"كان لا يمكن الدخول إلى موقع آغورا سوى بدعوة, لكن يمكن الدخول بسهولة إلى الكثير من تلك الأسواق إذا كنت تعرف كيف تبحث\".\n",
            "لم تكن موجودة في أيامنا, ويعبر الذين ليس لديهم أطفالٌ من خلال رفضهم عن بغضهم الكبير للتربية المعاصرة.\n",
            "لا أسميها وحشاً اعتباطاً.\n",
            "اليوم الثالث, كنت عائدة على دراجة إي-ميكرو الصغيرة.\n",
            "العالم ـوبالتالي المملكة المتحدةـ يواجه نقصاً في الذين يتمتعون بالمهارات اللازمة لإنشاء دفاعات فعالة.\n",
            "قد تحاول الشركات إنشاء جدار حماية بين النظم الحساسة والقوى الخارجية, لكن هذا لا ينجح دائماً.\n",
            "لكن يمكنهم على الأقل وضع شراك خادعة للردع والتشويش, وهذا مفهومٌ يعرف باسم \"الدفاع النشط\".\n",
            "بعد أن اكتشفت نقاشاً غنياً على الإنترنت بشأن الموضوع, طالت لائحتي بشكلٍ كبيرٍ جداً وغطت كل ولايات الاتحاد تقريباً.\n",
            "رصدت القليل منها.\n",
            "محطتي التالية كانت بيلينغهام, المحاذية للحدود الكندية.\n",
            "عدنا إلى القطار لنواصل رحلتنا جنوباً.\n",
            "مررناعلى بلدة صغير ترتفع فيها مئذنتان.\n",
            "في كل محطة, هناك حارسٌ يرتدي قبعة حمراء ويقف على منصة, وفاحصٌ للعجلات يجول على طول القطار حاملاً مطرقة يطرق بها بلطف على عجلات القطار.\n",
            "بعد ذلك, جولة في السوق الصباحية (من 6:30 إلى 10:00 صباحاً): حلوى الأرز, وشرانق الدبابير (تعد الشرانق طعاماً شهياً), ورئة الثور, وقشور وأرواق شجر جوز الأريكا, والضفادع وأسماك السلور.\n",
            "قد يكون هذا التدخل هو الأوسع من قبل بكين منذ تسلمها لهونغ كونع عام 1997 من المملكة المتحدة.\n",
            "ويلزم القسم المشرعين أن يقسموا بالولاء لهونغ كونغ كجزءٍ من جمهورية الصين الشعبية.\n",
            "حدث جدالٌ داخل حكومة هونغ كونغ التي يقودها مشرعون موالون لبكين بخصوص أنه لا ينبغي للزوجين أن يتبوأا المنصب.\n",
            "قال: \"ترى بكين أن تدخلها ضروري لمنع حدوث شلل تشريعي في المدينة\".\n",
            "وفي الوقت نفسه يبدو أن هونغ كونغ تستعد لموجة مظاهرات جديدة.\n",
            "قال لبرنامج \"آندرو مار\" على بي بي سي: \"آخر ما تريده الحكومة هو إقامة انتخابات عامة\".\n",
            "حلمه أن ينهي مسيرته المهنية هنا.\n",
            "من السهل نسيان تعادلٍ في مباراةٍ كنت مسيطراً فيها, لكن أن يحدث ذلك ثلاث مرات متتالية فهذا يدل على وجود ضعف.\n",
            "نشعر بالخيبة لأننا ضيعنا ست نقاط على أرضنا.\n",
            "كان هذا هو الحال بكل تأكيد بالنسبة إلى آندي عندما لعب ضد بينوا بيير في مونت كارلو في نيسان الماضي.\n",
            "لكن الآن بات كل شيء يفتقد إلى التوازن ويبدو أنه يبحث عن حلول طوال الوقت.\n",
            "أتساءل أيضاً ما إذا كان كأس ديفيس قد لعب دوراً.\n",
            "كشف المسح السنوي أن المخاوف بشأن تحمل أعباء مالية جديدة قد تصاعدت.\n",
            "أضافت الآنسة هوبلي: \"لا ينبغي للارتفاع الحاد في المخاطر السياسية أن يمر مرور الكرام\".\n",
            "خبر الغش الذي كانت تقوم به الشركة ـوالذي استمر على مدى سنواتـ كلف فولكسفاغن عشرات مليارات اليوروات من قيمتها وكلف المدير التنفيذي مارتن فينتركورن عمله.\n",
            "كما عرض ذلك فولكسفاغن إلى طلبات بتعويضات هائلة وإجراءات قانونية ويعتقد أن ذلك قد يفوق 16 مليار يورو.\n",
            "بدأ التحقيق في حزيران, مع التركيز على السيد فينتركورن ومدير العلامة التجارية هربرت ديس الذي بقي في شركة صناعة السيارات.\n",
            "رقي إلى منصب رئيس مجلس الإدارة في تشرين الأول من عام 2015, الشهر التالي لاكتشاف الفضيحة.\n",
            "كان من المتوقع أن تبدأ الشركات بالتعاقد في شهر تموز, مباشرةً بعد تصويت بريكزيت, لكن بدلاً من ذلك تمكنت من مواصلة النمو بشكلٍ مطرد.\n",
            "توسعت أعمال البيع بالتجزئة والجملة مع حفاظ المتسوقين على تفاؤلهم, كما ازدهرت أيضاً شركات خدمات المستهلكين.\n",
            "ستكون هناك حدودٌ لقدرته على الإنفاق, حيث أن الحكومة لا تزال تعاني من عجزٍ كبيرٍ في الميزانية.\n",
            "ستتغير الكلفة شهرياً ومن المتوقع أن يرتفع السعر خلال الشتاء مع تزايد الاستخدام.\n",
            "تبلغ كلفة التعرفة الثابتة لدى شركة \"إي-أون\" 760 جنيه إسترليني وسيدفع عملاء شركة \"آفرو إنيرجي\" نحو 760 جنيه إسترليني مقابل تعرفتها البسيطة والمختارة.\n",
            "أم أنها تكلفة قياسية أو تعرفة مسبقة الدفع؟\n",
            "يمكن للمستثمر ذي الحظ المتوسط وسندات بقيمة 10000 جنيه إسترليني أن يتوقع تحقيق مكاسب سنوية تبلغ 125 جنيه إسترليني.\n",
            "إذا فعلوا ذلك, لن يكون من الممكن تمييز السندات الخاصة عن حسابات التوفير العادية.\n",
            "تستخدم الأموال المستثمرة في السندات الخاصة وفي الحسابات الأخرى في مصرف \"ناشيونال سيفينغز آند إنفستمنتس\" تسهم في الإنفاق الحكومي.\n",
            "هذا لم يمنع المستثمرين من الاندفاع لوضع أموالهم في الصناديق.\n",
            "ويتبعه صندوق آفيفا إنفستورز متعدد الإستراتيجية ذو العائد والدخل المستهدف, الذي وضع فيه المستثمرون ملياري جنيه إسترليني و1,4 مليار جنيه إسترليني على التوالي.\n",
            "هذا يعني أنها لم تستفد من الدفعة التي أحدثها انخفاض الجنيه الإسترليني للأصول الخارجية.\n",
            "تساهم أديداس في تنظيف محيطات الأرض من خلال استخدام النفايات العائمة حول العالم في صنع الأحذية.\n",
            "يمكن للمستهلك أن يعزز الطلب على التغيير.\n",
            "وأورد تقريرٌ مهمٌ في كانون الثاني أن المحيطات ستحوي على كميات من البلاستيك أكثر من الأسماك بحلول عام 2050 ما لم يتخذ العالم إجراءات جذرية لمنع تسرب القمامة إلى البحار.\n",
            "بعد إجراء جراحة عبقرية والكثير من التأهيل الصعب والقاسي, شفيت تماماً.\n",
            "محذراً من أن هيئة الخدمات الصحية الوطنية ترزح تحت \"ضغطٍ هائل\", حث الناس على تحمل المزيد من المسؤولية من أجل صحتهم.\n",
            "تعرض أربعة من كل 10 أشخاص بالغين للإصابة جراء الطقس السيئ, فيما يستخف تسعة من كل 10 أشخاص بمدى برودة الطقس في بريطانيا خلال الشتاء.\n",
            "سيلعبون يوم السبت, 10 حزيران.\n",
            "كان العام الماضي رائعاً, وأنا مستعدٌ للعودة ليكون عام 2017 أفضل.\n",
            "بدأت في شركة شكسبير الملكية في منتصف الستينيات في دور إحدى رفقاء اللجوء في مسرحية مارات ساد.\n",
            "الملابس معاصرة.\n",
            "من أين تستمد كل هذه الطاقة؟ أو ذلك الصوت الذي يخرج قوياً بحيث يحدث موجة صادمة؟\n",
            "تبرز عروق رقبتها بشكلٍ كبير, وترتعش يداها.\n",
            "من يمكن أن يلوم من يتيح المجال لغليندا كي تؤدي بهذا الشكل الرائع؟\n",
            "عمل في مجال الأخبار والشؤون اليومية في الإذاعة والتلفزيون لعقود.\n",
            "من الناحية النظرية, إذا تم الأمر بالشكل الصحيح, سيكون غير قابل للكشف.\n",
            "ضع الميكروفون.\n",
            "وفقاً لتعداد المخرج نفسه, فهو قد أخرج ثمانية أفلام روائية حتى الآن.\n",
            "تغيرت السينما بشكلٍ كبير بحيث تسببت هوليوود بنفور جمهور العائلات.\n",
            "من وجهة نظر المخرج أن الفيلم ما هو إلا توازنٌ هشٌ بين الهتافات العائلية الصاخبة والدراما الاجتماعية القاسية.\n",
            "فمن ناحية, هو يؤنس ويبهج القلب ببساطة وكأنه مصنوعٌ من أجل مشاهدته من بعد ظهر يوم الأحد.\n",
            "وطبعاً هناك بوب, وهو مصدرٌ دائمٌ للترفيه.\n",
            "فكانت النتيجة نجاحاً باهراً.\n",
            "بالنسبة إلى الجمهور المعاصر, الذي لا يملك معظمه خبرةً بالجبهات الأمامية من الحروب, تنتمي أعمال دوس إلى عالمٍ لا يمكن تخيله.\n",
            "لقصة دوس أيضاً جانبٌ بغيض مما جعلها أكثر جاذبية.\n",
            "كان كل المسعفين مسلحين, إلا أنا.\n",
            "عندما مات ميليكان, افترضنا أيضاً أنها آخر مرة سنرى فيها أودي المختل المضطرب.\n",
            "هل المسلسل الثاني ناجحٌ حتى الآن؟\n",
            "يقول تسيمر: \"الأبطال الخارقون خارج ما يألفه البشر وهذا أيضاً كذلك, لذا عاملته كفيلمٍ درامي\".\n",
            "لكن أفعال كوتون الشريرة لم تظهر جراء نوعٍ من الرغبة القاهرة بالقتل.\n",
            "ولدت كوتون في 31 تشرين الأول 1832 في إحدى القرى القريبة من سندرلاند.\n",
            "قد لا يكون ذلك مهماً بما أنني أنزعج طويلاً من ذلك.\n",
            "لم تعد خاصة بالسبعينيات, الصوف ـأو تغطية الأسطحـ عاد رائجاً من جديد.\n",
            "كلف برج ساوث بانك, وهو أحد معالم لندن, مصممة الديكورات ريتشل وينهام لتصمم قسم العرض.\n",
            "ترتبط النزعة اللمسية ارتباطاً وثيقاً بهوسنا المتنامي بصنع الأشياء.\n",
            "بعد ذلك بسنتين, يحاكم جوتينغ, الذي بلغ الحادية والثلاثين من عمره الآن, أمام المحكمة العليا في هونغ كونغ, بتهمة قتل شخصين وبتهمة منع الدفن بشكل قانوني.\n",
            "لا أدري لم اخترتها...\n",
            "بعد سنتين وفي المحكمة العليا في هونغ كونغ, بدا جوتينغ في غاية الهدوء.\n",
            "في النهاية, نادراً ما يقاس أداؤنا التنظيمي من خلال مدى الأمان لدينا أو عدد القواعد التي نتبعها.\n",
            "نتيجة لذلك, فتح الكثيرون بريدهم الإلكتروني أو ضغطوا من دون تفكير على روابط ومرفقات من دون التفكير في عواقب ذلك.\n",
            "أولاً, علينا أن نعلم الناس كيفية حماية أنفسهم بشكلٍ أفضل على الإنترنت.\n",
            "أخيراً, علينا أن نسهل الأمر على الناس للإبلاغ عن المخالفات المشتبه فيها وعن رسائل البريد الإلكتروني الضارة.\n",
            "أصبح الاقتراع, في عيون الإرهاب, الهدف السهل الجديد.\n",
            "إنها مشكلة وجودية إلى أقصى حد تخص الأمنٍ القومي .\n",
            "الثلاثاء هو يوم الخروج للاقتراع, لكنه لن يعني شيئاً إذا لم يكن اسم الناخب المسجل مدرجاً على القوائم.\n",
            "عددٌ كبيرٌ من هؤلاء, في منطقة تشهد تنافساً شديداً, سيؤدي إلى فوضى في يوم الانتخاب.\n",
            "كارولينا الشمالية هي حجر الأساس لهذه الانتخابات.\n",
            "دونالد ترامب رجلٌ مغرور ومتغطرس ومتبجح لا يهمه سوى نفسه, كما أن مزاجه متقلب ولا يناسب الولايات المتحدة.\n",
            "أكثر من 5,7 مليون من أهل فلوريدا ذهبوا إلى مراكز الاقتراع بالفعل بعد نحو أسبوعين من التصويت الشخصي المبكر.\n",
            "جاء تقدم الحزب الجمهوري نتيجة الإقبال الكبير من المقترعين في الخارج, وقدرت أعدادهم بنحو 16500 في وقتٍ سابق من هذا الأسبوع.\n",
            "أتحدث عن الانتحابات بالبطع, لا مسلسل \"صراع العروش\".\n",
            "على مارتن أن ينتهي من الكتابين المتبقيين من سلسلته الشهيرة, واللذين يحملان عنوانين مبدئيين هما: \"رياح الشتاء\" و\"حلم الربيع\".\n",
            "على الطلاب الهولنديين أن يقرروا ما إذا كانوا سيسوقون دراجتهم الكهربائية تجارياً.\n",
            "قالت المتحدثة باسم هارلي-ديفيدسون أن الجداول الزمنية التي عرضتها وسائل الإعلام لعام 2017 أو 2020 ليست دقيقة.\n",
            "ارتفعت العقود الآجلة للأسهم الأمريكية بأكثر من 1% إلى جانب الأسواق الأوروبية.\n",
            "يبيع المستثمرون السندات الحكومية, والسندات الأمريكية والأسترالية هي الأكثر تأثراً.\n",
            "يعود الفضل إليه في دعم الجهود الرامية إلى معالجة جبال الديون المتراكمة من قبل الحكومات المحلية في الصين.\n",
            "لكن لم يظهر الأمر إلا عندما نبهت وكالة حماية البيئة الأمريكية بشأن المشكلة.\n",
            "كانت شهية الصين الكبيرة للدجاج المقلي هي السبب الأساس الذي جعل المستثمرين يحبون سلسلة مطاعم \"يم براندز\" التابعة ل\"كيه إف سي\".\n",
            "بمساعدة الاتحاد الأمريكي للحريات المدنية تحديا سلطات الولاية, وانتقلت قضيتهما في النهاية إلى المحكمة العليا الأمريكية.\n",
            "كما يوضح الفيلم فإن الزوجين لوفينغ ـريتشارد بالتحديدـ شاركا في معارضة السيرورة التاريخية.\n",
            "يبدأ فيلم \"لوفينغ\" وريتشارد ومليدريد زوجان بالفعل, ويمر على علاقةٍ رومانسية من الرائع رؤيتها ولو باختصار.\n",
            "المشاهير والمعجبون وحتى مراسلي \"سي إن إن\" يرتدون ملابس شخصيات مسلسل \"أشياء أكثر غرابة\" خلال العطلة.\n",
            "لم أكن قد شاهدت الكثير من الحلقات حتى بدأ هاتفي بالوميض.\n",
            "كأحد أهم رجال نيغان (جيفري دين مورغان), لديه حرية التصرف في أمورٍ معينة.\n",
            "نورمان أحد أقرب رفاقي إلي, لذا من السيئ جداً رؤيته في تلك الحالة العاطفية.\n",
            "بعد الحلقات الجديدة يبث برنامج \"الموتى المتكلمون\".\n",
            "قال بارات: \"في المدن التي انطلقنا فيها أو التي لا زال فيها عملنا قيد الإنشاء, سيستمر عملنا\"\n",
            "قيل أن جهود الإنترنت هي الدافع الأساس للإنفاق الرأسمالي على الوحدة.\n",
            "في الوقت الراهن, يتردد المحللون في شطب الخدمة بالنسبة إلى الأموات.\n",
            "في هولندا, اتخذت السلطات تدابير تكنولوجية بسيطة لتتبع الطائرات من دون طيار.\n",
            "أعلنت ميكروسوفت يوم الأربعاء عن برنامج محادثة جديد في العمل على وشك مزاحمة البرنامج الأكثر شعبية \"سلاك\".\n",
            "ثمة أيضاً خيارٌ بإرسال رموز تعبيرية وملفات صور GIF متحركة وصور الميمات التهكمية والملصقات عبر منصة البرنامج مع ربطه بمنشورات تويتر الخاصة بك.\n",
            "أبرزت هذه الخطوة رغبة الشركة بأن يبدأ المستخدمون بالنظر إلى منتجاتها على أنها أكثر من مجرد أدوات إنتاج.\n",
            "لكن أحدث الجهود في لعبة المحادثة في مكان العمل جزءٌ من نزعة جماعية أكبر من قبل شركات التكنولوجيا.\n",
            "إسنر, الذي أظهر بعضاً من أفضل مهاراته في التنس عندما عادل المباراة بمجموعة لكلٍ منهما, هنأه أيضاً.\n",
            "وقال الأمريكي: \"علي أن أهنئ آندي لتبوئه المركز الأول على العالم, فهذا إنجازٌ رائع\".\n",
            "تحايل شخصان للمشاركة في بطولة كوريا الشمالية للغولف, بحسب أخبار التاسعة في قناة بريزبان.\n",
            "أستراليان, لا يجيدان لعب الغولف باعترافهما, تحايلا للمشاركة في بطولة غولف كبيرة في كوريا الشمالية.\n",
            "كان بوسع سنومان أن يقفز فوق الأسوار العالية التي تفصل بين الحدائق, وكان دوما يعود إلى حيثما كان يشعر أنه موطنه.\n",
            "كان يصول ويجول داخل إسطبلي فمازحت الرجل قائلاً من الواضح أنه لم يكن يرغب بأن يباع.\n",
            "أضاف: \"لم يكترث سنومان لجوني كارسون وهو يحضر سلم الصعود وتراجع ليواجهه\".\n",
            "كنت مجرد صبيٍ ذي حذاءٍ متسخ.\n",
            "ليس هناك موكب عرض, ولم يكن هناك قط.\n",
            "تأمل المكسيك في نهاية المطاف أن ينافس هذا الحدث كرنفال البرازيل.\n",
            "تشرح أليخاندرا غونزاليز آنايا, وهي إحدى المخرجين الفنيين للموكب, ل\"سي إن إن\" عن سبب قرار المكسيك بأن الوقت قد حان لإطلاق مثل هكذا عرض.\n",
            "قالت غونزاليز آنايا: \"ثمة 1200 متطوع يعملون في مكوب العرض وحده\".\n",
            "من الرائع أن نتمكن من إنقاذ ذلك وإلباسه شكلاً جديداً وجعله تقليداً جديداً للمكسيكيين.\n",
            "مع الانتهاء خط القطار المغناطيسي المعلق هذا, أعتقد أن الحكومة تتوقع نمواً اقتصادياً أكبر في اليابان.\n",
            "تتيح تذكرة ساق \"الفورمولا 1\" دخول حاملها إلى الحفل في ذات اليوم.\n",
            "الموقع الإلكتروني الخاص بحلبة ياس مارينا يحوي المواعيد المحددة.\n",
            "لكل من يريد رؤية العاصمة في كامل أبهتها, تشرين الثاني هو الوقت الأنسب للذهاب.\n",
            "كما أنها غذت ظهور الأبنية الحديثة الشاهقة, مثل ماها ناخون الخيالي, أطول مبنى في بانكوك.\n",
            "لم تلق كل وسائل المواصلات في المنطقة نجاحاً.\n",
            "بعمق 100 مترٍ (328 قدم) تحت الأرض, يعد مترو بيونغ يانغ أحد أكثر أنظمة المواصلات عمقاً في العالم.\n",
            "تحدثت إلى برنامج \"سي إن إن ستايل\" بشأن التجربة.\n",
            "رأيت في بيونغ يانغ أناساً يحملون هواتف ذكية, لكنهم كانوا أقل بكثير.\n",
            "لكن يمكن للعمارة أن تبني جسراً بين الأحياء والأموات, وتطمس الحدود إلى حدٍ ما.\n",
            "عندما يموت الناس جراء الشيخوخة في الهند, يفترض ذلك أن يكون مدعاةً للاحتفال.\n",
            "يتمتع المبنى الحائز على جوائز والذي صممه خوان كارلوس سالاس بمظهرٍ أشبه بالتمثال وكل تفصيلٍ فيه يحمل معنى.\n",
            "يقول: \"لن تفيد العمارة الأموات, لكنها ستساهم في إبقاء ذكراهم حية بين الأحياء\".\n",
            "سمح الميثاق بإنشاء نقابةٍ للتجار يديرها مواطنو البلدة لفرض ضريبة على من يمر من منطقتهم.\n",
            "إنها غنية بالمعادن, إذ تحوي احتياطات كبيرة من الذهب والألماس وفلزات المنغنيز والرصاص والزنك والنيكل والكوبالت والموليبدنوم.\n",
            "في أقصى الشمال الغربي, تسود غابات التايغا الصنوبرية التي تغطي نسبة كبيرة من سيبيريا.\n",
            "ستستضيف مدينة كراسنويارسك الألعاب الأولمبية الجامعية الشتوية لعام 2019.\n",
            "ومثالها جزر لاين في المحيط الهادي وجزر المالديف في المحيط الهندي.\n",
            "جزر غرانيتية تتضمن جزر سيشل وجزيرة تايومن وجزر بركانية مثل جزيرة سانت هيلينا.\n",
            "من الأمثلة على الجزر الصحراوية تلك الجزر الصغيرة الموجودة قبالة سواحل باخا كاليفورنيا, المكسيك.\n",
            "حافظت دولة مدينة أثينا الإغريقية في القرن الخامس قبل الميلاد, والتي كانت تعتمد على واردات الحبوب من سكيثيا, على تحالفات استراتيجية مع المدن التي كانت تسيطر على المضائق مثل المستعمرة الميغارية بيزنطة.\n",
            "كان داريوس يرى أن الفضل الأكبر يعود للقائد ميغابازوس في تحقيق الانتصار في البلقان.\n",
            "غزت القوات الأخمينية تراقيا والمدن الإغريقية الساحلية والبايونيين.\n",
            "في نهاية المطاف, وبين عامي 512 و511 ق.م, أقر الملك المقدوني أمينتاس الأول بالهيمنة الأخمينية وسلم بلاده لتكون دولة تابعة للإمبراطورية الأخمينية الفارسية.\n",
            "ضم الجيش الأخميني متعدد الأعراق الكثير من الجنود البلقانيين.\n",
            "علاوةً على ذلك, حدثت حالات زواجٍ كثيرة بين النخب المقدونية والفارسية.\n",
            "عام 1912 تأسست أول شركة إنتاج سينمائي (أثينا فيلم) تبعتها (آستي فيلم) عام 1916.\n",
            "كان أكثر الأفلام نجاحاً عام 2007 هو إل غريكو, من إخراج يانيس ساماراغديس.\n",
            "في تموز من عام 1918, وقعت المعاهدة بين فرنسا وموناكو, والتي قضت بحماية فرنسية محدودة على موناكو.\n",
            "يتكون الجهاز التنفيذي من وزيرٍ للدولة كرئيسٍ للحكومة, والذي يرأس مجلساً حكومياً مكوناً من خمسة أعضاء.\n",
            "تضم الشرطة وحدةً خاصة تسير دوريات وتراقب المراكب.\n",
            "تشمل المشاريع الراهنة لاستصلاح الأراضي توسيع منطقة فونتفيل.\n",
            "مع ذلك, ثمة اختلافات كبيرة في القوانين والإجراءات بين إيرلندا الشمالية وإنجلترا وويلز.\n",
            "تصنيف بيرغيرون هو الأكثر قبولاً من بين جميع تصنيفات الكتل الهوائية.\n",
            "بالرغم من أن تصنيف الكتل الهوائية استخدم بدايةً في التوقعات الجوية خلال الخمسينيات, بدأ خبراء المناخ بوضع بيانات مناخية إجمالية استناداً إلى هذه الفكرة عام 1973.\n",
            "الرياح الموسمية رياحٌ تسود في فترةٍ معينة وتستمر لعدة أشهر, معلنةً دخول موسم الأمطار في الإقليم.\n",
            "عبرت مجموعات متعددة من القبائل الجرمانية والقبائل السلافية الكبرى من مورافيا خلال عصر الهجرات قبل أن يتوطد فيها السلاف في القرن السادس الميلادي.\n",
            "في نهاية القرن الثامن, أقيمت الإمارة المورافية على أراضي ما يعرف حالياً بمورافيا الجنوبية الشرقية وزاهوري في جنوب غرب سلوفاكيا وأجزاءٍ من النمسا السفلى.\n",
            "في عام 833 م, أصبحت هذه دولة مورافيا العظمى بعد فتح إمارة نيترا (سلوفاكيا المعاصرة).\n",
            "الملك الأول كان موجمير الأول (حكم ما بين 830-846).\n",
            "غزا لودفيش الجرماني مورافيا واستبدل موجمير الأول بابن أخيه راستيز الذي أصبح القديس راستيسلاف.\n",
            "بالإضافة إلى ذلك, يحدد النظام الأساسي انتخابات مجالس الأقاليم والمناطق الحضرية.\n",
            "بالرغم من أن أيسلندا كانت تابعة سياسياً للدنمارك حتى تاريخٍ متقدم (1918), كان تأثير اللغة الدنماركية على اللغة الأيسلندية ضئيلاً جداً والاستعارات منها قليلة.\n",
            "كما أن هناك لغات مشتقة من اللغة الفنلدنية, وقد تطورت بشكلٍ منفصل, وتعرف بالميانكيلي في السويد وبلغة كفين في النرويج.\n",
            "يميز تعاقب الأحرف الساكنة كلاً من اللغة الفنلندية ولهجات السامي الشمالية, لكن هذا غير موجود في لهجات السامي الجنوبية, والتي يعتقد بأن لها تاريخاً لغوياً مختلفاً.\n",
            "يعرف الجزء الشمالي من القوقاز باسم القوقاز الأمامي والجزء الجنوبي باسم عبر القوقاز.\n",
            "الغلاف الجوي عبارة عن نظام فوضوي, يمكن لتغييرات صغيرة جداً في جزءٍ من هذا النظام أن تكبر ويكون لها تأثيراتٌ كبيرة على النظام ككل.\n",
            "أثناء هطول الأمطار, تمتص قطرات الماء ثاني أكسيد الكربون من الجو المحيط وتفككه.\n",
            "أحد الأمثلة الأخيرة على التحكم بالطقس كانت استعدادات الصين من أجل الألعاب الأولمبية الصيفية لعام 2008.\n",
            "شكلتها قوى الصفائح التكتونية الأرضية التي كونت الصدع الشرق أفريقي, لتصبح شرق أفريقيا موطن جبل كليمنجارو وجبل كينيا, أطول قمتين في أفريقيا.\n",
            "وقد نشر المذكورون أيضاً الإسلام في الحزام الساحلي, غير أن غالبية البانتو لم يحتكوا بالإسلام قط وظلوا أتباعاً للديانات الأفريقية التقليدية.\n",
            "دمجت فرنسا الاقتصاد الكاميروني بالاقتصاد الفرنسي وحسنت البنية التحتية من خلال الاستثمارات الكبيرة والعمال المهرة, معدلةً نظام السخرة.\n",
            "في 1 تشرين الأول من عام 1961, اتحدت الكاميرون الجنوبية البريطانية سابقاً مع الكاميرون الفرنسية وتشكلت جمهورية الكاميرون الاتحادية.\n",
            "خلص تقرير وزارة العمل الخاص بأسوأ أشكال عمالة الأطفال إلى أن 56% من الأطفال الذين تتراوح أعمارهم بين الخامسة والرابعة عشرة كانوا أطفالاً عاملين وأن نحو 53% من الأطفال الذين تتراوح أعمارهم بين السابعة والرابعة عشرة جمعوا ما بين العمل والدراسة.\n",
            "مناخ الساحل مشابهٌ لمناخ الصحراء الكبرى التي تحدها من الشمال, لكن بشكلٍ أقل حدة.\n",
            "ما بين حزيران وآب من عام 2010 ضربت المجاعة منطقة الساحل.\n",
            "توزعت الكثير من الحضارات القديمة حول سواحل البحر المتوسط, وكانت متأثرة بشكلٍ كبير بقربها من البحر.\n",
            "لقد وفر طرق التجارة والاستعمار والحروب بالإضافة إلى الطعام (من صيد السمك وغيره من المأكولات البحرية) للعديد من المجتمعات عبر العصور.\n",
            "بسبب اشتراكها في المناخ والجيولوجيا والمنافذ البحرية, تنحو الثقافات المتمركزة حول البحر المتوسط إلى أن تكون لديها ثقافةٌ وتاريخٌ متداخلين إلى حدٍ ما.\n",
            "من أبرز الحضارات المتوسطية في العصر الكلاسيكي القديم كانت حضارة الإغريقية بدولها المدينية والحضارة الفينيقية, وقد استعمرت كلٌ منهما سواحل البحر المتوسط على نطاقٍ واسع.\n",
            "لاحقاً, عندما أسس أغسطس الإمبراطورية الرومانية, كان الرومان يشيرون إلى البحر المتوسط بقولهم \"ماري نوستروم\" أو \"بحرنا\".\n",
            "البليندليا هو ممرٌ مائيٌ محاط بالجزر الصخرية الصغيرة يبدأ بالقرب من مدينة كريستيانساند جنوب النرويج, ويمر ببلدة ليليساند.\n",
            "بالدنماركية, تنطبق الكلمة أيضاً على البحيرات الضحلة.\n",
            "مثل الأودية الخلالية, عادةً ما تكون بحيرات المياه العذبة عميقة.\n",
            "كانوا يتناولون المشروبات الكحولية مثل الجعة وخمرة العسل والبيور (نبيذ فاكهة قوي), أما الأثرياء فالنبيذ المستورد.\n",
            "مهما كانت القواعد, كانت المنازلات عادةً ما تنتهي بموت أحد فحلي الخيل.\n",
            "تجمد بوغاز شلاي إلى حد الصلابة إلى جانب الأراضي الرطبة بين دانيفيركه وهوسوم خلال الشتاء القارس, فمباشرةً احتلت الأراضي الواقعة جنوب دانيفيركه من قبل الجيش الألماني المتقدم.\n",
            "كان هذا التراجع بمثابة مفاجأة للجيش النمساوي-البروسي, ونجح كل الجيش الدنماركي تقريباً في إتمام الإخلاء.\n",
            "لكن أسفر ذلك عن التخلي عن قطعٍ مهمة من المدفعية الثقيلة, وبقي سبب عدم استخدام السكة الحديدية المتجهة إلى فلنسبورغ بالصورة الصحيحة من أجل الإخلاء مثار جدلٍ تاريخي.\n",
            "شكل خبر الانسحاب صدمةً بالنسبة إلى الرأي العام الدنماركي الذي كان يعتبر الدانيفيركه منيعة, وجرد الجنرال دي ميزا فوراً من سلطته.\n",
            "وبقيت الدانيفيركه في حوزة الألمان منذ ذلك الحين.\n",
            "زادت كمية البضائع المنقولة عبر الدانوب إلى نحو 100 مليون طن عام 1987.\n",
            "يقع الجزء الأكبر من دلتا الدانوب في رومانيا (مقاطعة تولتشيا), في حين أن الجزء الشمالي عند الضفة اليسرى من فرع كيليا فيقع في أوكرانيا (أوديسا أوبلاست).\n",
            "المناخ جافٌ جداً بحيث تعد هذه السهول أحياناً جزءاً من الصحراء الكبرى.\n",
            "وتختلف عن الجزء الغربي من البلاد في أن أبرز تضاريسها غير موازية للساحل.\n",
            "يقع شمال الجزائر في المنطقة المعتدلة ويتمتع بمناخٍ متوسطيٍ معتدل.\n",
            "الأول والأهم كان نهر أوهايو الذي يصب في نهر المسيسيبي.\n",
            "في خضم الصراع كان السؤال ما إذا كانت كانساس ستنضم إلى الاتحاد كولاية تمنع الرق أو كولاية تسمح به.\n",
            "أظهر رد الفعل الوطني تجاه الأحداث في كانساس مدى عمق الانقسام الذي وصلت إليه البلاد.\n",
            "بالنسبة إلى اللون, تظهر الأوراق تنوعاً كبيراً في درجات اللون الأخضر, من المائل إلى الصفرة وحتى المائل إلى الزرقة.\n",
            "كان السكان الأصليون في الأمريكيتين يعتمدون عليه كجزءٍ أساسيٍ من علاجاتهم الطبية.\n",
            "غالباً ما كانت تستخدم الكنائس في شمال غرب أوروبا وأوكرانيا أغصان الصفصاف بدلاً من سعف النخيل في طقوس أحد الشعانين.\n",
            "تزود جبال الألب المناطق المنخفضة الأوروبية بمياه الشرب والري والطاقة الكهرومائية.\n",
            "بالرغم من أن مساحتها تبلغ 11% فقط من مساحة أوروبا, تؤمن جبال الألب ما يصل إلى 90% من المياه إلى المناطق الأوروبية المنخفضة, بالأخص إلى المناطق القاحلة وخلال أشهر الصيف.\n",
            "تعتمد مدنٌ مثل ميلان في 80 بالمئة من مياهها على مجاري المياه السطحية من جبل الألب.\n",
            "تستخدم مياه الأنهار من قبل أكثر من 500 محطة طاقة كهرومائية تولد ما يصل إلى 2900 كيلوواط من الكهرباء.\n",
            "تنبع أنهارٌ أوروبية كبرى من سويسرا, مثل الرايت والرون والإين والتيتشينو والبو, جميعها تنبع من الألب وتجري في الدول المجاورة لتصب في النهاية في بحر الشمال والبحر المتوسط والبحر الأدرياتيكي والبحر الأسود.\n",
            "يطلق على العلم الذي يدرس البراكين اسم علم البراكين أو البركانيات.\n",
            "تكون الماغما في غاية اللزوجة بسبب احتوائها على كميات كبيرة من السيليكا, لهذا لا تصل عادةً إلى السطح بل تبرد تحت الأرض.\n",
            "لا تثور عادةً بشكلٍ كارثي.\n",
            "يسبب الاحتباس الحراري تغيراتٍ في أنماط مواسم الأمطار.\n",
            "تضم هوراً صغيراً لا يزال مملوءاً بالماء.\n",
            "تم إعلانها كمحمية برية عام 1975.\n",
            "تتواصل التحقيقات والبعثات الاستكشافية إلى الجزيرة.\n",
            "من المحتمل أن مثل هذه المستوطنات بدأت عام 1000 ق.ب تقريباً, عندما توجه الميلانيزيون شمالاً.\n",
            "خلال السنوات التي قضتها العائلة في كنتاكي و إنديانا, عمل توماس لينكولن كمزارع وصانع آثاث ونجار.\n",
            "يزيد تدمير الموائل الطبيعية إلى حدٍ كبير من قابلية المنطقة للتعرض إلى كوارث طبيعية مثل الفيضانات والجفاف وانخفاض المحاصيل الزراعية وانتشار الأمراض وتلوث المياه.\n",
            "من ناحية أخرى, فإن النظام البيئي السليم مع حسن الإدارة سيقلل من فرص وقوع هذه الأحداث, أو سيخفف من آثارها على الأقل.\n",
            "يمكن للأراضي الزراعية أن تعاني فعلياً جراء تدمير المناطق الطبيعة المحيطة.\n",
            "على مدار السنوات الخمسين الماضية, أدى تدمير الموائل الطبيعية المحيطة بالأراضي الزراعية إلى إفساد نحو 40% من الأراضي الزراعية حول العالم من خلال التعرية وملوحة التربة ورص التربة واستنزاف المواد الغذائية والتوسع العمراني.\n",
            "كما يفقد البشر الاستخدامات المباشرة للموئل الطبيعي عند تدمير هذا الموئل.\n",
            "غالباً ما توصف بابوا غينيا الجديدة بأنها قد تكون أسوأ مكانٍ في العالم من حيث العنف ضد النساء.\n",
            "لا تزال هذه السلالات النباتية موجودة في بابوا غينيا الجديدة.\n",
            "تعد أمريكا الشمالية وأمريكا الجنوبية قارتين منفصلتين في نموذج القارات السبع.\n",
            "أبحر كريستوفر كولومبوس عبر المحيط الأطلسي نحو جزر الهند الغربية عام 1492, مطلقاً عصر الاستكشافات الأوروبية للأمريكيتين.\n",
            "وهي ليست رائجة جداً بسبب مواقعها النائية والخالية من الطرقات في أغلب الأحيان.\n",
            "تملك جهات خاصة بقية الأراضي, والتي يبلغ مجموعها نحو 1% من أراضي الولاية.\n",
            "وهي أيضاً المنطقة الوحيدة في ألاسكا التي يتجاوز فيها معدل درجات الحرارة القصوى خلال النهار درجة التجمد في أشهر الشتاء.\n",
            "استطونت العديد من الأقوام الأصلية ألاسكا لآلاف السنين قبل وصول الشعوب الأوروبية إلى المنطقة.\n",
            "من هنا سرقوا قارباً صغيراً تركه سكانٌ أستراليون أصليون كانوا يعيشون في المنطقة.\n",
            "مع ازدهار بريزبن, ساءت حالة النهر إلى أن وصل إلى أسوأ أحواله حين أصبح مجرد مكب للصرف الصحي والنفايات.\n",
            "تم الإعلان أن عام 1987 هو \"عام النهر\" من قبل العمدة اللورد الخاصة بمدينة بريزبن في ذلك الوقت, سالي-آن أتكينسون.\n",
            "العاصفة الرملية والعاصفة الترابية ظاهرتان طبيعيتان تحدثان في المناطق الجافة حيث لا تكون الأرض محمية بغطاء من النباتات.\n",
            "عادةً ما تبدأ العواصف الترابية في أطراف الصحاري وليس داخل الصجاري ذاتها حيث تكون الحبيبات الأدق حجماً قد هبت متطايرةً بالفعل.\n",
            "مع بدء هبوب رياحٍ متواصلة, تبدأ الجزيئات الدقيقة الموجودة في الجزء الظاهر من الأرض بالاهتزاز.\n",
            "مع سرعات الرياح الكبيرة, ترتفع بعض الجزيئات إلى التيار الهوائي.\n",
            "عندما تحط, تضرب جزيئاتٍ أخرى قد ترتفع في الهواء بدورها ليبدأ تفاعلٌ متسلسل.\n",
            "بيد أن التحضر في تايلاند تسبب أيضاً بزيادات كبيرة في مشاكل مثل البدانة.\n",
            "العواصف الرعدية نادرة, إذ لا تشهد المدينة رعداً لأكثر من سبعة أيامٍ في السنة.\n",
            "بحلول عام 1340, كان عدد سكان القاهرة يقرب من نصف المليون, مما جعلها أكبر مدينة غربي حدود الصين.\n",
            "في غضون ذلك, شجعت القدرة الإضافية على التحكم بمنسوب النيل على تطوير جزيرة الزمالك والواجهة المائية للمدينة.\n",
            "يأتي الناتج الإجمالي الصناعي لولاية نيفادا من السياحة والتعدين وصناعة الآلات والطباعة والنشر والصناعات الغذائية والمعدات الكهربائية.\n",
            "اشتق اسم البحر الكاريبي من الكاريب, وهم إحدى مجموعات الأمريكيين الأصليين الذين كانوا يسكنون المنطقة عند وصول الأوروبيين في نهاية القرن الخامس عشر.\n",
            "بعد اكتشاف أمريكا من قبل كريستوفر كولومبوس عام 1492, أخذت الجزر اسمها من لفظة \"أنتياس\" الإسبانية, ومن ذلك صار اسم \"بحر الأنتيل\" اسماً بديلاً شائعاً \"للبحر الكاريبي\" في عدة لغات أوروبية.\n",
            "خلال القرن الأول للتنمية, ظلت هيمنة الإسبان على المنطقة بلا منازع.\n",
            "بدءاً من القرن السادس عشر, عرف الأوروبيون الذين كانوا يزورون منطقة الكاريبي \"بحر الجنوب\" (وهو المحيط الهادي جنوب برزخ بنما) كمقابل ل\"بحر الشمال\" (وهو البحر الكاريبي الواقع شمال ذات البرزخ).\n",
            "لم يكن البحر الكاريبي معروفاً لسكان أوراسيا حتى عام 1492, عندما أبحر كريستوفر كولومبوس لأول مرة إلى مياه الكاريبي سعياً وراء العثور على خطٍ بحري إلى آسيا.\n",
            "للأسف, عمل النمو السكاني السريع والزحف العمراني الكبير على حجب الكثير هذه النظم البيئية بالتطور الحديث.\n",
            "الحكومة المحلية لكيب تاون هي بلدية كيب تاون, وهي بلدية شاملة للمنطقة الحضرية.\n",
            "المقال, الذي نشر بعنوان \"الأعماق\", كان سرداً حياً لرحلة على طول قاع المحيط.\n",
            "كما أنها استغلت علاقاتها الشخصية مع العديد من العلماء الحكوميين الذين أمدوها بمعلومات سرية.\n",
            "بحلول منتصف عام 1962, كان بروكس وكارسون قد انتهيا إلى حدٍ كبير من التنقيح, ويعدان العدة للترويج للكتاب من خلال إرسال مخطوطات لأشخاصٍ مختارين من أجل اقتراحات نهائية.\n",
            "هذا وضع الكتاب موضع اهتمام الصناعات الكيميائية وجماعات الضغط الخاصة بها , إلى جانب شريحة واسعة من الجمهور الأمريكي.\n",
            "خلال خمسينيات القرن الرابع عشر, بات الملك غوغمين مطلق الحرية أخيراً في إصلاح حكومة غوريو عندما بدأت سلالة يوان بالانهيار.\n",
            "منذ منتصف ستينيات القرن العشرين, ازدهر الاقتصاد الكوري الجنوبي بشكل هائل وتغير الهيكل الاقتصادي بشكلٍ جذري.\n",
            "عادةً ما تتضمن مستوى منخفض من المعدات المتطورة, مثل أماكن للنزهات الخلوية ومقاعد وممرات.\n",
            "كان منتزه أستراليا الملكي الوطني, الذي أنشئ عام 1879, ثاني منتزه وطني ينشأ رسمياً في العالم.\n",
            "أولاً وقبل كل شيء, كان الأهم توفير مساحة مفتوحة من أجل أهل المدينة وسكانها في المنطقة التي كانت ترتفع فيها المباني بسرعة كبيرة.\n",
            "مع سقوط سلالة تشينغ عام 1911, أعلنت منغوليا تحت حكم بوغد خان استقلالها.\n",
            "لكن جمهورية الصين التي كانت قد تأسست حديثاً اعتبرت أن منغوليا جزءٌ من أراضيها.\n",
            "رأى يوان شيكاي, رئيس جمهورية الصين, أن الجمهورية الناشئة هي وريثة سلالة تشينغ.\n",
            "قال بوغد خان أن كلاً من منغوليا والصين كانتا تحت إدارة المانشو خلال حكم سلالة تشينغ, وبعد سقوط سلالة تشينغ عام 1911, باتت وثيقة استسلام المنغوليين إلى المانشو لاغية.\n",
            "كانت المنطقة التي حكمها بوغد خان هي تقريباً ما كان يدعى سابقاً بمنغوليا الخارجية خلال حكم سلالة تشينغ.\n",
            "خلال استعجاله للاستيلاء على قادش, ارتكب رمسيس الثاني خطأً تكتيكياً فادحاً.\n",
            "في الواقع, فإن الدراسة البحثية الأولى عن المعركة, والتي وضعها جيمس هنري برستيد عام 1903, أشادت بالمصادر التي سمحت بإعادة تصور المعركة بشكلٍ لا ريب فيه.\n",
            "رمسيس, غير القادر من الناحية اللوجستية على إقامة حصارٍ لفترة طويلة, عاد إلى مصر.\n",
            "وبالتالي وجد الفرعون المصري نفسه في شمال أمورو, متجاوزاً قادش, في تونيب, حيث لم يصل جنديٌ مصريٌ منذ زمن تحتمس الثالث قبل ذلك بنحو 120 عاماً.\n",
            "ادعى هذه المرة أنه خاض المعركة من دون حتى أن يتكبد عناء ارتداء درعه حتى بعد بدء القتال بساعتين.\n",
            "يشكل تحديد السنة الدقيقة لزواج هيرودوس أنتيباس بهيروديا مثار جدلٍ بين الباحثين.\n",
            "نظراً لأن هيرودوس كان في القدس في ذلك الوقت, قرر بيلاطس أن يرسل يسوع إلى هيرودس ليحاكم.\n",
            "وفقاً للعهد الجديد, قضى بولس ثمانية عشر شهراً في كورينث, بعد نحو سبعة عشر عاماً من اعتناقه للمسيحية.\n",
            "لا يمكن للتاريخ الأخير إلا أن يوافق يوم الجمعة إذا ما أقحم شهرٌ استثنائيٌ إلى ذلك العام, لكن هذا ما ارتآه نيوتن.\n",
            "من الممكن معرفة طور القمر في يومٍ معين قبل ألفي عام لكن ليس إذا كان محجوباً بالغيوم أو الضباب.\n",
            "شيدت قلاعٌ أيضاً في الأجزاء القديمة من نيو فرانس والتي لم تكن قد استوطنت بعد.\n",
            "وهذا وضع أساساً لتحقيق التكامل حيث كان يمكن تطبيق الآليات الاقتصادية والقضائية في كل أرجاء البحر المتوسط كما حدث ذات يوم بدءاً اللاتيوم إلى أرجاء إيطاليا.\n",
            "تروي كل قصيدة جزءاً واحداً فقط من الحرب.\n",
            "في العصور اللاحقة, كان بوسع المسرحيين والمؤرخين وغيرهم من المثقفين تأليف أعمالٍ مستوحاة من حرب طروادة.\n",
            "وقد ظهرت نبوءةٌ تقول أنه إما سيموت بالشيخوخة بعد حياةٍ هادئة, أو سيموت يافعاً في أرض المعركة وسيكتسب الخلود من خلال الشعر.\n",
            "لكن هذا ألغي عند مقتل جوليان في إحدى المعارك عام 363.\n",
            "يعتقد أن آخر دورة ألعابٍ أولمبية أقيمت عام 393.\n",
            "سرعان ما أبهر \"شين كيو\" \"وانغ أنشي\" بمهاراته وقدراته كمسؤولٍ ووكيلٍ عن الحكومة.\n",
            "عام 1072, أرسل شين للإشراف على برنامج وانغ لمعاينة تشكل رواسب الطمي في القناة الصينية الكبرى خارج العاصمة.\n",
            "باستخدام تقنية مبتكرة, جرف شين القناة بنجاح وأثبت القيمة الكبيرة للطمي المجموع كسماد.\n",
            "اكتسب المزيد من الصيت في البلاط عندما أوفد كمبعوثٍ إلى سلالة لياو الخيتانية في صيف عام 1075.\n",
            "قام الخيتانيون بالعديد من المفاوضات العدوانية من أجل مد حدودهم نحو الجنوب, بينما تلاعبوا بالعديد من السفراء الصينيين غير الأكفاء والذين رضخوا لمطالب مملكة لياو.\n",
            "درس الطب أيضاً, خصوصاً في جنوب إيطاليا, حيث كان للطب الإسلامي تأثيراً على المدرسة في ساليرنو.\n",
            "نقل أن تيبيريوس أبدى ندمه على رحيله وطلب أن يعود إلى روما عدة مرات, لكن في كل مرة كان أغسطس يرفض طلبه.\n",
            "يبدو أنه قد تمنى أن يتصرف مجلس الشيوخ والدولة من دونه وكانت أوامره المباشرة غامضة نوعاً, مما كان يشعل جدالاتٍ بشأن مقاصده أكثر مما كانت تمر تشريعاته.\n",
            "كانت الآلهة تمثل بوضوح الاحتياجات العملية للحياة اليومية, وكانت تمنح بكل دقة الطقوس والقرابين التي كانت تعتبر لائقة.\n",
            "كان ذلك عبر القارب من أوروبا القارية.\n",
            "كانت البقايا الشعائرية المكتشفة في الموقع عبارة عن صفٍ من عشرة أحجار كبيرة واقفة, تعرف باسم حجر الحدود, تشير صوب الشمال والجنوب, يبلغ ارتفاع أطولها 3 أمتار, مع وجود هيكل على شكل مذبح في الوسط, وحوض حجري كبير مربع الشكل.\n",
            "لا تزال الغاية المحددة لهذه الأحجار الضخمة مثار جدل, لكن ربما كانت تشكل \"مكان عبادة\" كنعاني من العصر البرونزي الوسيط حوالي عام 1600 قبل الميلاد.\n",
            "دمرت المدينة الكنعانية بفعل حريقٍ من المفترض أنه حدث في أعقاب حملةٍ قام بها الفرعون المصري تحتمس الثالث.\n",
            "أقدم إشارة تاريخية معروفة عن المدينة موجودة في معبد تحتمس في الكرنك على نقشٍ يتحدث عن المواقع التي احتلت.\n",
            "تضم رسائل تل العمارنة, التي تعود إلى القرن الرابع عشر قبل الميلاد, عشر رسائل من ملوك تل الجزر تقسم بالولاء للفرعون المصري.\n",
            "يسجل في شهادة الميلاد التايلاندية تاريخ اليوم والشهر وساعة الولادة, يليها يوم الأسبوع والتاريخ القمري واسم البرج الحيواني المطبق في تلك السنة.\n",
            "برجها الحيواني هو القرد وكانت ذكراها السنوية الستين التقليدية الكبيرة عام 1992.\n",
            "الألوان المباركة لليوم موجودة في جدول أيام الأسبوع, وتحتها رابط إلى صور بوذا لكل يومٍ من أيام الأسبوع.\n",
            "السنة الصينية الجديدة وغيرها من الأعياد التي يتقيد بها التايلانديون الصينيون تختلف بما يتعلق بالتقويمين معاً, حيث أنها تحسب وفقاً للتقويم الصيني.\n",
            "بالإضافة إلى ذلك, عزز الدفاعات بين مصر وآسيا, مشيداً أسوار الحاكم في منطقة شرق الدلتا.\n",
            "حكم خمس عشرة سنة فقط, ويدل على ذلك عدم اكتمال العديد من منشآته.\n",
            "بالرغم من ذلك, يبدو أن كليهما سيطر على أجزاءٍ على الأقل من مصر السفلى.\n",
            "في 9 أيلول من عام 2002, استدرج ألدرين إلى فندقٍ في بيفرلي هيلز بحجة إجراء مقابلة من أجل برنامج تلفزيوني ياباني للأطفال موضوعه الفضاء.\n",
            "تزوج ألدرين ثلاث مرات.\n",
            "عام 1519, أصبح حاكم إمبراطورية هابسبورغ, ثم حاز على لقب الإمبراطور الروماني المقدس عام 1530.\n",
            "كان ينظر إلى كارلوس بالرغم من أفعاله القاسية على أنه حاكمٌ متعاطفٌ مع حاجات هولندا.\n",
            "عام 1566, قدمت مجموعة مكونة من نحو 400 شخص من النبلاء عريضة إلى الحاكمة مارغريت دوقة بارما لوقف الاضطهاد حتى عودة البقية.\n",
            "تسبب صراعها ضد الإمبراطورية العثمانية في البحر المتوسط بتقييدٍ كبيرٍ للقوة العسكرية التي كان يمكن توجييها ضد المتمردين في هولندا.\n",
            "أنشئ مرصدٌ فلكي من العصر البرونزي هناك عام 1900 ق.م تقريباً وظل يخدم المجتمع الذي كان يعيش هناك بشكل متواصل حتى عام 700 ق.م تقريباً.\n",
            "استخدمت المساحة المركزية لمراقبة شروق الشمس واكتمال القمر.\n",
            "تحدد ثلاث علامات موقع شروق الشمس في الانقلابين الشمسيين الصيفي والشتوي وفي الاعتدالين.\n",
            "أربع علاماتٍ أخرى تعطي ميل القمر المكتمل الأدنى والأقصى: في الصيف, وفي الشتاء.\n",
            "وعلامتان تقيسان طول الأشهر القمرية.\n",
            "تكمن أهميته في حقيقتين.\n",
            "وخلال العصر ما بعد الكلاسيكي في يوكاتان استخدم نظامٌ ثالث.\n",
            "ثمة جدلٌ كبيرٌ على أصل كلمة هسبانيا وتستند أدلة كل التخمينات المختلفة في أحسن الأحوال على مجرد تشابهات من المرجح أن تكون من قبيل الصدفة, وعلى أدلة ظنية داعمة.\n",
            "لكن تأثير إسبانيا على الوافدين الجدد كان كبيراً أيضاً.\n",
            "خلال المرحلة الأولى من الرومنة, قسمت شبه الجزيرة إلى قسمين من قبل الرومان لأغراض إدارية.\n",
            "بحلول القرن الثالث, أحدث الإمبراطور كركلا تقسيماً جديداً استمر لفترة وجيزة فقط.\n",
            "لقد أثر فيهما جمال منطقة بحيرة روديارد إلى درجة أنهما عند ولادة طفلهما الأول ألحقا اسمها باسمه.\n",
            "خلال وجوده هناك أيضاً, التقى كيبلينغ ووقع في حب فلورانس غارارد التي كانت ترافق تريكس في ساوثسي (التي عادت إليها تريكس).\n",
            "جعل ستيفين ويلر, المحرر, كيبلينغ يعمل بجد, غير أن حاجة كيبلينغ إلى الكتابة لم يكن بالإمكان إيقافها.\n",
            "بالعودة إلى لاهور, ظهرت نحو 39 قصة في الجريدة الرسمية بين تشرين الثاني 1886 وحزيران 1887.\n",
            "لكن في هذه المرة, كان يفكر على نحوٍ متزايد بالمستقبل.\n",
            "بالرغم من أن رواية \"جين بينغ مي\", التي صدرت عام 1610, تتضمن مواد سابقة, فهي تظهر النزعة نحو التكوين المستقل والاهتمام بالسيكولوجيا.\n",
            "ازدياد معدل التحاق الذكور بالمدرسة الثانوية وزيادة الناتج القومي للفرد والنمو الاقتصادي, كلها عواملٌ ساهمت إلى حدٍ بعيد في تقليل فرص قيام حربٍ أهلية.\n",
            "بشكلٍ خاص, زيادة التحاق الذكور بالمدرسة الثانوية بنسبة 10% فوق المعدل قللت من فرص اندلاع نزاع بنسبة 3%, في حين أسفر معدل نمو أكبر بنسبة 1% من المعدل المذكور في البحث إلى انخفاض فرص اندلاع حربٍ أهلية بنحو 1%.\n",
            "فسر البحث هذه العوامل الثلاثة كوسائل لإهدار مكاسب من قبل تمردٍ ما, وبالتالي تشجع هذه المكاسب المهدرة على التمرد.\n",
            "بعبارةٍ أخرى: يصبح الشباب من الذكور (الذين يشكلون غالبية المقاتلين في الحروب الأهلية) أقل عرضةً للانضمام إلى تمردٍ إذا كانوا يحصلون تعليماً أو ينالون دخلاً مريحاً, ويمكن الافتراض إلى حدٍ كبير أنهم سينجحون في المستقبل.\n",
            "طرح الناتج القومي للفرد كسببٍ للشكوى, التي تؤدي إلى عصيانٍ مسلح.\n",
            "بشر ضمانه للحريات بإنهاء التوترات بين الطوائف وتحويل الإمبراطورية إلى مكانٍ أكثر انسجاماً.\n",
            "قلبت الثورة العربية الكبرى التي انطلقت عام 1916 الطاولة على العثمانيين في جبهة الشرق الأوسط, حيث ظهر في البداية أن لهم يد العليا خلال أول سنتين من الحرب.\n",
            "يناقش على وجه التحديد في العديد من الفقرات التأثيرات الاجتماعية والثقافية السلبية للحرب على الإنسانية ذاتها.\n",
            "كان الكاهن الدومينيكاني هينريش كريمر مساعداً لكبير أساقفة سالزبورغ.\n",
            "في عام 1538, حذرت محاكم التفتيش الإسبانية أعضاءها بألا يصدقوا كل ما ذكره كتاب مطرقة الساحرات.\n",
            "كان التعميد القسري يتعارض وتعاليم الكنيسة الكاثوليكية, ومن الناحية النظرية كان يمكن لأي شخصٍ عمد قسراً أن يعود قانونياً إلى اليهودية.\n",
            "طردت إسبانيا سكانها من اليهود الشرقيين عام 1492, وقد غادر الكثير من أولئك اليهود الإسبان إسبانيا نحو البرتغال لكنهم استهدفوا هناك أيضاً في نهاية المطاف.\n",
            "رسمت الحدود الشرقية لمقدونيا مع تراقيا عند نهر نستوس (نهر ميستا).\n",
            "ثم زحف فيليب لضرب أعدائه الجنوبيين.\n",
            "هزم أعداءه في ثيساليا بحلول عام 352, وكان مسيطراً بقوة على هذه المنطقة.\n",
            "تقدم الجيش المقدوني حتى ممر ثيرموبيلاي الذي يقسم اليونان إلى قسمين, لكنه لم يحاول الاستيلاء عليه لأنه كان محمياً جيداً من قبل قوات مشتركة من الأثينيين والإسبارطيين والأخائيين.\n",
            "بعد أن أمن المناطق الحدودية لمملكة مقدونيا, جمع فيليب جيشاً مقدونياً كبيراً وزحف نحو عمق الأراضي التراقية في حملة غزوٍ طويلة.\n",
            "كانت كاثرين إمبراطورة روسيا في غاية الرضى أيضاً.\n",
            "طوال فترة الحرب, كثر استخدام هجوم بيرل هاربر في الدعاية الأمريكية.\n",
            "هذا التصور المثالي لعائلة رومانوف الملكية أعماه عن رؤية الوضع الحقيقي لبلاده.\n",
            "كانت الإمبراطورية الروسية تشكل تكتلاً يضم أعراقاً متنوعة ويظهر مؤشرات كبيرة من التفكك في السنوات التي سبقت الحرب العالمية الأولى.\n",
            "ازدهرت هذه المدينة-الدولة في ذات فترة مملكة سوكوتاي.\n",
            "أدى هذا الاتصال بالغرب خلال القرن السادس عشر إلى فترة من النمو الاقتصادي الكبير مع إنشاء طرق التجارة المربحة.\n",
            "أبلى الجيش بلاءً حسناً في القتال في كوبا.\n",
            "ومع ذلك, كان موجهاً بشكل كبير إلى مواقع صغيرة في الغرب وغير مؤهلٍ بشكلٍ جيد لخوض الحروب الخارجية.\n",
            "كان يعتمد على المتطوعين ووحدات ميليشيا الولاية, والتي واجهت مصاعب لوجستية وتدريبية وغذائية في نقاط الانطلاق في فلوريدا.\n",
            "حررت الولايات المتحدة كوبا (بعد احتلالها من قبل الجيش الأمريكي).\n",
            "وفق معاهدة السلام, تنازلت إسبانيا للولايات المتحدة عن مستعمراتها في بورتوريكو وغوام والفلبين.\n",
            "انطلق الهجوم ضد الجيش الهائل الذي جمعته البندقية من فرنسا.\n",
            "بحلول عام 1563, كان عدد سكان البندقية قد انخفض إلى نحو 168 ألف نسمة.\n",
            "كان التعليم خلال عصر النهضة يتألف بشكلٍ أساسيٍ من الآداب القديمة والتاريخ حيث كان يعتقد أن الكلاسيكيات تبرز التعاليم الأخلاقية وفهماً كبيراً للسلوك الإنساني.\n",
            "مع ذلك كانت هناك دراسات ديمغرافية وسكانية معمقة تتضمن النساء, وخصوصاً أدوارهن في الإنجاب.\n",
            "تأتي معظم المعلومات عن تلك الفترة من المدافن والأغراض الجنائزية التي تحويها.\n",
            "في ذلك الوقت, لم تكن تعيش هناك سوى أربعين عائلة تقريباً مع الكثير من الأراضي الزراعية الجيدة والمراعي من أجل الماشية.\n",
            "مع إرسال اليونان لمستعمرين غرباً نحو صقلية وإيطاليا (إسكيا وكوماي), امتد تأثير أبجديتهم الجديدة بشكلٍ أكبر.\n",
            "الموز وموز الجنة, اللذان زرعا من قبل الإنسان لأول مرة في جنوب شرق آسيا, غالباً في بابوا غينيا الجديدة, أعيدت زراعتهما في أفريقيا قبل 5000 عام على الأرجح.\n",
            "إلى جانب كونها مصدراً مباشراً للغذاء, يمكن لبعض الحيوانات أن توفر الجلود والصوف والأسمدة.\n",
            "وقد أدخل تغييرٌ جذريٌ في مبادئ العمل بوساطة الأسكتلندي جيمس واط.\n",
            "خلقت الثورة الصناعية طلباً للقطع المعدنية المستخدمة في الآلات.\n",
            "في الحرب الميسينية الثانية, برهنت إسبارطة على أنها قوة إقليمية في شبه جزيرة بيلوبونيز وفي سائر أراضي اليونان.\n",
            "حصلت فورد تي على لقب السيارة الأكثر تأثيراً في القرن العشرين خلال حفل توزيع جوائز سيارة القرن العالمية.\n",
            "النجاح الذي لقيته سيارات رامبلر صغيرة الحجم التي كانت تصنعها شركة أميريكان موتورز دفع شركتي جنرال موتورز وفورد لطرح سياراتها صغيرة الحجم عام 1960.\n",
            "لم يخف هذا العرف في العصر الحديث إلا بنحوٍ بسيط ولا يزال من غير المستحسن الآن أن يخاطب الأصدقاء بعضهم البعض بأسمائهم الأولى, إذ ما فتئ استخدام اسم العائلة في التخاطب شائعاً.\n",
            "في حالة العائلة الإمبراطورية, من غير الملائم بتاتاً استخدام الاسم الأول.\n",
            "منذ الإمبراطور مييجي, جرت العادة أن يكون لكل إمبراطور عهدٌ خاصٌ به وأن تعاد تسمية الإمبراطور بعد وفاته باسم العهد الذي حكم فيه.\n",
            "قبل الإمبراطور مييجي, كانت أسماء العهود تتغير بشكلٍ أكبر, وكان يتم اختيار أسماء الأباطرة بعد وفاتهم بطريقة مختلفة.\n",
            "خارج اليابان, وبدءاً من الإمبراطور شووا, بات يشار إلى الأباطرة عادةً بأسمائهم الأولى, سواء خلال حياتهم أو بعد وفاتهم.\n",
            "في آسيا ومنطقة المحيط الهادي, قتل ما بين 3 ملايين وأكثر من 10 ملايين مدني, غالبيتهم من الصينيين (يقدرون ب7,5 مليون), على يد قوات الاحتلال اليابانية.\n",
            "في أوروبا, وقبل اندلاع الحرب, كان للحلفاء أفضلية كبيرة من ناحية التعداد السكاني والاقتصاد.\n",
            "تغيرت الحرب البرية من الجبهات الأمامية الثابتة كما كان الأمر في الحرب العالمية الأولى إلى زيادة القابلية على الحركة والجمع بين الأسلحة.\n",
            "تلقى جنود سلاح الفرسان البريطاني أيضاً تدريباً ممتازاً على المبارزة فوق ظهور الخيل.\n",
            "يؤكد بعض المؤرخين, مثل تشاندلر وويلر, أن فعالية فرقة الخيالة البريطانية الثقيلة أعطبت بعد أول هجومٍ ملحمي.\n",
            "وفقاً لدراسة جينية على البيانات الصبغية الخاصة بالغجر, فإن الأصل الآسيوي الجنوبي عند الغجر يعود إلى شمال غرب الهند.\n",
            "تعتمد التفسيرات الخاصة بأصل الموسيقى على كيفية تعريف الموسيقى.\n",
            "عند البشر, كلٌ من الذكور والإناث مغنون متحمسون, وعزف الموسيقى نشاط جامع في أغلب الأحيان.\n",
            "عام 1839, وجدت الصين نفسها منخرطة في حرب الأفيون الأولى ضد بريطانيا العظمى بعد أن منع لين زيشو الحاكم العام لمقاطعتي خونان وخوبي تجارة الأفيون الخارجية.\n",
            "هزمت الصين, وفي عام 1842 وافقت على الأحكام الواردة في معاهدة نانجينغ.\n",
            "تم التنازل عن جزيرة هونغ كونغ لبريطانيا, وفتحت مرافئ معينة, منها شنغهاي وغوانزو أمام المقيمين والتجارة البريطانية.\n",
            "عام 1856, اندلعت حرب الأفيون الثانية, هزم الصينيون مجدداً وأجبروا على القبول بشروط معاهدة تيانسين لعام 1858 ومعاهدة بكين لعام 1860.\n",
            "أتاحت المعاهدة مرافئاً جديدةً للتجارة وسمحت للأجانب بالسفر إلى الداخل الصيني.\n",
            "رافقت \"لامار\" \"ماندل\" إلى اجتماعات العمل حيث كان يجتمع مع العلماء وغيرهم من العاملين المنخرطين في مجال التكنولوجيا العسكرية.\n",
            "تضمنت أولى اختراعات لامار إشارة مرور مطورة وقرص يذوب في الماء لصنع مشروبات غازية.\n",
            "عرض عليها العديد من السيناريوهات والإعلانات التلفزيونية والمشاريع المسرحية, لكن لم يثر أيٌ منها اهتمامها.\n",
            "جوزيف دارناند, الذي أصبح ضابطاً في وحدات إس إس وقاد مجموعات ميليس شبه العسكرية التي كانت تطارد عناصر المقاومة, أعدم في تشرين الأول من عام 1945.\n",
            "أوعز ديغول بألا يكون هناك احتفاءٌ شعبيٌ زائدٌ بتشرشل, وألا يمنح جوائز رسمية من دون موافقته المسبقة.\n",
            "يروي الفيلم الدمار الذي لحق بحياة كارانغي وبمسيرتها المهنية جراء إدمانها على الهيروين, بالإضافة إلى تراجعها ووفاتها بسبب مرض الإيدز في منتصف الثمانينيات.\n",
            "تم إنجازه في في وقتٍ متأخرٍ نوعاً من الحرب, رغم أن عدداً من طائرات بي-29 كانت مجهزة بنظام إيغل وكان يعمل جيداً, فقد جاء في وقتٍ متأخرٍ بحيث لم يحدث فارقاً كبيراً.\n",
            "نظام الرادار الذي يعد أكثر ما يشتهر به ألفاريز والذي لعب دوراً كبيراً في مجال الطيران, خصوصاً في النقل الجوي من وإلى برلين ما بعد الحرب, كان نظام تحكمٍ أرضي (جي سي إيه).\n",
            "من خلال استخدام الهوائي ثنائي القطب لتحقيق دقة زاوية كبيرة, يتيح نظام التحكم الأرضي لمشغلي الرادار الأرضي الذين يراقبون شاشاتٍ دقيقة خاصة أن يوجهوا طائرةً خلال هبوطها على المدرج من خلال بث أوامر شفهية إلى الطيار.\n",
            "كان النظام بسيطاً ومباشراً ويعمل بكفاءة, حتى مع الطيارين غير المدربين عليه مسابقاً.\n",
            "وقد لقي نجاحاً كبيراً إلى درجة أن الجيش استمر في استخدامه لسنوات عديدة بعد الحرب, وكان لا يزال مستخدماً في بعض الدول خلال الثمانينيات.\n",
            "مع النمو السكاني, أنشئت أحياءٌ سكنية جديدة.\n",
            "استولى متمردو تحالف القوات الديمقراطية لتحرير الكونغو على لوبومباشي في نيسان من عام 1997.\n",
            "يساهم الارتفاع الكبير على تبريد المناخ, وإلا كان شديد الحرارة.\n",
            "قللت الصحة المتدهورة من إنتاج هيتشكوك في آخر عقدين من حياته.\n",
            "تبرز أفلام هيتشكوك أحياناً شخصياتٍ يعانون في علاقاتهم مع أماهتهم.\n",
            "كان هيتشكوك يفضل التعامل مع أكفأ المواهب في زمنه -مصممي الملصقات الإعلانية أمثال بيل غولد وسول باس- الذين كانوا يعدون ملصقاتٍ تعكس أفلامه بدقة.\n",
            "سيطر صراعٌ عقلي على هرتزل, ما بين التوق إلى النجاح الأدبي وما بين الرغبة في أن يصبح شخصية عامة.\n",
            "في 10 نيسان من عام 1896, تلقى هرتزل زيارة من القس ويليام هيشلر, الكاهن الأنغليكاني في السفارة البريطانية.\n",
            "خلال إحدى الحلقات, ظهر كعازف غيتارٍ بارع.\n",
            "ليني أعزبٌ دائم, قليلٍ الحظ مع النساء.\n",
            "في إحدى المناسبات, تم التلميح إلى أنه عميلٌ سري يستهدف هومر.\n",
            "بعد أن قرر أن يتابع في مجال الدراما, التحق وينستون بمدرسة كورونا للمسرح في هامرسميث.\n",
            "التقى وينستون بزوجته إيلين, خلال تصوير فيلم \"ذلك الصيف\" عام 1979.\n",
            "أعلن عن إفلاس وينستون في 4 تشرين الأول 1988 ومجدداً في 19 آذار 1993.\n",
            "اكتشف ديزني أن شركة يونيفرسال تملك حقوق الملكية الفكرية الخاصة بأوزوالد.\n",
            "فاز ديزني بجائزة أوسكار فخرية أخرى, والتي تتكون من تمثال أوسكار بالحجم الطبيعي وسبعة تماثيل أخرى مصغرة.\n",
            "تمنح البطاقة إعانةً يمكن سحبها عن طريق أجهزة الصراف الآلي من أجل شراء احتياجات المدرسة مثل الكتب والأزياء المدرسية.\n",
            "كما أنه شيد وجدد خمسة أسواقٍ تقليدية عام 2013 وأربعة أسواقٍ تقليدية عام 2014.\n",
            "مع ذلك, أعلن خصمه فرابوو سوبيانتو انتصاره أيضاً, مما ترك المواطنين الإندونيسيين في حيرة.\n",
            "قبيل تسلمه لمنصبه, سعى جوكوي إلى تحميل الرئيس المنتهية ولايته يودهويونو مسؤولية قرار رفع أسعار الوقود الناتج عن رفع الدعم المتزايد.\n",
            "تزعم سيرته الرسمية أن كيم ألف ست أوبرات وأنه يستمتع بإخراج المسرحيات الغنائية الضخمة.\n",
            "بعد نصيحةٍ من ألكسندر, أصبح قادراً على إيجاد حلٍ وسط: سيلتحق بالجامعة, لكنه سيدرس الأدب أيضاً.\n",
            "التحق باري بجامعة إدنبره حيث كان يكتب في نقد الدراما لصالح جريدة \"إدنبره إيفنينغ كورانت\".\n",
            "تخرج وحصل على درجة الماجستير في 21 نيسان من عام 1882.\n",
            "من خلال إعلانٍ عن وظيفة وجدته شقيقته في جريدة \"ذا سكوتسمان\", عمل لمدة عامٍ ونصف كمحرر صحفي في جريدة \"نوتينغهام جورنال\".\n",
            "ثم عاد إلى كيريموير.\n",
            "نشرت 3000 نسخة فقط من الطبعة الأولى.\n",
            "بحلول عام 2009, قدر إجمالي مبيعات كتابي\"قوة الآن\" و\"أرض جديدة\" في أمريكا الشمالية بثلاثة ملايين وخمسة ملايين نسخة على التوالي.\n",
            "ينتقد بعض علماء المسيحية تول, فيما يثني عليه بعضهم الآخر.\n",
            "بين عامي 1991 و1997, كانت تدير مدرسة للأطفال الذين يعانون صعوباتٍ في التعلم.\n",
            "كان آخر كتبها غير الروائية عن مارغريت دوغلاس, كونتيسة لينوكس.\n",
            "وجدت الانتقال إلى الكتب الروائية سهلاً, موضحةً: \"يشكل كل كتابٍ منحنى للتعلم, وعليك أن تبقى منفتح العقل\".\n",
            "لتجنب مواجهة مأزقٍ مشابه مع ياسمين, قرر صناع الفيلم في نهاية المطاف أن ترسم الأميرة بشكلٍ كامل في استوديو واحد.\n",
            "مع وضع اللمسات الأخيرة عليها, باتت ياسمين أول أميرة في ديزني ذات بشرة ملونة بدلاً من كونها من أصولٍ أوروبية.\n",
            "من ناحية الموضوع, مثلت ياسمين الحقوق المدنية والتسامح العرقي والتراتبية الاجتماعية, إلى جانب الحياة والحرية والسعي إلى السعادة.\n",
            "مع ذلك, لم تلق المزيد من التقدير العلني لمقاومتها في زمن الحرب ولعملها الإنساني, حتى بعد انتهاء الحكم الشيوعي في بولندا.\n",
            "صدرت أسطوانة \"أحبك جداً جداً\" في آب ووصلت إلى مصاف أفضل 50 أسطوانة, وطرحت الأغنية المنفردة \"أرض مهتزة\" في أيلول لكن غيير كانت في الولايات المتحدة.\n",
            "بعد أن وصلت إلى ذروة مسيرتها المهنية في موطنها أستراليا, عادت غيير عام 1984 لتعيش في لوس آنجلوس كي تركز على اقتحام المشهد الموسيقي هناك.\n",
            "بعد تقدمه ليحل في قائمة البيلبورد 200 في المرتبة الـ96, صعد ألبوم \"ظننت أنك عرفت\" إلى المرتبة 31 في المملكة المتحدة, لكن الألبوم لم يبق في القائمة لأكثر من أسبوعين في المملكة المتحدة.\n",
            "بعد صرفها, حظيت بينيستون بدور غليندا الساحرة الطيبة في الإنتاج المسرحي للمسرحية الغنائية \"الساحر\".\n",
            "أعيد انتخاب وايلكس وطرد مرتين إضافيتين, قبل أن يقضي مجلس العموم بأن ترشحه كان باطلاً ويعلن أن صاحب المركز الثاني هو الفائز.\n",
            "حلت حكومة غرافتون عام 1770, مما سمح لحزب المحافظين بقيادة اللورد نورث باستعادة السلطة.\n",
            "كان جورج عميق التدين وكان يقضي ساعاتٍ في الصلاة, لكن إخوته لم يشاركوه ورعه.\n",
            "كان جورج مذهولاً لما اعتبره انحلالاً أخلاقياً فيهم.\n",
            "في عام 1770, تعرض أخوه الأمير هنري, دوق كامبرلاند وستراثرن لفضيحة تتعلق بالزنى, وفي العام التالي تزوج كامبرلاند من أرملة شابة تدعى آن هورتون.\n",
            "كان ألبومها \"وايلد وست\" عام 1981 أحد أكثر ألبوماتها مبيعاً.\n",
            "بحلول ذلك الوقت, أوصلها الإنفاق المسرف مع سلسلة من الاستثمارات السيئة من قبل مستثمريها إلى حافة الإفلاس.\n",
            "عام 2012, طرحت الفرقة الأيسلندية سيغور روس فيديو لأغنية \"فيوغور بيانو\", من بطولة لابوف, والتي ظهر فيها عارياً.\n",
            "وصفته جريدة \"سانت لويس بوست ديسباتش\" بأنه أفضل أداء للابوف.\n",
            "اندلعت النيران في السيارة, وابتعد كينسيث.\n",
            "كان إليوت يحضر جنازة والده في اليوم الذي أقيم فيه السباق.\n",
            "عام 2003, سيطر على ترتيب النقاط والصدارة في آخر 33 من السباقات الـ36 وأصبح بطل كأس وينستون للسباقات ناسكار, وكان آخر سائق يحمل ذلك اللقب.\n",
            "أصدر رافيرتي ألبومين إضافيين خلال التسعينيات فيما وصفه الموسيقي توم روبينسون لاحقاً ب\"عودة كبيرة إلى الروعة\".\n",
            "جمع ألبوم \"على جناحٍ وصلاة\" (1992) شمله بشريكه في فرقة \"ستيلر ويل\" إيغان في عدة أغانٍ فيه.\n",
            "ضم عدة أغانٍ تم تأليفها بالاشتراك مع جيم شقيق رافيرتي, الذي يعمل أيضاً كمغنٍ ومؤلف أغانٍ, والذي وقع مع شركة \"ديكا ريكوردز\" في السبعينيات.\n",
            "سجل رافيرتي نسخة جديدة من أغنيته في فرقة هامبلبمز \"لم أعجب أبوها على أية الأحوال\" في ألبوم \"فوق رأس\" (1994).\n",
            "كان هذان آخر البومين ينتجهما رافيرتي مع هيو ميرفي, الذي توفي عام 1998.\n",
            "فقد شارك 330 ألف شخص على الأقل, بينهم 10 آلاف فني.\n",
            "كان ستالين قد بدأ بتشجيع أباكوموف لتشكيل شبكته الخاصة داخل وزارة أمن الدولة لمجابهة هيمنة بيريا على الوزارات السلطوية.\n",
            "أتاحت الأنماط التي قدمتها البيانات الواردة من منطقة بيتين وواكساكتون لهذين الموقعين أن يتلاءما مع التطور الثقافي لأراضي المايا المنخفضة.\n",
            "يفترض مقال طومسون أن شعب المايا كان \"مسالماً\" بشكل عام نظراً إلى افتقارهم إلى دفاعاتٍ واضحة.\n",
            "لم تظهر الأشرعة في منحوتات ونصوص ما قبل التاريخ في أمريكا الوسطى, بل وضعت نظرية تفيد باستخدام قوارب الكانو كوسيلة نقل مائية رئيسة عند المايا القدماء.\n",
            "تولى ستارلين مهمة رسم العدد التالي, وبدأ باستحداث قصة جانبية مفصلة تركز على ثانوس الشرير, وانتشر في عددٍ من أعداد مارفل.\n",
            "في ذات الوقت من منتصف السبعينيات, قدم كارلين مجموعة من القصص إلى مجلة مختارات الخيال العلمي المنشورة بشكلٍ مستقلٍ \"ستار ريتش\".\n",
            "من خلال جدته, كان ميشيما ينحدر مباشرةً من سلالة توكوغاوا إيه-ياسو.\n",
            "عام 1955, بدأ ميشيما بتدريبات الأثقال ولم يكسر نظامه التدريبي الذي كان يقوم على ثلاث فترات تدريبية في الأسبوع طوال آخر 15 عاماً من حياته.\n",
            "اعتنق ميشيما شعاراً شديد التفرد في القومية قبيل نهاية حياته.\n",
            "عام 2011, عينت بلانت لتكون سفيرة لعطر إيف سان لوران الجديد, أوبيوم.\n",
            "قامت بلانت عام 2011 ببطولة الفيلم الكوميدي البريطاني \"صيد السلمون في اليمن\", من إخراج لاسي هالستروم وشاركها في بطولته إيوان مكغريغور وكريستين سكوت توماس.\n",
            "في ذلك العام أيضاً, ظهرت بشكلٍ وجيز في فيلم ديزني \"الدمى المتحركة\", كموظفة الاستقبال الخاصة بالآنسة بيغي.\n",
            "قامت عام 2012 ببطولة فيلم \"خطبة الخمس سنوات\", من إخراج نيكولاس ستولر وشاركها في بطولته جيسون سيغل.\n",
            "في كانون الثاني من عام 2011, بدأت بلانت تصوير فيلم الخيال العلمي الأمريكي \"صانع الحلقات\", من إخراج ريان جونسون وشاركها بطولته بروس ويليس وجوزيف غوردون-ليفيت, صدر الفيلم في أيلول من عام 2012.\n",
            "حاول فالينتينو أن يبعد الشخصية عن الصورة النمطية للرجل العربي.\n",
            "كان جوزيف شنيك مهتماً باختيار زوجته, نورما تالمادج, لتمثل أمام فالنتينو في إصدار جديد من روميو وجولييت.\n",
            "اللورد هاليفاكس, الرئيس الملكي للمجلس, زار ألمانيا سراً في تشرين الثاني والتقى بهتلر وغيره من المسؤولين الألمان.\n",
            "في خطابٍ إلى مجلس الوزراء بعيد عبور القوات الألمانية للحدود, وضع تشامبرلين اللوم على كلٍ من ألمانيا والنمسا.\n",
            "في أيار, أطلق حرس الحدود التشيكي النار على مزارعين ألمانيين من سوديت كان يحاولان عبور الحدود نحو تشيكوسلوفاكيا من دون التوقف عند النقاط الحدودية.\n",
            "خلال هذا الوقت, كانت مارسيل غالباً ما تترك وحدها في الحجرة فيما كانت بياف ومومون تجوبان الشوارع أو في الملهى تغنيان.\n",
            "كانت تلك منسية تقريباً إلى ما بعد وفاة سميث.\n",
            "إحدى أفكار روايات سكايلارك تدور حول أسلاف تكنولوجيا الاتصالات الحديثة.\n",
            "في وقتٍ مبكر من عام 1926, كتب ماير إلى إيرين جوليو-كوري مقترحاً أن تعمل رونا معها لتتعلم كيف يمكن لمعمله أن يصنع عينات البولونيوم الخاصة بهم.\n",
            "ما أن بات هانز بترسون قادراً على تأمين التمويل لدفع تكاليف رونا, سمحت لها جوليو-كوري بالقدوم ودراسة فصل البولونيوم في معهد كوري في باريس.\n",
            "ابتكرت رونا طريقة مطورة لتحضير مصادر البولونيو وإنتاج انبعاثات ألفا.\n",
            "بعد أن اكتسبت شهرةً كخبيرةٍ في المجال, عادت بهذه المهارات إلى معهد راديوم مع قرص صغير من البولونيوم.\n",
            "أتاح هذا القرص لرونا إنتاج عينات مخبرية من البولونيوم, والتي استخدمت في الكثير من أبحاث المعهد اللاحقة.\n",
            "خارج فترة الموسم عام 2013 ظهرت في قناة \"سي تي في مونتريال\" كمقدمة نشرة جوية ضيفة.\n",
            "ثم واجهت حاملة اللقب والمصنفة الأولى سارة إيراني, لكنها خسرت.\n",
            "تعرضت بوشار لخسارة صادمة بثلاث مجموعات.\n",
            "عندما تزوجت ابنتهما سيسيلي بريتشارد بلانتاغينيت, دوق يورك الثالث, وأنجبا العديد من الأولاد, بما فيهم إدوراد الرابع وريتشارد الثالث, أصبحت جوان جدة ملكي إنجلترا من آل يورك.\n",
            "توفي جون غونت عام 1399.\n",
            "أطلق سراح الفارس ليفيت وزج تابعه في البرج.\n",
            "كان قد تطلق منذ وقتٍ ليس ببعيد من الممثلة غلوريا هولدن, لكنه حمل الراية بعد الانفصال الزوجي.\n",
            "شارك في البطولة كشقيق همفري بوغارت الأصغر, الشاب المستهتر خالي البال, في فيلم \"سابرينا\" (1954), التي لعبت دورها أودري هيبورن.\n",
            "قرر ألا يسعى إلى فترة ثالثة في الدورة الانتخابية التالية.\n",
            "جرت الحملة الانتخابية لعام 1980 بين ريغان والرئيس القائم جيمي كارتر في خضم مخاوف داخلية وإبان أزمة الرهائن المتواصلة في إيران.\n",
            "هيمن الجمهوريون على مجلس الشيوخ للمرة الأولى منذ عام 1952, وحصلوا على 34 مقعداً في مجلس النواب, لكن الديمقراطيين احتفظوا بمجلس بالأغلبية.\n",
            "تماثل إلى الشفاء وخرج من المستشفى في 11 نيسان, ليكون أول رئيسٍ للولايات المتحدة على رأس عمله ينجو من إصابة بالرصاص بعد محاولة لاغتياله.\n",
            "آمن ريغان أن الله أبقاه على قيد الحياة كي يعيش ويحقق غايةً أعظم.\n",
            "بلوتش مهتمٌ بجعل الأمل هو المبدأ الموجه لماركسيته ويشدد على الإنسانية الضمنية الكامنة في التقاليد الروحانية.\n",
            "على اللاهوت السليم أن يتأسس على ضوء هدفه المستقبلي.\n",
            "نقلت بيبي العائلة إلى ناشفيل, تينيسي عام 1991 بعد أن أبرمت اتفاقاً جديداً لإصدار الأغاني التي تؤلفها.\n",
            "تشاركت كيشا وبيبي معاً في تأليف أغنية \"ستيفن\" عندما كانت كيشا في الـ16, ثم تعقبت كيشا ديفيد غامسون, المنتج الذي كانت تكن له التقدير منذ أن كان في فرقة \"سكريتي بوليتي\" والذي وافق على إنتاج الأغنية.\n",
            "بحلول آب 2015, نشرت كيشا القليل من المعلومات عن ألبومها الثالث المرتقب والمسجل في استوديو.\n",
            "وصلته هذه المرة, لكنه رفض الاعتراف أنها لم تعد تريد الزواج به.\n",
            "ولد رايت في مدينة بول التابعة لمقاطعة دورست, لكنه ترعرع بشكلٍ أساسي في مدينة ويلز التابعة لمقاطعة سومرست.\n",
            "لدى رايت شقيق اسمه أوسكار, وهو يعمل كرسام للكتب الهزلية, ويقدم قصصاً مصورة وفناً تصورياً وفيديوهات ترويجية لصالح أفلام إدغار.\n",
            "رايت صديقٌ لزميله المخرج غارث جينينغز, وظهر في أدوارٍ صغيرة في فلميه \"دليل المسافر إلى المجرة\" و\"ابن قوس قزح\".\n",
            "لم تحقق القوى الكبرى المطالب الداعية إلى الاعتراف بألبانيا.\n",
            "مع بداية مؤتمر لندن في كانون الأول من عام 1912, رفض سفراء القوى العظمى الست مشروع تأسيس ألبانيا المستقلة.\n",
            "بدلاً من ذلك, قرروا أن ألبانيا ستكون تحت السيادة العثمانية لكن مع حكومة تتمتع بالحكم الذاتي.\n",
            "بعد أن بدا جلياً أن الإمبراطورية العثمانية ستخسر كل منطقة مقدونيا وبالتالي اتصالها الجغرافي بألبانيا, أدركت القوى العظمى أن عليها أن تغير قرارها.\n",
            "معاهدة لندن, التي وقعت في 30 أيار 1913, قسمت جزءاً كبيراً من الأراضي التي تطالب بها ألبانيا, بصرف النظر عن تركيبتها العرقية, بين حلفاء البلقان ما قلص من مساحة ألبانيا إلى مناطقها الوسطى.\n",
            "تمكن رجال الشرطة من السيطرة على صاحبة ال53 عاماً خلال الواقعة صباح يوم الأحد.\n",
            "استبدل الملك سلمان السياسي المخضرم برئيس هيئة السوق المالية, محمد الجدعان.\n",
            "النفط والذهب والمواد الغذائية, مثل القمح, مواردٌ طبيعية, يستثمر فيها المستثمرون المليارات حول العالم.\n",
            "ب71 هدفاً في 137 مباراة دولية, يكون صاحب الرقم القياسي في عدد الأهداف الدولية في تاريخ الاتحاد الألماني لكرة القدم.\n",
            "بمساعدة بيانات بطاقة الخصم المباشر, حددت شرطة إسن أربعة أشخاص وقفوا مكتوفي الأيدي فيما كانوا يشاهدون متقاعداً يموت في أحد فروع المصرف.\n",
            "لم يستبعد المتحدث الرسمي احتمال أن يخضع آخرون للتحقيق.\n",
            "لكن لأن سيريس 1 لم تعد القديمة, يمكن للعديد من المستخدمين توفير 100 يورو.\n",
            "تظهر الصورة بوضوح شريط شاشة اللمس الضيق الذي توقعته الشائعات فوق لوحة المفاتيح.\n",
            "من غير المعروف كيف تعاون المسرحيان.\n",
            "أظهرت دراسة سويدية أن هذه الحيوانات نادراً, إن لم يكن مطلقاً, ما تحط بعد فترة التكاثر التي تستمر لشهرين.\n",
            "وفقاً لباركر, ينشط عملاء المخابرات الروسية بأعدادٍ كبيرة في بريطانيا العظمى.\n",
            "أعلنت روسيا تعليق الاتفاقية في بداية تشرين الأول.\n",
            "يحدد القانون عدداً من الشروط التي يمكن لتحقيقها أن يعيد الاتفاق إلى حيز التنفيذ: على الولايات المتحدة الأمريكية سحب كل قواتها من الدول التي انضمت إلى حلف الناتو بعد عام 2000, وإلغاء جميع العقوبات على روسيا بالإضافة إلى سداد التكاليف المتكبدة نتيجة للعقوبات.\n",
            "قال: \"إنها محاكمة سياسية وقد قررت عدم الحضور\".\n",
            "إذا استقال موظفٌ تركيٌ مثلاً, تأتي مجالس العمل التركية.\n",
            "من وجهة النظر هذه, فإن البنى الفاسدة والنخب القانعة هي سبب تردي أوضاع النظام الصحي والتعليم والتجارة الخارجية في الولايات المتحدة الأمريكية.\n",
            "بوسع كون هز رأسه فقط.\n",
            "في تموز تحققت صحيفة \"دي تسايت\" لأول مرة مع شركة العقارات بشأن تدفقاتها المالية المشبوهة وخطر إفلاسها.\n",
            "تبدأ ساعة السحر مع انطلاق عزف الأرغن الرهيب, مثل الأغنية الضاربة في الستينيات مونستر ماش.\n",
            "برر فون بويست ارتفاع التكاليف بانعدام وجود تخطيطٍ دقيق.\n",
            "يتلمس سيمون كريتشمر طريقه وحيداً عبر ثكنة متهالكة ومظلمة.\n",
            "هذا لأن كل معجزة وكل منطقة متخصصة تحتل حقلاً بأكمله.\n",
            "أوقف إنتاج طراز الهاتف الذكي كلياً.\n",
            "كان يوم 30 آب 2015, عندما غزا جيشٌ من البط الإنترنت.\n",
            "حصل جيل الهاتف الذكي على تطبيقٍ يستحقه, حيث كان أكثر المواقف غباء يحصد جمهورٍاً بالملايين في أحسن الأحوال.\n",
            "من ناحية أخرى, كان فاين فناً في ست ثوانٍ.\n",
            "والآن هو بطلٌ للعالم أيضاً.\n",
            "مع ذلك, شكل نهائي الموسم بالنسبة إلى كيربر نهاية لعامٍ استثنائي.\n",
            "بعد الفوز اللافت في بطولة أستراليا المفتوحة, خسرت البالغة من العمر 28 عاماً لأول مرة في نهائي بطولة ويمبلدون أمام سيرينا ويليامز.\n",
            "من غير الواضح الآن في أيهما.\n",
            "هل تقرع المنبه الخاص بك؟\n",
            "الأمر واضح: يمكن للرجال تحمل مسؤوليات أكبر في مجال منع الحمل.\n",
            "وفق المعتقدات المسيحية, فإن قبراً منحوتاً من الحجر الجيري كان المثوى الأخير ليسوع المسيح.\n",
            "سبب الإعلان عن الفيديو في ألمانيا غير واضح.\n",
            "سئلت من قبل الضباط بطريقتهم البلهاء الفريدة ما إذا كنت أعرف الكاتب غونتر دي بروين وما إذا كنا قريبين فكرياً.\n",
            "المحقق الكندي الخاص بحادث تحطم الطائرة لاري فانس أخبر دير شبيغل أنه مقتنعٌ أن أحد الطيارين كان ينوي الهبوط بالطائرة فوق المحيط كي تغرق.\n",
            "خرج الخبراء الأستراليون باستنتاجات جديدة من فحص دفة الهبوط الخاصة بطائرة البوينغ التي جرفتها الأمواج إلى تنزانيا في شرق أفريقيا.\n",
            "قد لا تكون المشكلة قد انتهت بالنسبة إلى باروسو.\n",
            "أثار استبدال باروسوس جدلاً كبيراً.\n",
            "قال دوندار أن الاعتقالات الحالية \"استمرارٌ للتضييق علينا\".\n",
            "من خلال الاتفاق بين عون والحريري, حدث تقاربٌ بين التحالفين المتخاصمين في الوقت الحاضر.\n",
            "أصدر زوج المرشحة الحالية للبيت الأبيض, هيلاري كلينتون, عفواً عن عددٍ من الأشخاص, من ضمنهم ريتش أيضاً, في آخر يومٍ من ولايته الرئاسية, 20 كانون الثاني 2001.\n",
            "حذر دوندار أوروبا بشأن التفهم الزائد لمسلك إردوغان.\n",
            "أحمد ز. أمين, أمين عام الوكالة الدولية للطاقة المتجددة (إيرينا) متيقنٌ: \"يمكن لقوة الرياح في عرض البحر أن تصبح أهم مولد للطاقة في اقتصادٍ عالميٍ يخلو من الطاقة القائمة على انبعاثات الكربون\".\n",
            "الأرقام الجيدة في آسيا دفعت أسواق مؤشرات أسواق الأسهم إلى الارتفاع فوراً.\n",
            "من المتوقع حدوث دفعة جراء ازدهار سوق العقارات وزيادة النفقات الحكومية.\n",
            "تلفت لوحتا لوكاس كارناخ الأكبر المعروضتان تحديداً الأنظار.\n",
            "لذلك لن تختفي العلامات المزعجة بشكلٍ كلي: وفقاً للمعلومات الواردة من وكالة الأنباء الألمانية, فهي ستفعل فقط إن لم يكن الفنان أو شركة التسجيلات مثلاً, عضواً في هيئة الأداء الموسيقي وحقوق النسخ الإلكترونية الألمانية ولم يكن لديه اتفاقية مع يوتيوب.\n",
            "لا تصيب الملوثات رئات الصغار فحسب, بل يمكنها أيضاً أن تؤثر على تطور أدمغة الأطفال على المدى الطويل.\n",
            "ليس من المستغرب أن الحكومتين الفيدرالية والولائية صنفتا التراث الطبيعي الوطني باعتباره مسؤولية مجتمعية ذات أولوية قصوى ووثقتا ذلك بدءاً من عام 2005 في اتفاقية تعاون.\n",
            "بخلاف تلك المؤرخة في الثامن والعشرين من تشرين الأول, فإن رسالة السيد كومي بالكاد تم التعليق عليها.\n",
            "لو أن منافسته الديمقراطية فازت بالانتخابات, لكانت \"رهن التحقيق لسنوات\" حسب تأكيده.\n",
            "سخر أوباما قائلاً: \"إن لم يكن بوسع أحدهم التحكم بحسابٍ على تويتر, لن يكون بوسعه التحكم بالشفرة النووية\".\n",
            "وفق البرنامج, ستتحدث عند الساعة 23:45.\n",
            "يوم الثلاثاء, قد تنتخب الولايات المتحدة الأمريكية أول رئيسةٍ في تاريخها.\n",
            "من ناحية أخرى, علاقات السيدة كلينتون مع القارة على مدى السنوات العشرين الماضية لم تكن مرضية بتاتاً.\n",
            "اتخذ المحافظون الإسلاميون في حزب العدالة والتنمية هذا الرفض كمبررٍ للاستجوابات.\n",
            "يتطلب الأمر غالبيةً مع حزب آخر, تحديداً أصوات 367 نائباً (من بين 550), في حين المطلوب 330 صوتاً لإجراء استفتاء.\n",
            "في يوم الثلاثاء, الثالث من تشرين الثاني, قرر عمدة سان-غودانس (في إقليم غارون العليا) تعليق اتفاقية التنمية الحضرية الموقعة مع الحكومة المشكلة عام 2014.\n",
            "يشرف الأخير على انتخابات الجمهوريين التمهيدية, التي تدعم فيها رشيدة داتي ترشيح نيكولا ساركوزي.\n",
            "في الخطاب, اتهمت وزيرة العدل السابقة بريس هورتيفي بأنه \"فاشي\" و\"وزير (أحمق) الداخلية\" و\"بلطجي\".\n",
            "ما هي القيود التي من شأنها منع التعبير عن المعتقدات الدينية في الشركات الخاصة؟\n",
            "حتى لو كانت الغالبية العظمى من الحالات التي تنشأ في مكانا لعمل يمكن حلها من دون نزاعات.\n",
            "هل يسمح للعاملين بإبقاء أغراض دينية على مكاتبهم؟\n",
            "تعرب نقابة \"فورس أوفريير\" عن أسفها على أن ملاحظاتها على محتوى الدليل لم تدرج, وقالت السيدة جيلار: \"لم يجر أي تشاور حقيقي\".\n",
            "الدليل إشكالي, أولاً لأنه وضع \"في سياق حالة طوارئ\".\n",
            "أدرج القانون الوقت المستغرق للذهاب إلى منازل العملاء ضمن ساعات العمل.\n",
            "قدمت المنظمتان طعناً رفضته محكمة النقض في الثاني عشر من تشرين الأول.\n",
            "يهدف إلى أخذ وقت الانتقال بعين الاعتبار بعد خصم هذا من ساعات العمل المنجزة فعلاً, من دون التمكن من قياس الوقت الحقيقي للانتقال.\n",
            "وقت العمل المبذول في هذه الساعة الأولى يساوي 45 دقيقة تقريباً.\n",
            "وكشف ممثل فرنسا قائلاً \"إيتا في طريقها إلى الخروج\".\n",
            "كما علق قائلاً أن \"وجود مثل هذه الوثيقة قد يؤدي إلى نتائج واعدة بقدر ما هي غير مرضية\".\n",
            "يمكن للمجلس الوطني الرقمي الفرنسي, الذي يقدم المشورة بشأن مشاريع القوانين الخاصة بمسائل التكنولوجيا الرقمية, أن ينظر في الأمر.\n",
            "وفقاً لجريدة لو فيغارو, يمكن لهذه الخطة الحكومية أن توفر 42 مليون يورو, ستذهب 15,5 مليون منها لتحقيق الأمن.\n",
            "ليس لدى فرنسا سمعة طيبة.\n",
            "ولدت تينا أنسلمي في 25 آذار, 1927 في كاستلفرانكو فينيتو, ترعرعت في كنت عائلة كاثوليكية مناهضة للفاشية, والتي اشتهرت باضطهاد والدها الاشتراكي المتشدد.\n",
            "بما أنها كانت قريبة دوماً من الاتحاد الكاثوليكي, اهتمت تينا أنسلمي على وجه الخصوص بحقوق عمال النسيج والمعلمين.\n",
            "من الصعب تصور أن كليومترات خطوط المترو في إيطاليا أقل منها في مدريد.\n",
            "تم التأكيد على أننا قطعاً لا نستطيع المواصلة مع أولئك الذين يقفون كلياً ضد إيطالياً.\n",
            "سنقيم احتمالية وكيفية المواصلة حتى القسم التالي.\n",
            "الأغنية الناجحة هي \"جيرونيمو\" لشيبارد.\n",
            "سيتم تقديم 500 يورو من قبل الدول لأولئك الذين بلغوا السن, لينفقوها قبل 31 كانون الأول 2017.\n",
            "تستحدث قسيمةٌ يمكن حفظها في هاتفك الذكي أو تقديمها إلى الصراف.\n",
            "بدءاً من الأول من كانون الثاني ستكون هناك زيادة في البنزين والديزل.\n",
            "أعلنت سي جي آي ميستري في مذكرة, أنه لن تكون هناك أي زيادة في ضريبة القيمة المضافة, حتى عام 2017 على الأقل.\n",
            "مستوى في كلتا الحالتي هو الأعلى في الاتحاد الأوروبي.\n",
            "تعود آخر الأرقام إلى 24 تشرين الأول من العام الماضي, وتظهر لنا أن الديزل لدينا يكلف 1,335 يورو لليترمقارنةً بمعدل منطقة اليورو الذي يبلغ 1,165 يورو.\n",
            "هي كلفة أعلى بكثير بحيث تتجاوز بوضوح المتوسط في الدول التي تتبنى العملة الموحدة, والذي يعادل 1,365 يورو لليتر.\n",
            "سحب كورادو باسيرا العرض المقدم إلى بنك إم بي إس نتيجة \"موقف الانغلاق التام الذي أبداه البنك تجاهنا\".\n",
            "كما هو موضح, القرار من اختصاص البنك المركزي الأوروبي وسيكون من غير المناسب أن يتحدث البنك باسمه عبر استبعاد إمكانية النظر في بدائل أخرى.\n",
            "هذا ما كان مكتوباً في مذكرة إلى بنك إم بي إس بعد قرار الوزير السابق بترك الاتفاق.\n",
            "سوف يخضع للتقييم.\n",
            "أبلغ طلاب الجامعة الحرة الدولية للدراسات الاجتماعية أثناء اجتماعٍ انعقد في روما.\n",
            "صباح اليوم, التقى البابا فرانسيس مارك زوكربيرغ وزوجته في بيت القديسة مرثا.\n",
            "طور أربعة طلاب في جامعة روما الثالثة خوذة دراجة نارية يمكنها \"قراءة الأفكار\" من خلال المساعدة على توقع تصرفات السائقين.\n",
            "أحد أمثلة بحثٍ مطبقٍ في ظل إجراءات سلامة أنتج أيضاً إنساناً آلياً لمنافسة فالنتينو روسي.\n",
            "في المقابل, ستحصل أوبر على استثمار بمليار دولار ومقعد في مجلس إدارة الشركة الصينية.\n",
            "شركات متزايد تأخذ زمام المبادرة أكثر من أي وقتٍ مضى في وول ستريت, أكثر حتى من وادي السيليكون.\n",
            "أصبحت أمازون رابع أكبر شركة أمريكية من حيث القيمة السوقية, متجاوزةً إكسون موبيل.\n",
            "رؤساء شركات مثل سبوتيفاي وتسلا وأوبر وسنابتشات سيحضرون اجتماعاً خاصاً بالإضافة إلى قمة ماونتين فيو.\n",
            "تمثل رئيسة منطقة مدريد, كريستينا سيفوينتيس, الأكثر محافظةً, في حين أن قادةً من الحزب, مثل وكيل القطاع, خافيير ماروتو, يمثلون الأكثر تقدميةً.\n",
            "يعمل دوران كمتحدثٍ رسمي وآنخل بيتادو كأمينٍ للصندوق.\n",
            "للمرة الأولى خلال السنوات الست الماضية انخفض معدل البطالة تحت 20%, وبات هناك بالفعل زيادة في العاملين بمقدار 600000 شخص عنما كان عليه الأمر قبل عام.\n",
            "إدارتها, مع ذلك, لم تكن تخلو من الانتقادات.\n",
            "كانت النقابات شرسة للغاية وفي مناسباتٍ عدة كانت تدعو إلى إلغاء التشريعات التي تشكل مدعاة فخرٍ لفاتيما بانيز.\n",
            "يواجه هذا القسم تحدياتٍ جديدةً الآن.\n",
            "علاوةً على ذلك, سيتحتم على الحكومة التعامل مع \"مشكلة عويصة\" أخرى.\n",
            "سمح لها وزير الدفاع بأن تبقى الأمين العام للحزب في الوقت الراهن.\n",
            "قالت مصادر مطلعة أنه \" 100% كوسبيدال\".\n",
            "بالرغم منهم, لم يفهم الكل في الحزب الرسائل التي حاول الرئيس توجيهها إليهم بالأمس.\n",
            "البارون دي كلاريت, الشخص الوحيد في الحكومة الذي يحمل لقباً نبيلاً.\n",
            "بيدرو سانشيز, مثل الكثير من الاشتراكيين الآخرين, قال في برنامج إيفول أن إسبانيا أمةٌ من الأمم.\n",
            "وماذا عن الأحزاب في ماذا, في الحقوق التاريخية؟\n",
            "قال فيديريكو فيليني ذات مرة: \"المهرج بالنسبة إلى الإنسانية كالظل بالنسبة إلى الإنسان\".\n",
            "وقف وحيداً أمام الجمهور ,وفي نهاية المطاف, أخرج أفضل ما فيه كي يثير ضحك الجمهور.\n",
            "في الأفلام الحربية وأفلام رعاة البقر والهنود الحمر, كانت مشاهد القتال والضرب مبهرة إلى أقصى حد.\n",
            "التفخيم والسخرية المتقنة والتلميحات الفجة وغيرها من الزخارف اللفظية تندرج في في الخطابة البرلمانية, لكن تنقير النواب على بعضهم البعض والكوميديا التهريجية فلا تندرج.\n",
            "هو يعتقد أن لا أحد ينتظرنا ينتظرنا.\n",
            "ربما لهذا السبب تغرورق عيناه بالدموع فيما يكشف مقطع الوقت محصوله ويسلم سره إلى المياه المقيدة.\n",
            "ويجب أن تستقبل بروحٍ منفتحة وذهنٍ صافٍ لأنها تشكل الجيل الجديد من الجمال والأمل.\n",
            "نتيجةً لذلك, ترامب ليس قلقاً جداً بشأن تصويت الأمريكيين اللاتينيين على المستوى الوطني.\n",
            "يوحي التصويت المبكر أن الأمريكيين اللاتينيين سيخرجون للتصويت بأعدادٍ كبيرة, لكن من غير الواضح إذا ما سيكون لهذه الزيادة تأثيرٌ.\n",
            "صرحت المعارضة لإل موندو قائلةً: \"سيكون هناك احتجاجات وغيرها من الأمر, لقد خطط لكل شيءٍ بالفعل\".\n",
            "يحتفل العشرات من أتباع الجبهة الساندينية للتحرير الوطني بالفعل في ساحة بلازا دي لاس فيكتورياس.\n",
            "تلقت ماي انتقادات كبيرة لتجنبها الإعلام وعدم التجاوب معه بوضوح بعد الحكم القضائي بشأن انسحاب بريطانيا من الاتحاد الأوروبي.\n",
            "انطلق عام 1925 مهرجان العامة, المهرجان المسرحي في الهواء الطلق الذي يقام على السلالم الكبيرة أمام كنيسة سان مايكل ولا يزال يستقطب جمهوراً من جميع أنحاء البلاد.\n",
            "جرى الافتتاح الرسمي في 30 نيسان 1955.\n",
            "عام 1882, وضع نظامٌ تلغرافي مجهزٌ ب34 جهاز إنذارٍ قيد الخدمة.\n",
            "عام 1992, بات مسرح العرائس السابق الذي سلمته البلدية في عهدة الممثلين والموظفين.\n",
            "إنه أحد المباني القليلة في مركز المدينة التي نجت من الدمار مع نهاية الحرب العالمية الثانية.\n",
            "عام 1832, باعت ولاية فورتمبيرغ الدير السابق للصناعي غيورغ رايشنباخ بشرط إنشاء مصنعٍ للقطن هناك.\n",
            "الجالية الإسلامية التي استقرت هنا منذ بداية الستينيات هاجرت بمعظمها من تركيا.\n",
            "من بينها منطقة الدير السابق وكنيسة القديسين بطرس وبولوس.\n",
            "شيد مبنى البلدية التاريخي في أوبرمرسبورغ أصلاً في القرن التاسع عشر, وأعيد بناؤه بعد حرب الثلاثين عاماً.\n",
            "ثمة نظريات مختلفة حول أسباب ترك المكان.\n",
            "تضم حديقة غولدن غيت التي يبلغ طولها أربعة كليومترات حديقة نباتية وقبة سماوية وحديقة شاي يابانية وحوض أسماك.\n",
            "إنها بمثابة مكانٍ حضري للترفيه والاستجمام بالنسبة إلى سكان سان فرانسيسكو.\n",
            "أنشئت حديقة ييربا بوينا على سطح مركز موسكون نورث للمؤتمرات في بداية التسعينيات.\n",
            "تضم نصباً تذكارياً لمارتن لوثر كينغ جونيور.\n",
            "منذ الستينيات, يشهد اقتصاد المدينة انخفاضاً حاداً.\n",
            "خلال الانتخابات العامة لعام 2010, تمكن حزب العمال من الفوز في كل الدوائر الانتخابية السبع.\n",
            "كلٌ من توقيت هذا الحدث وتسلسله الزمني مثارٌ لجدلٍ كبير.\n",
            "في نيسان من عام 2012, أعرب رئيس الوزراء التركي إردوغان عن خطط حكومته لتخفيف العبء عن البوسفور من خلال إنشاء قناة إسطنبول الموازية له.\n",
            "لا سيما أن العثمانيين أرادوا منع تصدير الحبوب نظراً لحاجتهم الشديدة إليها.\n",
            "حرمت الإمبراطورية العثمانية وروسيا من إبقاء أساطيل حربية في البحر الأسود.\n",
            "كانت إحدى أكثر الثقافات انتشاراً في نطاقها خلال تلك الحقبة, حيث عرفت في العديد من المواقع الأخرى.\n",
            "تعود الاكتشافات إلى بداية القرن الخامس قبل الميلاد, مثل معظم المواقع في جنوب شرق أوروبا.\n",
            "قد يكون أشهر إنسانٍ من العصر النحاسي هو المومياء المتجمدة أوتزي, الذي عاش عام 3300 ق.م تقريباً.\n",
            "تواجدت في المرتفعات بشكلٍ أساسي.\n",
            "من الناحية التقنية, فإن طريقة طلي النحاس لديهم جديرة بالملاحظة.\n",
            "أثار عنف وضرواة الثورة في الريف كلاً من البلاط والجمعية الوطنية في فرساي.\n",
            "عرف بالأمر في باريس واستمر في إذكاء الاستياء الذي بدأ بالفعل مع استمرار ارتفاع أسعار الخبز وانعدام المؤن.\n",
            "لم يتخذ الملك احتياطاتٍ خاصة أثناء هروبه وتم التعرف عليه عدة مرات في أماكن مكوثه.\n",
            "لاقى النشيد استحساناً وطالب الجمهور بعزفه مجدداً.\n",
            "أعلن نهاية أول ألعاب أولمبية دولية.\n",
            "جلبت الحرب العالمية الأولى تحولات ووقائع جديدة في السياسات الاستعمارية.\n",
            "بدأت الثورة الصناعية في بريطانيا العظمى قبل أي بلدٍ آخر في العالم.\n",
            "أظهرت أزمة السويس حدود قدرات القوى الاستعمارية القديمة مثل بريطانيا العظمى وفرنسا في عالمٍ متغير.\n",
            "بعد استيلاء النازية على السلطة عام 1933, ظهرت جهود متعارضة في الرايخ الألماني لاستعادة المستعمرات القديمة.\n",
            "بعد الثورة الروسية عام 1917, نالت بعض الدول استقلالها, مثل فنلندا وبولندا ودول البلطيق.\n",
            "كانت إحدى آخر وسائل الضغط لديه على هنغاريا التهديد بإقامة انتخابات عامة وحرة.\n",
            "بعد التسوية, حرص الإمبراطور والملك فرانز جوزيف الأول على معاملة مملكتيه من دون تمييز.\n",
            "حل دير ديزيبودنبيرغ نتيجةً لحركة الإصلاح وبات أطلالاً.\n",
            "واليوم, هناك آثارٌ كثيرة يمكن زيارتها.\n",
            "عام 1632, دمر دير روبرتسبيرغ خلال حرب الثلاثين عاماً من قبل القوات السويدية.\n",
            "انتقلت الراهبات المشردات إلى دير أيبينغين.\n",
            "أعيد بناء الأنقاض لاحقاً.\n",
            "بعد هذه النجاحات, وقع عقداً مع فريق تيليكوم وانتقل للإقامة مع حبيبته في مردينغين في جنوب بادن, حيث عاش حتى عام 2002.\n",
            "في دورة الألعاب الأولمبية في آثينا عام 2004, دخل أولريش سباق الدرجات على الطريق كحامل لذهبية عام 2000, هادفاً الفوز بميداليته الذهبية الثانية.\n",
            "استبعدت الرقابة كل الآراء غير المرغوب بها, وباتت المشاركة في الحياة العامة شبه مستحيلة.\n",
            "كانت آثار الدماء على الملابس بذات الهيئة التي ورد ذكرها في التقارير الإخبارية في يوم جريمة القتل.\n",
            "كرم فايس بنيله جائزتي مدينتي كولونيا وبريمن الأدبيتين.\n",
            "سراً وعلانية, سعى شبرينغر بقوة للمصالحة مع الشعب اليهودي وسافر عدة مرات إلى إسرائيل.\n",
            "احترق الشاليه تماماً.\n",
            "في العام التالي, عام 1977, نال وسام الصداقة الأمريكي نظراً إلى موقف الودي لصحافته تجاه الولايات المتحدة الأمريكية.\n",
            "تضم منطقتا فيغييه ولا كونت غالبية المساكن الاجتماعية في المدينة, حيث يتشكل السكان بشكلٍ أساسي من المهاجرين أو من أبناء المهاجرين.\n",
            "يرتبط تاريخ قرقشونة ارتباطاً مباشراً بكونها مدينة حصينة.\n",
            "في بداية الألفية, كان هناك خمسة أطباء لكل 100000 نسمة.\n",
            "تستشهد منظمة العفو الدولية بمقالات صحفية من عام 2008 تصف مقتل خمسين شخصاً اتهموا بممارسة السحر.\n",
            "وقعت عينا فون بيلينغزهاوزن على القارة القطبية الجنوبية في 27 كانون الثاني 1820, قبل ثلاثة أيام من رؤية برانسفيلد لليابسة, وقبل عشرة أشهر من قيام بالمر بذلك في تشرين الثاني 1820.\n",
            "في بعثة إنديورنس الاستكشافية عام 1914, أبحرت السفينة البريطانية إنديورنس, بقيادة القبطان السير إرنست شاكلتون, وعلى متنها ثمانية وعشرون رجلاً لعبور القارة القطبية الجنوبية.\n",
            "كان هذا المخطوط هو أساس القانون الروماني ومؤسسات الجمهورية الرومانية والموس مايوروم.\n",
            "مع ذلك, أجبر بيروس على ترك صقلية من أجل حضور أعمالٍ تجارية في جنوب إيطاليا.\n",
            "في القرن الثامن قبل الميلاد, بدأت اليونان بالخروج من العصور المظلمة بعد سقوط الحضارة الموكيانية.\n",
            "ضاعت القراءة والكتابة وباتت الكتابة الموكيانية طي النسيان, غير أن الإغريق اعتمدوا الأبجدية الفينيقية, وعدلوها لوضع الأبجدية اليونانية.\n",
            "بدءاً من القرن التاسع قبل الميلاد, بدأت أولى النصوص الإغريقية بالظهور.\n",
            "كانت اليونان مقسمة إلى عدة مجتمعات صغيرة تتمتع بالحكم الذاتي, وهو نمطٌ أملته بالأساس جغرافيا اليونان: كل جزيرة أو وادٍ أو سهل معزولٌ عن محيطه بالبحر أو بالسلاسل الجبلية.\n",
            "بدءاً من القرن الثامن قبل الميلاد بدأت الدول المدينة بالظهور: وهي أقاليم صغير تتمتع بالحكم الذاتي ولها نظمها السياسية الخاصة بها.\n",
            "في العصور الوسطى, لم يكن بوسع معظم المسيحيين قراءة الإنجيل بلغتهم الأم.\n",
            "مع ذلك, لم يتوسعوا إلى أن صنعت سفنٌ كبيرة بما يكفي لعبور البحار.\n",
            "طورت التجارة من خلال إنشاء مواقع تجارية في أرجاء البحر المتوسط, وهي طريقة لم تكن متبعة حتى ذلك الحين.\n",
            "يمكن اعتبار هذه القضية بمثابة نقطة انطلاق مسيرته كثوري راديكالي.\n",
            "في بلوفيوس من السنة الثالثة (كانون الثاني-شباط 1794), بعد أن خفف من وطأة عهد الإرهاب, اتخذ عدة تدابير لتحرير المشتبه بهم.\n",
            "بما أنها ممولة كلياً بأموال برنار تابي الخاصة, أغلقت هذه المدارس عام 1994 عند إعلان إفلاسه.\n",
            "رغم أنها الموزع الأول للمعدات والمنسوجات في العالم, كانت الشركة الألمانية في ورطة مالية.\n",
            "للابتعاد عن كل ذلك, أقام آل ريمي في سويسرا معظم صيف 1947.\n",
            "عند عودتهم, طابت لهم فكرة العيش في جنوب أفريقيا, بعيداً عن المشاكل في بلجيكا ما بعد الحرب.\n",
            "في ربيع عام 1948, وأملاً بتحويل تانتان إلى عملٍ سينمائي, كتب الفنان البلجيكي رسالةً إلى والت ديزني, طالباً دعمه من دون جدوى.\n",
            "في الصيف, عاد جورج وزوجته إلى سويسرا, ترافقهما روزان, فتاة في الثامنة عشرة من عمرها وكانت ابنة إحدى صديقات جيرمين.\n",
            "خلال العطلة, دخل في علاقة خارج الزواج مع الفتاة الشابة, وقد اعترف بذلك بعد فترة وجيزة.\n",
            "في الجزء الأدنى, هناك ثلاثة أشجار نخيل تطل على البحر, وتمثل المحبة التي يكنها أهل هذه الجزيرة لأرضهم.\n",
            "علاوةً على ذلك, فإن حدوث أعاصير في الجزيرة محتملٌ خلال الصيف.\n",
            "تقع هذه الجزر على الفالق الهندي الأسترالي, الفالق الذي نشأ نتيجة اصطدام الصفائح الهندية بالأسترالية.\n",
            "ومن الأشياء التي تدعم هذه النظرية وجود قطيع ملكي كبير من الخيول في فيلا بيلوكا, في سستو سان جوفاني.\n",
            "عام 1928, أنشئ ملعب غولف بمساحة 90 هكتاراً في الجزء الشمالي الشرقي من الحديقة, بجوار مضمار السباق.\n",
            "عام 1976, لم يعد مضمار السباق مستخدماً, وفي عام 1990, دمر حريقٌ ما تبقى من المدرجات الخشبية, والتي هدمت لاحاقاً مع الإسطبلات.\n",
            "في آب من عام 1969, حذف البابا بولس السادس عقوبة الإعدام من قوانين الفاتيكان وألغاها من جميع الجرائم.\n",
            "إصدار العملة المعدنية له علاقة بمسألة جمع العملات في الغالب, وبنية بيعها لهواة جمع العملات بالأساس.\n",
            "الجزء الداخلي من المنطقة مسطح ومليء بالتلال, بحيث لا يمكن تمييز جزءٍ عن آخر.\n",
            "ثمة العديد من الآثار منذ ما قبل التاريخ, منها شواهد قائمة ومناطير.\n",
            "تأسست المنطقة الملكية البولية والكلابرية, والتي ضمت سامنيوم أيضاً, وأجزاء من موليزي وبازيليكاتا الشرقية.\n",
            "خلال القرن الثالث عشر, استخدم بعض الكتاب اسم بوليا للدلالة على الجزء الجنوبي من شبه الجزيرة الإيطالية.\n",
            "يشير المؤرج ديفيد كراوتش إلى أن ستيفن ترك المواجهة في ذلك الوقت تقريباً ليركز على مشاكل أخرى.\n",
            "كان قلةٌ منهم فقط (الإيرلات) موجودين في عهد هنري الأول وكان لهذا رمزية كبيرة.\n",
            "خلال حرب التحالف الأول, سرعان ما سلطت الأضواء على ضابط مدفعية كورسيكي شاب, في أعقاب الثورة الفرنسية: نابليون بونابرت.\n",
            "برغم عدم إنهائه للصراع, أجبر النصر الفرنسي في معركة مارينغو النمساويين على تسليم إيطاليا للمرة الثانية.\n",
            "أدى حصار أسطول فيلنوف إلى التخلي عن خطة غزو الجزر البريطانية, وأيضاً بسبب حدوث تطورات جديدة في القارة.\n",
            "كان نابليون واثقاً من أن النجاح الواضح في أوسترليتز سيؤدي إلى معاهدة سلام شاملة, غير أن آماله سرعان ما تبددت: رفض رئيس الوزراء البريطاني الجديد اللورد غرينفيل أي اتفاق, كما فعل القيصر ألكسندر.\n",
            "فيما يتعلق بالممارسات الدينية, تلقى فيوريلو تعليمه الكنيسة الأسقفية, وظل عضواً في الكنيسة البروتستانتية طوال حياته.\n",
            "أخبره الرجل أن الحرب بين العالمين قادمة, وكان قد تنبأ هو ووالتر, أن ثمة سبباً وجيهاً أن وليفيا, من بين الآخرين, دربت عندما كانت طفلة.\n",
            "التقى طالبا غوفريدو بيتراسي, إينيو موريكوني وبرونو نيكولاي في معهد سانتا (القديسة) سيسيليا.\n",
            "نشأت بينهما علاقة مهنية وودية طويلة استمرت لسنوات.\n",
            "يتعاون نيكولاي في العديد من الموسيقى التصويرية للأفلام السينمائية التي ألفها موريكوني مثل فيلم ميتي, في إحدى الأمسيات خلال العشاء, ألفت بعضها من قبل الاثنين معاً.\n",
            "مع ذلك, انهارت الصداقة بسبب التعاون غير الرسمي بين الاثنين, والذي أدى إلى نزاعات قانونية.\n",
            "خلال مرات التعاون المختلفة, من غير الواضح من من بينهما وضع بعض اللمسات في التوزيعات الموسيقية والتي ظهرت لاحقاً في أسلوب كلا الفنانين.\n",
            "في القرن العشرين, بين عامي 1904 و1914, أحدث أنتونيو غاودي نظاماً استمر لعشر سنوات.\n",
            "فيه ثلاث مصليات كنسية متوازية عند القبة والعديد من المصليات الكنسية الجانبية بين الدعامات.\n",
            "يقضي التقليد على أن الشكل اختير عن قصد بسبب العدد الكبير من اليهود الذين اعتنقوا المسيحية وعاشوا في بالما.\n",
            "قبل تشكل جبال الأنديز, كانت الحافة الغربية لأمريكا الجنوبية تشهد العديد من الحركة الأوروجينية.\n",
            "تنتمي جبال الأنديز الوسطى إلى ما يدعى \"أنديز دي تيبو أدينو\" التي تشكلت من خلال انغراز القشرة المحيطية.\n",
            "مع ذلك, أثار الانفصال بينه وبين ليناريس ووقف الخط التقدمي ثورة الحقوق التي أطاحت به عام 1879.\n",
            "في ظل إدارته, تمت الموافقة على تصويت الإناث, وتم تقنين الأحزاب السياسية, وسمح لكل المنفيين بالعودة وأطلق سراح من تبقى من المعتقلين السياسيين.\n",
            "أدى انهيار عشرات المصارف والتدخلات التي جرت فيها إلى هروب رؤوس الأموال مما سبب إفلاس الشركات.\n",
            "إنه الجزء من هذا الحد الثاني إلى الحد الخارجي, الخط الوهمي الذي يربط المنارة في بونتا ديل إستي ومالمنارة في بونتا راسا.\n",
            "بدأت الأمور تشهد تغييراً في تشرين الأول 1777 استسلمت القوات البريطانية بقيادة الجنرال جون بيرغوين في ساراتوغا شمالي ولاية نيويورك.\n",
            "كانت الضربة القاضية والدافع الذي احتاجه المستوطنون لنيل استقلالهم.\n",
            "الهنود الحمر الذين وصلوا من كندا, بقيادة جوزيف برانت, دعموا البريطانيين لأن المستعمرين كانوا يصادرون المزيد والمزيد من أراضيهم.\n",
            "كانت الحملة بقيادة الجنرال جوزيف بيريغوين الذي كان يهدف إلى الوصول إلى ألباني.\n",
            "مع ذلك, تم اعتراضهم وكان عليهم خوض معركة في فريمان, بالقرب من نهر هدسون.\n",
            "إسبانية العصر الذهبي أو الإسبانية الحديثة المبكرة هي بديلٌ عن اللغة التي تشكل الانتقال من إسبانية العصور الوسطى إلى الإسبانية الحديثة.\n",
            "من جهةٍ أخرى, يحوي التاريخ الخارجي للغة على إشاراتٍ عن تاريخ متحدثي الإسبانية, وعلى تقلباتهم التاريخية وعلى الاستخدام الاجتماعي للغة.\n",
            "بالرغم من ذلك, لو تم القبول بالقانون الإنجليزي, لكان لبنات لويس الخامس وفيليب الخامس وكارلوس الرابع حقٌ بالمطالبة بالعرش أكثر من عمتهم إيزابيلا فرنسا.\n",
            "محاولات بسط السلام انتهت أخيراً في ربيع عام 1415 وقرر إنريكه تنفيذ خطته: غزو كامل مملكة فرنسا.\n",
            "كما أنه استعرض مع فدرالية بوينوس آيريس, تمديد القانون التجاري وتعيين جنرالاتٍ جدداً في الجيش.\n",
            "عام 1976 التقى بصديقٍة عملت في شركته للتسجيلات شركة ذا روكيت ريكورد كومباني, كيكي دي, لتسجيل ما سيكون نجاحاً كبيراً آخر له: \"لا تشرع بفطر فؤادي\".\n",
            "تولى بومبي قيادة فيلقين في كابوا وبدأ برفع الضرائب بشكل غير قانوني, وهو تصرفٌ, بقدر ما كان متوقعاً, استغل أتباع قيصر الذين كانوا في صفه.\n",
            "تبلغ قيصر شخصياً بتصرفات بومبي من قبل كوريو, الذي كانت ولايته قد انتهت في ذلك الوقت.\n",
            "في الوقت نفسه, احتل مكانه في المنصة من قبل مارك أنطونيو, الذي شغل المنصب حتى كانون الأول.\n",
            "لكن عندما أجابه مجلس الشيوخ بشكل قاطع من خلال منعه من المنافسة في القنصلية ومنحه خيار سحب قواته أو أن يصبح عدواً للشعب, أدرك أنه, مهما كان الخيار الذي سيأخذه, سيسلم نفسه أعزلاً إلى أيدي أعدائه السياسيين.\n",
            "في 1 كانون الثاني من عام 49 ق.م, قرأ مارك أنطونيو تصريحاً من قيصر يعلن فيه الحاكم نفسه صديقاً للسلام.\n"
          ]
        }
      ]
    },
    {
      "cell_type": "code",
      "source": [
        "#report the info of the cleaned corpus\n",
        "print(\"The corpus has {} sentences\".format(len(corpus)))"
      ],
      "metadata": {
        "colab": {
          "base_uri": "https://localhost:8080/"
        },
        "id": "UGtMvfWTM23h",
        "outputId": "cbf65f1c-3e92-4a02-912a-5131e889fff7"
      },
      "execution_count": 24,
      "outputs": [
        {
          "output_type": "stream",
          "name": "stdout",
          "text": [
            "The corpus has 998 sentences\n"
          ]
        }
      ]
    },
    {
      "cell_type": "code",
      "source": [
        "#save the results in a dataframe\n",
        "df_w = pd.DataFrame (list_words, columns = ['w_name'])\n",
        "df = pd.DataFrame (list_pos, columns = ['tag_name'])\n",
        "df_w.to_csv(\"word_list_cleaned.csv\", encoding=\"utf-8\")\n",
        "df.to_csv(\"tag_list.csv\", encoding=\"utf-8\")"
      ],
      "metadata": {
        "id": "cD0XUYsrNCpd"
      },
      "execution_count": 25,
      "outputs": []
    },
    {
      "cell_type": "code",
      "source": [
        "#plot the found tags with popularity of each in the corpus\n",
        "fig, ax = plt.subplots()\n",
        "# the size of A4 paper\n",
        "fig.set_size_inches(11.7, 8.27)\n",
        "ax = sns.countplot(x=df['tag_name'],\n",
        "                   order=df['tag_name'].value_counts(ascending=False).index);\n",
        "\n",
        "abs_values = df['tag_name'].value_counts(ascending=False).values\n",
        "\n",
        "ax.bar_label(container=ax.containers[0], labels=abs_values)"
      ],
      "metadata": {
        "colab": {
          "base_uri": "https://localhost:8080/",
          "height": 0
        },
        "id": "Ns-9vhgaNGsA",
        "outputId": "83b29fc3-2c75-4177-e773-92e786b9ab36"
      },
      "execution_count": 26,
      "outputs": [
        {
          "output_type": "execute_result",
          "data": {
            "text/plain": [
              "[Text(0, 0, '5553'),\n",
              " Text(0, 0, '3565'),\n",
              " Text(0, 0, '2219'),\n",
              " Text(0, 0, '2021'),\n",
              " Text(0, 0, '1747'),\n",
              " Text(0, 0, '1724'),\n",
              " Text(0, 0, '1294'),\n",
              " Text(0, 0, '647'),\n",
              " Text(0, 0, '565'),\n",
              " Text(0, 0, '401'),\n",
              " Text(0, 0, '368'),\n",
              " Text(0, 0, '187'),\n",
              " Text(0, 0, '185'),\n",
              " Text(0, 0, '165'),\n",
              " Text(0, 0, '30'),\n",
              " Text(0, 0, '1')]"
            ]
          },
          "metadata": {},
          "execution_count": 26
        },
        {
          "output_type": "display_data",
          "data": {
            "text/plain": [
              "<Figure size 1170x827 with 1 Axes>"
            ],
            "image/png": "[encoded data removed]"
          },
          "metadata": {}
        }
      ]
    },
    {
      "cell_type": "markdown",
      "source": [
        "### Preprocessing of Input Text data\n",
        "Inspired by this [article ](https://medium.com/@WaadTSS/how-to-use-arabic-word2vec-word-embedding-with-lstm-af93858b2ce)\n",
        "\n",
        "**Preprocess the input text data**\n",
        "\n",
        "\n",
        "\n",
        "> Step1: convert from text to natural numbers\n",
        "\n",
        "> Step2: unify the length of sentences by padding with direction= left\n",
        "\n",
        "\n",
        "\n",
        "\n",
        "\n",
        "\n",
        "\n"
      ],
      "metadata": {
        "id": "pNbp5wxbNhpZ"
      }
    },
    {
      "cell_type": "code",
      "source": [
        "def sentence_max_len(list_sentences):\n",
        "    list_sentence_len=[]\n",
        "    for sentence in list_sentences:\n",
        "        list_sentence_len.append(len(sentence))\n",
        "    return max(list_sentence_len)"
      ],
      "metadata": {
        "id": "IZgB5OI3NhHB"
      },
      "execution_count": 27,
      "outputs": []
    },
    {
      "cell_type": "markdown",
      "source": [
        "**Encode sentences to numbers**"
      ],
      "metadata": {
        "id": "8J5GDO1wNpq3"
      }
    },
    {
      "cell_type": "code",
      "source": [
        "tkn= Tokenizer()\n",
        "#read the corpus\n",
        "tkn.fit_on_texts(list_sentences)\n",
        "\n",
        "vocab_size=len(tkn.word_index)+1 #the size is including the padding\n",
        "\n",
        "#encoding the corpus\n",
        "enc_corpus=tkn.texts_to_sequences(list_sentences)"
      ],
      "metadata": {
        "id": "qQHfSDgeNrJp"
      },
      "execution_count": 28,
      "outputs": []
    },
    {
      "cell_type": "code",
      "source": [
        "# look at first encoded data point\n",
        "\n",
        "print(\"** Raw data point **\", \"\\n\", \"-\"*100, \"\\n\")\n",
        "print(list_sentences[0], '\\n')\n",
        "print()\n",
        "print(\"** Encoded data point **\", \"\\n\", \"-\"*100, \"\\n\")\n",
        "print(enc_corpus[0], '\\n')"
      ],
      "metadata": {
        "colab": {
          "base_uri": "https://localhost:8080/"
        },
        "id": "uv5_4G_n7MOO",
        "outputId": "0c184c41-6d30-4068-b2c4-337c31a21485"
      },
      "execution_count": 29,
      "outputs": [
        {
          "output_type": "stream",
          "name": "stdout",
          "text": [
            "** Raw data point ** \n",
            " ---------------------------------------------------------------------------------------------------- \n",
            "\n",
            "كتبت كوري شولمان, المساعدة الخاصة لأوباما في تدوينة نشرتها يوم الإثنين: \"فيما الكثير من عمليات الانتقال الرقمي غير مسبوقة في الولايات المتحدة, فإن الانتقال السلمي للسلطة سبق له أن حدث\". \n",
            "\n",
            "\n",
            "** Encoded data point ** \n",
            " ---------------------------------------------------------------------------------------------------- \n",
            "\n",
            "[1995, 406, 1996, 582, 39, 1997, 1, 1998, 1999, 49, 2000, 119, 75, 2, 2001, 234, 972, 26, 2002, 1, 134, 50, 76, 234, 2003, 2004, 2005, 301, 3, 181] \n",
            "\n"
          ]
        }
      ]
    },
    {
      "cell_type": "code",
      "source": [
        "print(\"- The LSTM input is type {} of sentences, \\n- Each sentence is a list of {} each representing words\\n- The number of sentences is {} \\n \"\n",
        "      .format(type(enc_corpus),type(enc_corpus[0][0]),len(enc_corpus)))"
      ],
      "metadata": {
        "colab": {
          "base_uri": "https://localhost:8080/"
        },
        "id": "zsuOm7hEOBZr",
        "outputId": "bfb0c28d-31df-4ee0-e25d-01320b84073f"
      },
      "execution_count": 30,
      "outputs": [
        {
          "output_type": "stream",
          "name": "stdout",
          "text": [
            "- The LSTM input is type <class 'list'> of sentences, \n",
            "- Each sentence is a list of <class 'int'> each representing words\n",
            "- The number of sentences is 998 \n",
            " \n"
          ]
        }
      ]
    },
    {
      "cell_type": "markdown",
      "source": [
        "###Padding the shorter sentences\n",
        "Compute maximum length of a sentence with the corpus"
      ],
      "metadata": {
        "id": "Z2fybIDNOH0_"
      }
    },
    {
      "cell_type": "code",
      "source": [
        "# check length of longest sentence\n",
        "lengths = [len(seq) for seq in list_sentences]\n",
        "print(\"Length of longest sentence: {}\".format(max(lengths)))"
      ],
      "metadata": {
        "colab": {
          "base_uri": "https://localhost:8080/"
        },
        "id": "RBoXiKfC80b-",
        "outputId": "69a2b72c-c065-4cb1-d21e-a108e12df389"
      },
      "execution_count": 31,
      "outputs": [
        {
          "output_type": "stream",
          "name": "stdout",
          "text": [
            "Length of longest sentence: 257\n"
          ]
        }
      ]
    },
    {
      "cell_type": "code",
      "source": [
        "sns.boxplot(lengths)\n",
        "plt.show()"
      ],
      "metadata": {
        "colab": {
          "base_uri": "https://localhost:8080/",
          "height": 0
        },
        "id": "ubCqXvHq874c",
        "outputId": "c2d8d496-7107-4af8-bf6d-4dca0c3db343"
      },
      "execution_count": 32,
      "outputs": [
        {
          "output_type": "display_data",
          "data": {
            "text/plain": [
              "<Figure size 640x480 with 1 Axes>"
            ],
            "image/png": "[encoded data removed]"
          },
          "metadata": {}
        }
      ]
    },
    {
      "cell_type": "markdown",
      "source": [
        "**Use pad_sequences of keras with padding direction to the left**"
      ],
      "metadata": {
        "id": "Tf_lWLDeO6-h"
      }
    },
    {
      "cell_type": "code",
      "source": [
        "max_len=sentence_max_len(list_sentences)\n",
        "pad_corpus=pad_sequences(enc_corpus, maxlen=max_len, padding='post')\n",
        "pad_corpus.shape"
      ],
      "metadata": {
        "colab": {
          "base_uri": "https://localhost:8080/"
        },
        "id": "9qjDGti7O8a4",
        "outputId": "21236b89-707b-493f-cfb7-0e4db7b1941a"
      },
      "execution_count": 33,
      "outputs": [
        {
          "output_type": "execute_result",
          "data": {
            "text/plain": [
              "(998, 257)"
            ]
          },
          "metadata": {},
          "execution_count": 33
        }
      ]
    },
    {
      "cell_type": "markdown",
      "source": [
        "###Label Encode the output\n",
        "Label encode the tags\n",
        "\n",
        "Preprocess the **output tags per sentence**\n",
        "\n",
        "*   Step1: create a dictionary of tags where label encoding is done alphebatically\n",
        "\n",
        "*   Step2: convert the tag text to tag number using dictionary\n",
        "\n",
        "*   Step3: unify the length of output array by padding with direction= left, and value (tag_name=X, tag_value=15)\n",
        "\n",
        "*   Step4: add 3rd dimension which represents the label encoding for each tag for each sentence\n",
        "Note: forth step is done to fit the last layer of time-distributed of the Bi-LSTM system\n",
        "\n",
        "\n",
        "\n"
      ],
      "metadata": {
        "id": "yVUY-uJoPYoJ"
      }
    },
    {
      "cell_type": "code",
      "source": [
        "output=pos\n",
        "flat_output = sum(output, [])\n",
        "# create a dictionary to map target from txt to int label\n",
        "pos_keyword=list(set(flat_output))\n",
        "#sort it alphabatically first element is the first in alphabetical order\n",
        "pos_keyword=sorted(pos_keyword)\n",
        "max_len=sentence_max_len(list_sentences)\n",
        "padding_value = pos_keyword.index(\"X\")\n",
        "print(\"the fixed output length is {}, where the padding value of x is {}\"\n",
        "      .format(max_len,padding_value))\n",
        "\n",
        "\n",
        "arr_r=len(output)\n",
        "arr_c=max_len\n",
        "#fill-in (pad) all the label matrix\n",
        "encoded_target = np.full((arr_r,arr_c),padding_value, dtype=int)\n",
        "for sentence_ind in range(len(output)):\n",
        "    sentence=output[sentence_ind]\n",
        "    for pos_ind in range(len(sentence)):\n",
        "        indiv_pos=output[sentence_ind][pos_ind]\n",
        "        target_label=pos_keyword.index(indiv_pos)\n",
        "        encoded_target[sentence_ind][pos_ind]=target_label"
      ],
      "metadata": {
        "colab": {
          "base_uri": "https://localhost:8080/"
        },
        "id": "sisCKdPjPcAx",
        "outputId": "27f92d3b-d5a7-4a87-850b-131c68021602"
      },
      "execution_count": 34,
      "outputs": [
        {
          "output_type": "stream",
          "name": "stdout",
          "text": [
            "the fixed output length is 257, where the padding value of x is 15\n"
          ]
        }
      ]
    },
    {
      "cell_type": "code",
      "source": [
        "print(output[0])\n",
        "print(encoded_target[0][:41])"
      ],
      "metadata": {
        "colab": {
          "base_uri": "https://localhost:8080/"
        },
        "id": "BUfD-KIQP1DZ",
        "outputId": "12873d7a-541e-49f0-ce23-a5047989bcd2"
      },
      "execution_count": 35,
      "outputs": [
        {
          "output_type": "stream",
          "name": "stdout",
          "text": [
            "['VERB', 'PROPN', 'PROPN', 'PUNCT', 'NOUN', 'ADJ', 'ADP', 'PROPN', 'ADP', 'NOUN', 'VERB', 'PRON', 'ADV', 'PROPN', 'PUNCT', 'PUNCT', 'ADP', 'NOUN', 'ADP', 'NOUN', 'NOUN', 'ADJ', 'PART', 'ADJ', 'ADP', 'PROPN', 'ADJ', 'PUNCT', 'PART', 'PART', 'NOUN', 'ADJ', 'ADP', 'NOUN', 'VERB', 'ADP', 'PRON', 'ADP', 'VERB', 'PUNCT', 'PUNCT']\n",
            "[14 10 10 11  6  0  1 10  1  6 14  9  2 10 11 11  1  6  1  6  6  0  8  0\n",
            "  1 10  0 11  8  8  6  0  1  6 14  1  9  1 14 11 11]\n"
          ]
        }
      ]
    },
    {
      "cell_type": "code",
      "source": [
        "encoded_target.shape"
      ],
      "metadata": {
        "colab": {
          "base_uri": "https://localhost:8080/"
        },
        "id": "GCGGH8MqP8dO",
        "outputId": "bbc63ae3-2515-47b9-8619-e031941e48a1"
      },
      "execution_count": 36,
      "outputs": [
        {
          "output_type": "execute_result",
          "data": {
            "text/plain": [
              "(998, 257)"
            ]
          },
          "metadata": {},
          "execution_count": 36
        }
      ]
    },
    {
      "cell_type": "markdown",
      "source": [
        "**One-Hot-Encode The Output**\n",
        "\n",
        "Format of the output (sentences, max_sentence_len, number_of_tags)"
      ],
      "metadata": {
        "id": "P1esRFTQQBWj"
      }
    },
    {
      "cell_type": "code",
      "source": [
        "new_row=encoded_target.shape[0]\n",
        "new_col=encoded_target.shape[1]\n",
        "num_new_col=len(pos_keyword)\n",
        "one_hot_encoded_col=np.zeros((new_row,new_col,num_new_col))\n",
        "#cols 16, shape =(998, 257)\n",
        "\n",
        "for sentence_ind in range(len(encoded_target)):\n",
        "    sentence = encoded_target[sentence_ind]\n",
        "    for word_ind in range(len(sentence)):\n",
        "\n",
        "        #create the on-hot-encoding\n",
        "        w_1hotenc = np.zeros((1,num_new_col))\n",
        "        high_ind=sentence[word_ind-1]\n",
        "        w_1hotenc[0][high_ind]=1\n",
        "\n",
        "        #modify the target label matrix per word\n",
        "        one_hot_encoded_col[sentence_ind][word_ind][:]=w_1hotenc"
      ],
      "metadata": {
        "id": "eoxcDpKWQCqI"
      },
      "execution_count": 37,
      "outputs": []
    },
    {
      "cell_type": "markdown",
      "source": [
        "### Split the data into training and testing\n",
        "\n",
        "*   Ratio : 85%training-15%testing\n",
        "\n",
        "*   Split is done randomly with the ratio 85-15 using numpy library\n",
        "\n",
        "\n"
      ],
      "metadata": {
        "id": "padN3FIpQQ3b"
      }
    },
    {
      "cell_type": "code",
      "source": [
        "total_samples=pad_corpus.shape[0]\n",
        "train_samples=round(total_samples* 0.85)\n",
        "\n",
        "indices = np.random.permutation(total_samples)\n",
        "training_idx, test_idx = indices[:train_samples], indices[train_samples:]\n",
        "train_x, test_x = pad_corpus[training_idx,:], pad_corpus[test_idx,:]\n",
        "train_y, test_y = one_hot_encoded_col[training_idx,:], one_hot_encoded_col[test_idx,:]"
      ],
      "metadata": {
        "id": "M4hxY52iQSY3"
      },
      "execution_count": 38,
      "outputs": []
    },
    {
      "cell_type": "markdown",
      "source": [
        "### Create the LSTM Model\n",
        "**Step1: Word Embedding**\n",
        "\n",
        "Word embedding provides a dense representation of words and their relative meanings.\n",
        "\n",
        "The word embedding technique used in this Task is N-Gram Word2Vec -SkipGram model from [aravec](https://github.com/bakrianoo/aravec) project trained on twitter data with vector size 300."
      ],
      "metadata": {
        "id": "Qfsl4XS6Qh3o"
      }
    },
    {
      "cell_type": "code",
      "source": [
        "!gdown https://bakrianoo.ewr1.vultrobjects.com/aravec/full_grams_sg_300_twitter.zip"
      ],
      "metadata": {
        "colab": {
          "base_uri": "https://localhost:8080/"
        },
        "id": "XvIAYeBIFcrA",
        "outputId": "92a7405b-45da-4866-a027-ff5f672afb5f"
      },
      "execution_count": 96,
      "outputs": [
        {
          "output_type": "stream",
          "name": "stdout",
          "text": [
            "Downloading...\n",
            "From: https://bakrianoo.ewr1.vultrobjects.com/aravec/full_grams_sg_300_twitter.zip\n",
            "To: /content/full_grams_sg_300_twitter.zip\n",
            "100% 3.32G/3.32G [01:09<00:00, 47.9MB/s]\n"
          ]
        }
      ]
    },
    {
      "cell_type": "code",
      "source": [
        "import zipfile\n",
        "\n",
        "# Path to the zip file\n",
        "zip_file_path = '/content/full_grams_sg_300_twitter.zip'\n",
        "\n",
        "# List the contents of the zip file\n",
        "with zipfile.ZipFile(zip_file_path, 'r') as zip_ref:\n",
        "    zip_contents = zip_ref.namelist()\n",
        "\n",
        "print(\"Contents of the zip file:\")\n",
        "for item in zip_contents:\n",
        "    print(item)\n"
      ],
      "metadata": {
        "colab": {
          "base_uri": "https://localhost:8080/"
        },
        "id": "7cOwvzvJHg8F",
        "outputId": "86762fd4-24a2-4a7d-bf19-f5e457ad09f0"
      },
      "execution_count": 97,
      "outputs": [
        {
          "output_type": "stream",
          "name": "stdout",
          "text": [
            "Contents of the zip file:\n",
            "full_grams_sg_300_twitter.mdl\n",
            "full_grams_sg_300_twitter.mdl.trainables.syn1neg.npy\n",
            "full_grams_sg_300_twitter.mdl.wv.vectors.npy\n"
          ]
        }
      ]
    },
    {
      "cell_type": "code",
      "source": [
        "import zipfile\n",
        "\n",
        "zip_file_path = \"/content/full_grams_sg_300_twitter.zip\"\n",
        "extracted_folder = \"/content/extracted_model\"\n",
        "\n",
        "with zipfile.ZipFile(zip_file_path, 'r') as zip_ref:\n",
        "    zip_ref.extractall(extracted_folder)\n"
      ],
      "metadata": {
        "id": "796aOczQJjDZ"
      },
      "execution_count": 98,
      "outputs": []
    },
    {
      "cell_type": "code",
      "source": [
        "from gensim.models import Word2Vec\n",
        "\n",
        "model_path = \"/content/extracted_model/full_grams_sg_300_twitter.mdl\"\n",
        "embedding_model = Word2Vec.load(model_path)\n"
      ],
      "metadata": {
        "id": "CNds8mXLJuF8"
      },
      "execution_count": 1,
      "outputs": []
    },
    {
      "cell_type": "code",
      "source": [
        "#list of words in the dictionary\n",
        "#embedding_model.wv.index_to_key"
      ],
      "metadata": {
        "id": "oV18musejOgu"
      },
      "execution_count": null,
      "outputs": []
    },
    {
      "cell_type": "code",
      "source": [
        "embeddings = {}\n",
        "for word,vector in zip(embedding_model.wv.index_to_key,embedding_model.wv):\n",
        "    coefs =[]\n",
        "    coefs.append(vector)\n",
        "    embeddings[word] = coefs\n",
        "embeddings_weights = np.zeros((vocab_size, 300))\n",
        "for word, i in tkn.word_index.items():\n",
        "    embedding_vector = embeddings.get(word)\n",
        "    if embedding_vector is not None:\n",
        "        embeddings_weights[i] = embedding_vector[0]"
      ],
      "metadata": {
        "id": "VEsjg0OfjTa4"
      },
      "execution_count": 39,
      "outputs": []
    },
    {
      "cell_type": "markdown",
      "source": [
        "### Create the model\n"
      ],
      "metadata": {
        "id": "RvAIG0rrjaS1"
      }
    },
    {
      "cell_type": "code",
      "source": [
        "def create_model():\n",
        "    # define the model\n",
        "    #output_dim=pad_corpus.shape[0]\n",
        "    max_len=pad_corpus.shape[1]\n",
        "    number_label_classes=len(pos_keyword)\n",
        "\n",
        "    model = Sequential()\n",
        "    model.add(Embedding(input_dim = vocab_size,output_dim=300,input_length = max_len,weights =[embeddings_weights],trainable=False))\n",
        "    model.add(Bidirectional(LSTM(64, return_sequences=True)))\n",
        "    model.add(Bidirectional(LSTM(64, return_sequences=True)))\n",
        "\n",
        "\n",
        "    model.add(TimeDistributed(Dense(number_label_classes, activation='softmax')))\n",
        "\n",
        "    #compile the model\n",
        "    model.compile(optimizer='adam', loss='categorical_crossentropy', metrics=['accuracy'])\n",
        "    return model"
      ],
      "metadata": {
        "id": "ddblE8gNjXm8"
      },
      "execution_count": 40,
      "outputs": []
    },
    {
      "cell_type": "code",
      "source": [
        "# define the model\n",
        "#output_dim=pad_corpus.shape[0]\n",
        "max_len=pad_corpus.shape[1]\n",
        "number_label_classes=len(pos_keyword)\n",
        "\n",
        "\n",
        "\n",
        "model = Sequential()\n",
        "model.add(Embedding(input_dim = vocab_size,output_dim=300,input_length = max_len,weights =[embeddings_weights],trainable=False))\n",
        "model.add(Bidirectional(LSTM(64, return_sequences=True)))\n",
        "model.add(Bidirectional(LSTM(64, return_sequences=True)))\n",
        "\n",
        "\n",
        "model.add(TimeDistributed(Dense(number_label_classes, activation='softmax')))\n",
        "\n",
        "#compile the model\n",
        "model.compile(optimizer='adam', loss='categorical_crossentropy', metrics=['accuracy'])\n",
        "\n",
        "#summarize the model\n",
        "model.summary()\n",
        "#998 is the number of sentences, 257 is the embedding dimensions which is the maximum length\n",
        "#1000 is 2 lstm of size 500 each in an opposite direction"
      ],
      "metadata": {
        "colab": {
          "base_uri": "https://localhost:8080/"
        },
        "id": "zhHTaZAyj6fT",
        "outputId": "eacaafe7-e5eb-44f9-e5fe-5c8939d963ea"
      },
      "execution_count": 41,
      "outputs": [
        {
          "output_type": "stream",
          "name": "stdout",
          "text": [
            "Model: \"sequential\"\n",
            "_________________________________________________________________\n",
            " Layer (type)                Output Shape              Param #   \n",
            "=================================================================\n",
            " embedding (Embedding)       (None, 257, 300)          2280900   \n",
            "                                                                 \n",
            " bidirectional (Bidirectiona  (None, 257, 128)         186880    \n",
            " l)                                                              \n",
            "                                                                 \n",
            " bidirectional_1 (Bidirectio  (None, 257, 128)         98816     \n",
            " nal)                                                            \n",
            "                                                                 \n",
            " time_distributed (TimeDistr  (None, 257, 16)          2064      \n",
            " ibuted)                                                         \n",
            "                                                                 \n",
            "=================================================================\n",
            "Total params: 2,568,660\n",
            "Trainable params: 287,760\n",
            "Non-trainable params: 2,280,900\n",
            "_________________________________________________________________\n"
          ]
        }
      ]
    },
    {
      "cell_type": "markdown",
      "source": [
        "### Train the model"
      ],
      "metadata": {
        "id": "-xGupn3lkDQp"
      }
    },
    {
      "cell_type": "code",
      "source": [
        "# fit the model\n",
        "history=model.fit(train_x, train_y, validation_split=0.1,epochs=25, verbose=1)"
      ],
      "metadata": {
        "colab": {
          "base_uri": "https://localhost:8080/"
        },
        "id": "UZB51dcPkGPo",
        "outputId": "c86635f5-c3d6-4a55-ea71-30df4fd53392"
      },
      "execution_count": 42,
      "outputs": [
        {
          "output_type": "stream",
          "name": "stdout",
          "text": [
            "Epoch 1/25\n",
            "24/24 [==============================] - 17s 139ms/step - loss: 1.2982 - accuracy: 0.8887 - val_loss: 0.2341 - val_accuracy: 0.9343\n",
            "Epoch 2/25\n",
            "24/24 [==============================] - 1s 40ms/step - loss: 0.2276 - accuracy: 0.9325 - val_loss: 0.2134 - val_accuracy: 0.9355\n",
            "Epoch 3/25\n",
            "24/24 [==============================] - 1s 36ms/step - loss: 0.2107 - accuracy: 0.9336 - val_loss: 0.2056 - val_accuracy: 0.9355\n",
            "Epoch 4/25\n",
            "24/24 [==============================] - 1s 36ms/step - loss: 0.2055 - accuracy: 0.9354 - val_loss: 0.2026 - val_accuracy: 0.9392\n",
            "Epoch 5/25\n",
            "24/24 [==============================] - 1s 36ms/step - loss: 0.2030 - accuracy: 0.9374 - val_loss: 0.2005 - val_accuracy: 0.9392\n",
            "Epoch 6/25\n",
            "24/24 [==============================] - 1s 34ms/step - loss: 0.2014 - accuracy: 0.9373 - val_loss: 0.1989 - val_accuracy: 0.9390\n",
            "Epoch 7/25\n",
            "24/24 [==============================] - 1s 35ms/step - loss: 0.1997 - accuracy: 0.9373 - val_loss: 0.1976 - val_accuracy: 0.9389\n",
            "Epoch 8/25\n",
            "24/24 [==============================] - 1s 35ms/step - loss: 0.1980 - accuracy: 0.9374 - val_loss: 0.1964 - val_accuracy: 0.9386\n",
            "Epoch 9/25\n",
            "24/24 [==============================] - 1s 36ms/step - loss: 0.1961 - accuracy: 0.9375 - val_loss: 0.1953 - val_accuracy: 0.9385\n",
            "Epoch 10/25\n",
            "24/24 [==============================] - 1s 36ms/step - loss: 0.1934 - accuracy: 0.9377 - val_loss: 0.1937 - val_accuracy: 0.9386\n",
            "Epoch 11/25\n",
            "24/24 [==============================] - 1s 35ms/step - loss: 0.1902 - accuracy: 0.9379 - val_loss: 0.1923 - val_accuracy: 0.9393\n",
            "Epoch 12/25\n",
            "24/24 [==============================] - 1s 40ms/step - loss: 0.1878 - accuracy: 0.9385 - val_loss: 0.1896 - val_accuracy: 0.9396\n",
            "Epoch 13/25\n",
            "24/24 [==============================] - 1s 48ms/step - loss: 0.1849 - accuracy: 0.9392 - val_loss: 0.1899 - val_accuracy: 0.9396\n",
            "Epoch 14/25\n",
            "24/24 [==============================] - 1s 49ms/step - loss: 0.1818 - accuracy: 0.9400 - val_loss: 0.1886 - val_accuracy: 0.9395\n",
            "Epoch 15/25\n",
            "24/24 [==============================] - 1s 36ms/step - loss: 0.1800 - accuracy: 0.9403 - val_loss: 0.1886 - val_accuracy: 0.9396\n",
            "Epoch 16/25\n",
            "24/24 [==============================] - 1s 36ms/step - loss: 0.1784 - accuracy: 0.9406 - val_loss: 0.1886 - val_accuracy: 0.9398\n",
            "Epoch 17/25\n",
            "24/24 [==============================] - 1s 34ms/step - loss: 0.1765 - accuracy: 0.9411 - val_loss: 0.1891 - val_accuracy: 0.9394\n",
            "Epoch 18/25\n",
            "24/24 [==============================] - 1s 35ms/step - loss: 0.1747 - accuracy: 0.9419 - val_loss: 0.1884 - val_accuracy: 0.9392\n",
            "Epoch 19/25\n",
            "24/24 [==============================] - 1s 34ms/step - loss: 0.1712 - accuracy: 0.9424 - val_loss: 0.1889 - val_accuracy: 0.9390\n",
            "Epoch 20/25\n",
            "24/24 [==============================] - 1s 35ms/step - loss: 0.1709 - accuracy: 0.9424 - val_loss: 0.1898 - val_accuracy: 0.9393\n",
            "Epoch 21/25\n",
            "24/24 [==============================] - 1s 34ms/step - loss: 0.1675 - accuracy: 0.9436 - val_loss: 0.1904 - val_accuracy: 0.9394\n",
            "Epoch 22/25\n",
            "24/24 [==============================] - 1s 35ms/step - loss: 0.1655 - accuracy: 0.9443 - val_loss: 0.1928 - val_accuracy: 0.9375\n",
            "Epoch 23/25\n",
            "24/24 [==============================] - 1s 35ms/step - loss: 0.1658 - accuracy: 0.9438 - val_loss: 0.1889 - val_accuracy: 0.9398\n",
            "Epoch 24/25\n",
            "24/24 [==============================] - 1s 35ms/step - loss: 0.1624 - accuracy: 0.9446 - val_loss: 0.1907 - val_accuracy: 0.9388\n",
            "Epoch 25/25\n",
            "24/24 [==============================] - 1s 35ms/step - loss: 0.1598 - accuracy: 0.9455 - val_loss: 0.1955 - val_accuracy: 0.9406\n"
          ]
        }
      ]
    },
    {
      "cell_type": "markdown",
      "source": [
        "### Save & Load the trained model\n"
      ],
      "metadata": {
        "id": "lFir2BgzkR0S"
      }
    },
    {
      "cell_type": "code",
      "source": [
        "model.save_weights(\"bilstm_model_aravec.h5\")\n"
      ],
      "metadata": {
        "id": "Txxc50vAkHF9"
      },
      "execution_count": 43,
      "outputs": []
    },
    {
      "cell_type": "code",
      "source": [
        "loaded_model = create_model()\n",
        "# Restore the weights\n",
        "loaded_model.load_weights(\"bilstm_model_aravec.h5\")"
      ],
      "metadata": {
        "id": "sP1XtVs3kVIi"
      },
      "execution_count": 44,
      "outputs": []
    },
    {
      "cell_type": "markdown",
      "source": [
        "## Evaluate the POS Tagger"
      ],
      "metadata": {
        "id": "r501augS00m3"
      }
    },
    {
      "cell_type": "markdown",
      "source": [
        "**LSTM Performance Evaluation**\n",
        "* accuracy, recall, precision, and f1 measure,\n",
        "* learning curve"
      ],
      "metadata": {
        "id": "tL-hGdP8kagt"
      }
    },
    {
      "cell_type": "code",
      "source": [
        "loss,accuracy =model.evaluate(test_x, test_y)"
      ],
      "metadata": {
        "colab": {
          "base_uri": "https://localhost:8080/"
        },
        "id": "-HbgaWYTkXTv",
        "outputId": "1d316d15-5efa-4cf6-af2e-eaa8bf694551"
      },
      "execution_count": 45,
      "outputs": [
        {
          "output_type": "stream",
          "name": "stdout",
          "text": [
            "5/5 [==============================] - 0s 32ms/step - loss: 0.1901 - accuracy: 0.9424\n"
          ]
        }
      ]
    },
    {
      "cell_type": "markdown",
      "source": [
        "### Post-Processing\n",
        "* Step1: round the predicted values to int (bcuz it is in the 1-hot-encoding format)\n",
        "* Step2: convert from 1-hot-encoding format to label encoding\n",
        "* Step3: convert from label encoding format to tag names"
      ],
      "metadata": {
        "id": "ovnQS1IjkojA"
      }
    },
    {
      "cell_type": "code",
      "source": [
        "#Step1: round the predicted values to int (bcuz it is in the 1-hot-encoding format)\n",
        "predict_y=model.predict(test_x)\n",
        "predict_y=np.rint(predict_y)\n",
        "predict_y=predict_y.astype(int)"
      ],
      "metadata": {
        "colab": {
          "base_uri": "https://localhost:8080/"
        },
        "id": "BIKmGQS1kfyg",
        "outputId": "f539b66c-8c72-4621-b515-93ced54aae96"
      },
      "execution_count": 46,
      "outputs": [
        {
          "output_type": "stream",
          "name": "stdout",
          "text": [
            "5/5 [==============================] - 1s 26ms/step\n"
          ]
        }
      ]
    },
    {
      "cell_type": "code",
      "source": [
        "#Step2: convert from 1-hot-encoding format to label encoding\n",
        "#pos_keyword is list of tags as words\n",
        "def reverse_1hotenc(onehotenc, pos_keyword):\n",
        "    decoded = np.zeros((onehotenc.shape[0], onehotenc.shape[1]), dtype=int)  # Set dtype to int\n",
        "    for sentence_ind in range(len(onehotenc)):\n",
        "        sentence = onehotenc[sentence_ind]\n",
        "        for word_ind in range(len(sentence)):\n",
        "            onehotenc_label = onehotenc[sentence_ind][word_ind]\n",
        "            label_index = np.where(onehotenc_label == 1)[0]\n",
        "            if label_index.size > 0:\n",
        "                decoded[sentence_ind][word_ind] = label_index[0]  # Use the integer index\n",
        "    return decoded\n",
        "\n",
        "test_y_decoded =reverse_1hotenc(test_y,pos_keyword)\n",
        "predict_y_decoded =reverse_1hotenc(predict_y,pos_keyword)"
      ],
      "metadata": {
        "id": "oTDRkoJxkukF"
      },
      "execution_count": 47,
      "outputs": []
    },
    {
      "cell_type": "code",
      "source": [
        "# Step3: convert from label encoding format to tag names\n",
        "def decode_labels(encoded_labels, pos_keyword):\n",
        "    decoded_labels = []\n",
        "    for sentence_labels in encoded_labels:\n",
        "        decoded_sentence = [pos_keyword[label] for label in sentence_labels]\n",
        "        decoded_labels.append(decoded_sentence)\n",
        "    return decoded_labels\n",
        "\n",
        "test_y_tags = decode_labels(test_y_decoded, pos_keyword)\n",
        "predict_y_tags = decode_labels(predict_y_decoded, pos_keyword)"
      ],
      "metadata": {
        "id": "yLTuVXb65lVa"
      },
      "execution_count": 48,
      "outputs": []
    },
    {
      "cell_type": "code",
      "source": [
        "# Reversing the encoded sentences to original words\n",
        "def decode_encoded_sentences(encoded_sentences, tokenizer):\n",
        "    decoded_sentences = []\n",
        "    for encoded_sentence in encoded_sentences:\n",
        "        decoded_sentence = tokenizer.sequences_to_texts([encoded_sentence])[0]\n",
        "        decoded_sentences.append(decoded_sentence)\n",
        "    return decoded_sentences\n",
        "\n",
        "# Reversing the one-hot encoded tags to original POS tags\n",
        "def decode_one_hot(encoded_tags, pos_keywords):\n",
        "    decoded_tags = []\n",
        "    for sentence_tags in encoded_tags:\n",
        "        decoded_sentence_tags = []\n",
        "        for word_tags in sentence_tags:\n",
        "            tag_index = np.argmax(word_tags)\n",
        "            decoded_tag = pos_keywords[tag_index]\n",
        "            decoded_sentence_tags.append(decoded_tag)\n",
        "        decoded_tags.append(decoded_sentence_tags)\n",
        "    return decoded_tags\n",
        "\n",
        "# Decoding the test input sentences and their original POS tag sequences\n",
        "decoded_test_input = decode_encoded_sentences(test_x, tkn)\n",
        "decoded_test_tags = decode_one_hot(test_y, pos_keyword)\n",
        "\n",
        "# Printing a few examples of decoded sentences and their tags\n",
        "for i in range(5):\n",
        "    print(\"Example:\", i+1)\n",
        "    print(\"Decoded Input Sentence:\", decoded_test_input[i])\n",
        "    print(\"Original POS Tags:\", decoded_test_tags[i])\n",
        "    print()"
      ],
      "metadata": {
        "colab": {
          "base_uri": "https://localhost:8080/"
        },
        "id": "BytSt5kNDc0I",
        "outputId": "0da59712-5e51-47d7-dd7c-f978c2cadcee"
      },
      "execution_count": 51,
      "outputs": [
        {
          "output_type": "stream",
          "name": "stdout",
          "text": [
            "Example: 1\n",
            "Decoded Input Sentence: ثم زحف فيليب لضرب أعدائه الجنوبيين\n",
            "Original POS Tags: ['X', 'PART', 'NOUN', 'PROPN', 'ADP', 'NOUN', 'NOUN', 'PRON', 'ADJ', 'PUNCT', 'X', 'X', 'X', 'X', 'X', 'X', 'X', 'X', 'X', 'X', 'X', 'X', 'X', 'X', 'X', 'X', 'X', 'X', 'X', 'X', 'X', 'X', 'X', 'X', 'X', 'X', 'X', 'X', 'X', 'X', 'X', 'X', 'X', 'X', 'X', 'X', 'X', 'X', 'X', 'X', 'X', 'X', 'X', 'X', 'X', 'X', 'X', 'X', 'X', 'X', 'X', 'X', 'X', 'X', 'X', 'X', 'X', 'X', 'X', 'X', 'X', 'X', 'X', 'X', 'X', 'X', 'X', 'X', 'X', 'X', 'X', 'X', 'X', 'X', 'X', 'X', 'X', 'X', 'X', 'X', 'X', 'X', 'X', 'X', 'X', 'X', 'X', 'X', 'X', 'X', 'X', 'X', 'X', 'X', 'X', 'X', 'X', 'X', 'X', 'X', 'X', 'X', 'X', 'X', 'X', 'X', 'X', 'X', 'X', 'X', 'X', 'X', 'X', 'X', 'X', 'X', 'X', 'X', 'X', 'X', 'X', 'X', 'X', 'X', 'X', 'X', 'X', 'X', 'X', 'X', 'X', 'X', 'X', 'X', 'X', 'X', 'X', 'X', 'X', 'X', 'X', 'X', 'X', 'X', 'X', 'X', 'X', 'X', 'X', 'X', 'X', 'X', 'X', 'X', 'X', 'X', 'X', 'X', 'X', 'X', 'X', 'X', 'X', 'X', 'X', 'X', 'X', 'X', 'X', 'X', 'X', 'X', 'X', 'X', 'X', 'X', 'X', 'X', 'X', 'X', 'X', 'X', 'X', 'X', 'X', 'X', 'X', 'X', 'X', 'X', 'X', 'X', 'X', 'X', 'X', 'X', 'X', 'X', 'X', 'X', 'X', 'X', 'X', 'X', 'X', 'X', 'X', 'X', 'X', 'X', 'X', 'X', 'X', 'X', 'X', 'X', 'X', 'X', 'X', 'X', 'X', 'X', 'X', 'X', 'X', 'X', 'X', 'X', 'X', 'X', 'X', 'X', 'X', 'X', 'X', 'X', 'X', 'X', 'X', 'X', 'X', 'X', 'X', 'X', 'X', 'X', 'X']\n",
            "\n",
            "Example: 2\n",
            "Decoded Input Sentence: لكن جمهورية الصين التي كانت قد تأسست حديثاً اعتبرت أن منغوليا جزءٌ من أراضيها\n",
            "Original POS Tags: ['X', 'PART', 'PROPN', 'PROPN', 'PRON', 'AUX', 'PART', 'VERB', 'ADV', 'VERB', 'SCONJ', 'PROPN', 'NOUN', 'ADP', 'NOUN', 'PRON', 'PUNCT', 'X', 'X', 'X', 'X', 'X', 'X', 'X', 'X', 'X', 'X', 'X', 'X', 'X', 'X', 'X', 'X', 'X', 'X', 'X', 'X', 'X', 'X', 'X', 'X', 'X', 'X', 'X', 'X', 'X', 'X', 'X', 'X', 'X', 'X', 'X', 'X', 'X', 'X', 'X', 'X', 'X', 'X', 'X', 'X', 'X', 'X', 'X', 'X', 'X', 'X', 'X', 'X', 'X', 'X', 'X', 'X', 'X', 'X', 'X', 'X', 'X', 'X', 'X', 'X', 'X', 'X', 'X', 'X', 'X', 'X', 'X', 'X', 'X', 'X', 'X', 'X', 'X', 'X', 'X', 'X', 'X', 'X', 'X', 'X', 'X', 'X', 'X', 'X', 'X', 'X', 'X', 'X', 'X', 'X', 'X', 'X', 'X', 'X', 'X', 'X', 'X', 'X', 'X', 'X', 'X', 'X', 'X', 'X', 'X', 'X', 'X', 'X', 'X', 'X', 'X', 'X', 'X', 'X', 'X', 'X', 'X', 'X', 'X', 'X', 'X', 'X', 'X', 'X', 'X', 'X', 'X', 'X', 'X', 'X', 'X', 'X', 'X', 'X', 'X', 'X', 'X', 'X', 'X', 'X', 'X', 'X', 'X', 'X', 'X', 'X', 'X', 'X', 'X', 'X', 'X', 'X', 'X', 'X', 'X', 'X', 'X', 'X', 'X', 'X', 'X', 'X', 'X', 'X', 'X', 'X', 'X', 'X', 'X', 'X', 'X', 'X', 'X', 'X', 'X', 'X', 'X', 'X', 'X', 'X', 'X', 'X', 'X', 'X', 'X', 'X', 'X', 'X', 'X', 'X', 'X', 'X', 'X', 'X', 'X', 'X', 'X', 'X', 'X', 'X', 'X', 'X', 'X', 'X', 'X', 'X', 'X', 'X', 'X', 'X', 'X', 'X', 'X', 'X', 'X', 'X', 'X', 'X', 'X', 'X', 'X', 'X', 'X', 'X', 'X', 'X', 'X', 'X', 'X', 'X', 'X', 'X', 'X', 'X', 'X', 'X']\n",
            "\n",
            "Example: 3\n",
            "Decoded Input Sentence: كان إليوت يحضر جنازة والده في اليوم الذي أقيم فيه السباق\n",
            "Original POS Tags: ['X', 'AUX', 'PROPN', 'VERB', 'NOUN', 'NOUN', 'PRON', 'ADP', 'NOUN', 'PRON', 'VERB', 'ADP', 'PRON', 'NOUN', 'PUNCT', 'X', 'X', 'X', 'X', 'X', 'X', 'X', 'X', 'X', 'X', 'X', 'X', 'X', 'X', 'X', 'X', 'X', 'X', 'X', 'X', 'X', 'X', 'X', 'X', 'X', 'X', 'X', 'X', 'X', 'X', 'X', 'X', 'X', 'X', 'X', 'X', 'X', 'X', 'X', 'X', 'X', 'X', 'X', 'X', 'X', 'X', 'X', 'X', 'X', 'X', 'X', 'X', 'X', 'X', 'X', 'X', 'X', 'X', 'X', 'X', 'X', 'X', 'X', 'X', 'X', 'X', 'X', 'X', 'X', 'X', 'X', 'X', 'X', 'X', 'X', 'X', 'X', 'X', 'X', 'X', 'X', 'X', 'X', 'X', 'X', 'X', 'X', 'X', 'X', 'X', 'X', 'X', 'X', 'X', 'X', 'X', 'X', 'X', 'X', 'X', 'X', 'X', 'X', 'X', 'X', 'X', 'X', 'X', 'X', 'X', 'X', 'X', 'X', 'X', 'X', 'X', 'X', 'X', 'X', 'X', 'X', 'X', 'X', 'X', 'X', 'X', 'X', 'X', 'X', 'X', 'X', 'X', 'X', 'X', 'X', 'X', 'X', 'X', 'X', 'X', 'X', 'X', 'X', 'X', 'X', 'X', 'X', 'X', 'X', 'X', 'X', 'X', 'X', 'X', 'X', 'X', 'X', 'X', 'X', 'X', 'X', 'X', 'X', 'X', 'X', 'X', 'X', 'X', 'X', 'X', 'X', 'X', 'X', 'X', 'X', 'X', 'X', 'X', 'X', 'X', 'X', 'X', 'X', 'X', 'X', 'X', 'X', 'X', 'X', 'X', 'X', 'X', 'X', 'X', 'X', 'X', 'X', 'X', 'X', 'X', 'X', 'X', 'X', 'X', 'X', 'X', 'X', 'X', 'X', 'X', 'X', 'X', 'X', 'X', 'X', 'X', 'X', 'X', 'X', 'X', 'X', 'X', 'X', 'X', 'X', 'X', 'X', 'X', 'X', 'X', 'X', 'X', 'X', 'X', 'X', 'X', 'X', 'X', 'X', 'X', 'X', 'X']\n",
            "\n",
            "Example: 4\n",
            "Decoded Input Sentence: أحب أن ألعب بذلك وأنا أبحث دوماً عن مصادر الوحي التي تفي بذلك الغرض لأنه من الرائع جداً أن أصنع مجموعةً عندما أجد مصدراً للوحي\n",
            "Original POS Tags: ['X', 'VERB', 'ADP', 'NOUN', 'ADP', 'PRON', 'CCONJ', 'PRON', 'VERB', 'ADV', 'ADP', 'NOUN', 'NOUN', 'PRON', 'VERB', 'ADP', 'PRON', 'NOUN', 'ADP', 'SCONJ', 'PRON', 'ADP', 'NOUN', 'ADV', 'SCONJ', 'VERB', 'NOUN', 'ADP', 'VERB', 'NOUN', 'ADP', 'ADJ', 'PUNCT', 'X', 'X', 'X', 'X', 'X', 'X', 'X', 'X', 'X', 'X', 'X', 'X', 'X', 'X', 'X', 'X', 'X', 'X', 'X', 'X', 'X', 'X', 'X', 'X', 'X', 'X', 'X', 'X', 'X', 'X', 'X', 'X', 'X', 'X', 'X', 'X', 'X', 'X', 'X', 'X', 'X', 'X', 'X', 'X', 'X', 'X', 'X', 'X', 'X', 'X', 'X', 'X', 'X', 'X', 'X', 'X', 'X', 'X', 'X', 'X', 'X', 'X', 'X', 'X', 'X', 'X', 'X', 'X', 'X', 'X', 'X', 'X', 'X', 'X', 'X', 'X', 'X', 'X', 'X', 'X', 'X', 'X', 'X', 'X', 'X', 'X', 'X', 'X', 'X', 'X', 'X', 'X', 'X', 'X', 'X', 'X', 'X', 'X', 'X', 'X', 'X', 'X', 'X', 'X', 'X', 'X', 'X', 'X', 'X', 'X', 'X', 'X', 'X', 'X', 'X', 'X', 'X', 'X', 'X', 'X', 'X', 'X', 'X', 'X', 'X', 'X', 'X', 'X', 'X', 'X', 'X', 'X', 'X', 'X', 'X', 'X', 'X', 'X', 'X', 'X', 'X', 'X', 'X', 'X', 'X', 'X', 'X', 'X', 'X', 'X', 'X', 'X', 'X', 'X', 'X', 'X', 'X', 'X', 'X', 'X', 'X', 'X', 'X', 'X', 'X', 'X', 'X', 'X', 'X', 'X', 'X', 'X', 'X', 'X', 'X', 'X', 'X', 'X', 'X', 'X', 'X', 'X', 'X', 'X', 'X', 'X', 'X', 'X', 'X', 'X', 'X', 'X', 'X', 'X', 'X', 'X', 'X', 'X', 'X', 'X', 'X', 'X', 'X', 'X', 'X', 'X', 'X', 'X', 'X', 'X', 'X', 'X', 'X', 'X', 'X', 'X', 'X', 'X', 'X', 'X', 'X', 'X', 'X', 'X']\n",
            "\n",
            "Example: 5\n",
            "Decoded Input Sentence: كنت مجرد صبيٍ ذي حذاءٍ متسخ\n",
            "Original POS Tags: ['X', 'AUX', 'NOUN', 'NOUN', 'ADJ', 'NOUN', 'ADJ', 'PUNCT', 'X', 'X', 'X', 'X', 'X', 'X', 'X', 'X', 'X', 'X', 'X', 'X', 'X', 'X', 'X', 'X', 'X', 'X', 'X', 'X', 'X', 'X', 'X', 'X', 'X', 'X', 'X', 'X', 'X', 'X', 'X', 'X', 'X', 'X', 'X', 'X', 'X', 'X', 'X', 'X', 'X', 'X', 'X', 'X', 'X', 'X', 'X', 'X', 'X', 'X', 'X', 'X', 'X', 'X', 'X', 'X', 'X', 'X', 'X', 'X', 'X', 'X', 'X', 'X', 'X', 'X', 'X', 'X', 'X', 'X', 'X', 'X', 'X', 'X', 'X', 'X', 'X', 'X', 'X', 'X', 'X', 'X', 'X', 'X', 'X', 'X', 'X', 'X', 'X', 'X', 'X', 'X', 'X', 'X', 'X', 'X', 'X', 'X', 'X', 'X', 'X', 'X', 'X', 'X', 'X', 'X', 'X', 'X', 'X', 'X', 'X', 'X', 'X', 'X', 'X', 'X', 'X', 'X', 'X', 'X', 'X', 'X', 'X', 'X', 'X', 'X', 'X', 'X', 'X', 'X', 'X', 'X', 'X', 'X', 'X', 'X', 'X', 'X', 'X', 'X', 'X', 'X', 'X', 'X', 'X', 'X', 'X', 'X', 'X', 'X', 'X', 'X', 'X', 'X', 'X', 'X', 'X', 'X', 'X', 'X', 'X', 'X', 'X', 'X', 'X', 'X', 'X', 'X', 'X', 'X', 'X', 'X', 'X', 'X', 'X', 'X', 'X', 'X', 'X', 'X', 'X', 'X', 'X', 'X', 'X', 'X', 'X', 'X', 'X', 'X', 'X', 'X', 'X', 'X', 'X', 'X', 'X', 'X', 'X', 'X', 'X', 'X', 'X', 'X', 'X', 'X', 'X', 'X', 'X', 'X', 'X', 'X', 'X', 'X', 'X', 'X', 'X', 'X', 'X', 'X', 'X', 'X', 'X', 'X', 'X', 'X', 'X', 'X', 'X', 'X', 'X', 'X', 'X', 'X', 'X', 'X', 'X', 'X', 'X', 'X', 'X', 'X', 'X', 'X', 'X', 'X', 'X', 'X', 'X']\n",
            "\n"
          ]
        }
      ]
    },
    {
      "cell_type": "code",
      "source": [
        "# Remove padding tags and keep only existing tags for the words\n",
        "cleaned_test_tags = []\n",
        "for sentence_tags in decoded_test_tags:\n",
        "    cleaned_sentence_tags = [tag for tag in sentence_tags if tag != 'X']\n",
        "    cleaned_test_tags.append(cleaned_sentence_tags)\n",
        "\n",
        "# Printing the cleaned examples of decoded sentences and their tags\n",
        "for i in range(5):\n",
        "    print(\"Example:\", i+1)\n",
        "    print(\"Decoded Input Sentence:\", decoded_test_input[i])\n",
        "    print(\"Cleaned Original POS Tags:\", cleaned_test_tags[i])\n",
        "    print()\n"
      ],
      "metadata": {
        "colab": {
          "base_uri": "https://localhost:8080/"
        },
        "id": "f5OChQAWJGxH",
        "outputId": "06ac6f05-5d01-4774-c9f9-9ac8a97c19d5"
      },
      "execution_count": 57,
      "outputs": [
        {
          "output_type": "stream",
          "name": "stdout",
          "text": [
            "Example: 1\n",
            "Decoded Input Sentence: ثم زحف فيليب لضرب أعدائه الجنوبيين\n",
            "Cleaned Original POS Tags: ['PART', 'NOUN', 'PROPN', 'ADP', 'NOUN', 'NOUN', 'PRON', 'ADJ', 'PUNCT']\n",
            "\n",
            "Example: 2\n",
            "Decoded Input Sentence: لكن جمهورية الصين التي كانت قد تأسست حديثاً اعتبرت أن منغوليا جزءٌ من أراضيها\n",
            "Cleaned Original POS Tags: ['PART', 'PROPN', 'PROPN', 'PRON', 'AUX', 'PART', 'VERB', 'ADV', 'VERB', 'SCONJ', 'PROPN', 'NOUN', 'ADP', 'NOUN', 'PRON', 'PUNCT']\n",
            "\n",
            "Example: 3\n",
            "Decoded Input Sentence: كان إليوت يحضر جنازة والده في اليوم الذي أقيم فيه السباق\n",
            "Cleaned Original POS Tags: ['AUX', 'PROPN', 'VERB', 'NOUN', 'NOUN', 'PRON', 'ADP', 'NOUN', 'PRON', 'VERB', 'ADP', 'PRON', 'NOUN', 'PUNCT']\n",
            "\n",
            "Example: 4\n",
            "Decoded Input Sentence: أحب أن ألعب بذلك وأنا أبحث دوماً عن مصادر الوحي التي تفي بذلك الغرض لأنه من الرائع جداً أن أصنع مجموعةً عندما أجد مصدراً للوحي\n",
            "Cleaned Original POS Tags: ['VERB', 'ADP', 'NOUN', 'ADP', 'PRON', 'CCONJ', 'PRON', 'VERB', 'ADV', 'ADP', 'NOUN', 'NOUN', 'PRON', 'VERB', 'ADP', 'PRON', 'NOUN', 'ADP', 'SCONJ', 'PRON', 'ADP', 'NOUN', 'ADV', 'SCONJ', 'VERB', 'NOUN', 'ADP', 'VERB', 'NOUN', 'ADP', 'ADJ', 'PUNCT']\n",
            "\n",
            "Example: 5\n",
            "Decoded Input Sentence: كنت مجرد صبيٍ ذي حذاءٍ متسخ\n",
            "Cleaned Original POS Tags: ['AUX', 'NOUN', 'NOUN', 'ADJ', 'NOUN', 'ADJ', 'PUNCT']\n",
            "\n"
          ]
        }
      ]
    },
    {
      "cell_type": "markdown",
      "source": [
        "**Learning Curve**"
      ],
      "metadata": {
        "id": "Z833TqlVk2wV"
      }
    },
    {
      "cell_type": "code",
      "source": [
        "plt.plot(history.history['accuracy'])\n",
        "plt.plot(history.history['val_accuracy'])\n",
        "plt.title('model accuracy')\n",
        "plt.ylabel('accuracy')\n",
        "plt.xlabel('epoch')\n",
        "plt.legend(['train', 'test'], loc='upper left')\n",
        "plt.show()\n",
        "# summarize history for loss\n",
        "plt.plot(history.history['loss'])\n",
        "plt.plot(history.history['val_loss'])\n",
        "plt.title('model loss')\n",
        "plt.ylabel('loss')\n",
        "plt.xlabel('epoch')\n",
        "plt.legend(['train', 'test'], loc='upper left')\n",
        "plt.show()"
      ],
      "metadata": {
        "colab": {
          "base_uri": "https://localhost:8080/",
          "height": 927
        },
        "id": "_NS91HZwk6oO",
        "outputId": "3ff0ef2d-fdc7-4b87-f168-35cfeeeaed36"
      },
      "execution_count": 62,
      "outputs": [
        {
          "output_type": "display_data",
          "data": {
            "text/plain": [
              "<Figure size 640x480 with 1 Axes>"
            ],
            "image/png": "[encoded data removed]"
          },
          "metadata": {}
        },
        {
          "output_type": "display_data",
          "data": {
            "text/plain": [
              "<Figure size 640x480 with 1 Axes>"
            ],
            "image/png": "[encoded data removed]"
          },
          "metadata": {}
        }
      ]
    },
    {
      "cell_type": "markdown",
      "source": [
        "**Stanza Model Evaluation**"
      ],
      "metadata": {
        "id": "76V-D87L0Rmz"
      }
    },
    {
      "cell_type": "code",
      "source": [
        "from stanza.models.common.doc import Document\n",
        "\n",
        "test_sentences = decoded_test_input # List of Arabic sentences in your test set\n",
        "test_tags = cleaned_test_tags  # Corresponding list of POS tags for the test sentences\n",
        "\n",
        "# Process each sentence using Stanza and extract POS tags\n",
        "stanza_predictions = []\n",
        "for sentence in test_sentences:\n",
        "    doc = nlp(sentence)\n",
        "    stanza_tags = [word.upos for sent in doc.sentences for word in sent.words]\n",
        "    stanza_predictions.append(stanza_tags)\n",
        "\n",
        "# Now you can compare the Stanza predictions with your ground truth tags\n",
        "correct_predictions = 0\n",
        "total_predictions = 0\n",
        "\n",
        "for i in range(len(stanza_predictions)):\n",
        "    min_len = min(len(stanza_predictions[i]), len(test_tags[i]))\n",
        "    for j in range(min_len):\n",
        "        if stanza_predictions[i][j] == test_tags[i][j]:\n",
        "            correct_predictions += 1\n",
        "        total_predictions += 1\n",
        "\n",
        "accuracy = correct_predictions / total_predictions\n",
        "\n",
        "print(\"Accuracy: {:.2%}\".format(accuracy))\n"
      ],
      "metadata": {
        "colab": {
          "base_uri": "https://localhost:8080/"
        },
        "id": "D1XV4w8Z0bnR",
        "outputId": "0978388a-77c6-4f50-faca-93c8bc6e30f5"
      },
      "execution_count": 66,
      "outputs": [
        {
          "output_type": "stream",
          "name": "stdout",
          "text": [
            "Accuracy: 41.55%\n"
          ]
        }
      ]
    },
    {
      "cell_type": "markdown",
      "source": [
        " # NetworkX Representation"
      ],
      "metadata": {
        "id": "dulqLAEYedpc"
      }
    },
    {
      "cell_type": "code",
      "source": [
        "def create_graph(pos_tags):\n",
        "    Graph = nx.Graph()\n",
        "\n",
        "    # Add nodes for each unique POS tag\n",
        "    unique_pos = set(pos_tags)\n",
        "    for pos in unique_pos:\n",
        "        Graph.add_node(pos)\n",
        "\n",
        "    # Add edges between adjacent POS tags\n",
        "    for i in range(len(pos_tags)-1):\n",
        "        Graph.add_edge(pos_tags[i], pos_tags[i+1])\n",
        "\n",
        "\n",
        "    return Graph"
      ],
      "metadata": {
        "id": "76wqaIETjI-0"
      },
      "execution_count": 124,
      "outputs": []
    },
    {
      "cell_type": "markdown",
      "source": [
        "**Visualize the Network Graph**"
      ],
      "metadata": {
        "id": "Pl3auJTy2FpD"
      }
    },
    {
      "cell_type": "code",
      "source": [
        "def draw_graph(graph):\n",
        "    plt.figure(figsize=(20, 10))\n",
        "\n",
        "    pos = nx.spring_layout(graph)\n",
        "\n",
        "    # Increase the distance between nodes\n",
        "    pos = {node: (x, y + 2) for node, (x, y) in pos.items()}\n",
        "\n",
        "    labels = nx.get_node_attributes(graph, 'pos_tag')\n",
        "\n",
        "    # Modify node labels to handle Arabic text\n",
        "    node_labels = {node: f\"{get_display(arabic_reshaper.reshape(str(node[0])))}\\n({labels.get(node, node[1])})\" for node in graph.nodes()}\n",
        "\n",
        "    nx.draw(graph, pos, with_labels=True, labels=node_labels, font_size=15, node_color='lightblue', edge_color='gray', width=1, alpha=0.7, node_size=1500)\n",
        "    plt.title(\"Arabic Part Of Speech with NetworkX\", fontsize=20, fontweight='bold')\n",
        "    plt.axis('off')\n",
        "    plt.show()\n"
      ],
      "metadata": {
        "id": "TtLgBUEOcv7J"
      },
      "execution_count": 157,
      "outputs": []
    },
    {
      "cell_type": "code",
      "source": [
        "# Create and draw the graph\n",
        "graph = create_graph(pos_tags)\n",
        "draw_graph(graph)"
      ],
      "metadata": {
        "id": "gtVff0Tw2Lb7",
        "colab": {
          "base_uri": "https://localhost:8080/",
          "height": 663
        },
        "outputId": "2c352e48-5550-4a26-afb8-bc3b390a6713"
      },
      "execution_count": 158,
      "outputs": [
        {
          "output_type": "display_data",
          "data": {
            "text/plain": [
              "<Figure size 2000x1000 with 1 Axes>"
            ],
            "image/png": "[encoded data removed]"
          },
          "metadata": {}
        }
      ]
    }
  ]
}
